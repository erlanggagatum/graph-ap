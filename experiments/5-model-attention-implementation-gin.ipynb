{
 "cells": [
  {
   "cell_type": "code",
   "execution_count": 1,
   "metadata": {},
   "outputs": [],
   "source": [
    "import sys\n",
    "# caution: path[0] is reserved for script path (or '' in REPL)\n",
    "sys.path.insert(1, '../src')\n",
    "\n",
    "%load_ext autoreload\n",
    "%autoreload 2\n",
    "\n",
    "import torch\n",
    "import torch_geometric\n",
    "import networkx as nx\n",
    "import numpy as np\n",
    "import matplotlib.pyplot as plt\n",
    "\n",
    "\n",
    "from torch_geometric.datasets import TUDataset\n",
    "from preprocessing import data_transformation\n",
    "from similarity import calculate_similarity_matrix\n",
    "\n",
    "from model import GCN"
   ]
  },
  {
   "cell_type": "code",
   "execution_count": 2,
   "metadata": {},
   "outputs": [],
   "source": [
    "dataset = TUDataset(root='datasets/', name='MUTAG')\n",
    "torch.manual_seed(1234)\n",
    "dataset = dataset.shuffle()"
   ]
  },
  {
   "cell_type": "markdown",
   "metadata": {},
   "source": [
    "## Preprocessing"
   ]
  },
  {
   "cell_type": "markdown",
   "metadata": {},
   "source": [
    "#### Split: Train test validation"
   ]
  },
  {
   "cell_type": "markdown",
   "metadata": {},
   "source": [
    "```train_dataset```: for training model<br/>\n",
    "```val_dataset```: evaluate model for hyperparameter tunning<br/>\n",
    "```test_dataset```: testing model after complete training<br/>"
   ]
  },
  {
   "cell_type": "code",
   "execution_count": 3,
   "metadata": {},
   "outputs": [],
   "source": [
    "from torch_geometric.loader import DataLoader\n",
    "from torch_geometric.data import Data"
   ]
  },
  {
   "cell_type": "code",
   "execution_count": 4,
   "metadata": {},
   "outputs": [],
   "source": [
    "tr, ts, vl = 0.8, 0.1, 0.1\n",
    "dslen = len(dataset)\n",
    "tri = round(tr*dslen)\n",
    "tsi = round((tr+ts)*dslen)\n",
    "train_dataset = dataset[:tri]\n",
    "test_dataset = dataset[tri:tsi]\n",
    "val_dataset = dataset[tsi:]"
   ]
  },
  {
   "cell_type": "code",
   "execution_count": 5,
   "metadata": {},
   "outputs": [
    {
     "data": {
      "text/plain": [
       "tensor([1, 1, 0, 1, 0, 1, 1, 1, 0, 1, 1, 1, 1, 1, 0, 1, 1, 0, 1, 0, 1, 1, 0, 0,\n",
       "        1, 0, 1, 0, 1, 1, 1, 0, 1, 0, 1, 1, 0, 1, 1, 1, 1, 1, 0, 0, 1, 0, 1, 1,\n",
       "        0, 0, 1, 0, 1, 0, 1, 0, 1, 1, 1, 0, 1, 0, 1, 1, 1, 1, 1, 0, 1, 1, 1, 0,\n",
       "        0, 1, 1, 0, 1, 1, 0, 1, 1, 1, 1, 0, 1, 1, 1, 0, 1, 1, 1, 1, 1, 1, 1, 1,\n",
       "        1, 0, 0, 0, 1, 1, 1, 1, 0, 1, 1, 1, 1, 1, 1, 0, 1, 1, 1, 1, 1, 1, 0, 1,\n",
       "        1, 1, 1, 0, 0, 1, 1, 1, 0, 1, 0, 1, 0, 0, 0, 1, 1, 1, 0, 1, 0, 0, 0, 1,\n",
       "        1, 1, 0, 1, 1, 1, 0, 1, 0, 1, 1, 1, 1, 0, 1, 1, 1, 0, 1, 1, 0, 1, 0, 1,\n",
       "        0, 0, 0, 0, 1, 1, 0, 0, 1, 0, 1, 1, 1, 1, 1, 1, 1, 0, 0, 1])"
      ]
     },
     "execution_count": 5,
     "metadata": {},
     "output_type": "execute_result"
    }
   ],
   "source": [
    "dataset.y"
   ]
  },
  {
   "cell_type": "code",
   "execution_count": 6,
   "metadata": {},
   "outputs": [
    {
     "name": "stdout",
     "output_type": "stream",
     "text": [
      "150\n"
     ]
    },
    {
     "data": {
      "text/plain": [
       "tensor([1, 1, 0, 1, 0, 1, 1, 1, 0, 1, 1, 1, 1, 1, 0, 1, 1, 0, 1, 0, 1, 1, 0, 0,\n",
       "        1, 0, 1, 0, 1, 1, 1, 0, 1, 0, 1, 1, 0, 1, 1, 1, 1, 1, 0, 0, 1, 0, 1, 1,\n",
       "        0, 0, 1, 0, 1, 0, 1, 0, 1, 1, 1, 0, 1, 0, 1, 1, 1, 1, 1, 0, 1, 1, 1, 0,\n",
       "        0, 1, 1, 0, 1, 1, 0, 1, 1, 1, 1, 0, 1, 1, 1, 0, 1, 1, 1, 1, 1, 1, 1, 1,\n",
       "        1, 0, 0, 0, 1, 1, 1, 1, 0, 1, 1, 1, 1, 1, 1, 0, 1, 1, 1, 1, 1, 1, 0, 1,\n",
       "        1, 1, 1, 0, 0, 1, 1, 1, 0, 1, 0, 1, 0, 0, 0, 1, 1, 1, 0, 1, 0, 0, 0, 1,\n",
       "        1, 1, 0, 1, 1, 1])"
      ]
     },
     "execution_count": 6,
     "metadata": {},
     "output_type": "execute_result"
    }
   ],
   "source": [
    "print(len(train_dataset))\n",
    "train_dataset.y"
   ]
  },
  {
   "cell_type": "code",
   "execution_count": 7,
   "metadata": {},
   "outputs": [
    {
     "data": {
      "text/plain": [
       "tensor([0, 1, 0, 1, 1, 1, 1, 0, 1, 1, 1, 0, 1, 1, 0, 1, 0, 1, 0])"
      ]
     },
     "execution_count": 7,
     "metadata": {},
     "output_type": "execute_result"
    }
   ],
   "source": [
    "len(test_dataset)\n",
    "test_dataset.y"
   ]
  },
  {
   "cell_type": "code",
   "execution_count": 8,
   "metadata": {},
   "outputs": [
    {
     "data": {
      "text/plain": [
       "tensor([0, 0, 0, 1, 1, 0, 0, 1, 0, 1, 1, 1, 1, 1, 1, 1, 0, 0, 1])"
      ]
     },
     "execution_count": 8,
     "metadata": {},
     "output_type": "execute_result"
    }
   ],
   "source": [
    "len(val_dataset)\n",
    "val_dataset.y"
   ]
  },
  {
   "cell_type": "markdown",
   "metadata": {},
   "source": [
    "#### Batching"
   ]
  },
  {
   "cell_type": "code",
   "execution_count": 9,
   "metadata": {},
   "outputs": [],
   "source": [
    "# paper 128\n",
    "batch_size = 2\n",
    "\n",
    "train_loader = DataLoader(train_dataset, batch_size=batch_size, shuffle=False)\n",
    "val_loader = DataLoader(val_dataset, batch_size=batch_size, shuffle=False)\n",
    "test_loader = DataLoader(test_dataset, batch_size=batch_size, shuffle=False)"
   ]
  },
  {
   "cell_type": "markdown",
   "metadata": {},
   "source": [
    "## Building Model"
   ]
  },
  {
   "cell_type": "code",
   "execution_count": 10,
   "metadata": {},
   "outputs": [],
   "source": [
    "from torch_geometric.nn import GCNConv\n",
    "from torch_geometric.nn import GraphSAGE\n",
    "from torch_geometric.nn import GraphConv\n",
    "from torch_geometric.nn import GINConv\n",
    "# from torch_geometric.nn import GINConv\n",
    "from torch.nn import Linear, Sequential, ReLU, BatchNorm1d\n",
    "\n",
    "from torch_geometric.nn import global_mean_pool\n",
    "from torch_geometric.nn import global_add_pool\n",
    "import torch.nn.functional as F"
   ]
  },
  {
   "cell_type": "code",
   "execution_count": 11,
   "metadata": {},
   "outputs": [],
   "source": [
    "class Base(torch.nn.Module):\n",
    "    # merging type: o --> complement only, s --> substraction, c --> concatenation\n",
    "    def __init__(self, dataset, hidden_channels):\n",
    "        super(Base, self).__init__()\n",
    "        \n",
    "        # weight seed\n",
    "        torch.manual_seed(42)\n",
    "        nn1 = Sequential(Linear(dataset.num_node_features, hidden_channels), ReLU(), Linear(hidden_channels,hidden_channels))\n",
    "        self.conv1 = GINConv(nn1)\n",
    "        self.bn1 = BatchNorm1d(hidden_channels)\n",
    "        \n",
    "        nn2 = Sequential(Linear(hidden_channels, hidden_channels), ReLU(), Linear(hidden_channels,hidden_channels))\n",
    "        self.conv2 = GCNConv(nn2)\n",
    "        self.bn2 = BatchNorm1d(hidden_channels)\n",
    "        \n",
    "        \n",
    "        # classification layer        \n",
    "        self.lin = Linear(hidden_channels, hidden_channels)\n",
    "        self.lin2 = Linear(hidden_channels, dataset.num_classes)\n",
    "\n",
    "    def forward(self, x, edge_index, batch):\n",
    "        # Embed original\n",
    "        embedding = self.conv1(x, edge_index)\n",
    "        embedding = embedding.relu()\n",
    "        embedding = self.conv2(embedding, edge_index)\n",
    "        embedding = embedding.relu()\n",
    "        embedding = self.conv3(embedding, edge_index)\n",
    "        embedding = embedding.relu()\n",
    "        # subgraph_embedding = subgraph_embedding.relu()\n",
    "        \n",
    "        embedding = global_mean_pool(embedding, batch)\n",
    "        h = self.lin(embedding)\n",
    "        h = F.relu(h)\n",
    "        h = F.dropout(h, p=0.3, training=self.training)\n",
    "        h = self.lin2(h)\n",
    "        \n",
    "        return embedding, h"
   ]
  },
  {
   "cell_type": "markdown",
   "metadata": {},
   "source": [
    "#### Train"
   ]
  },
  {
   "cell_type": "code",
   "execution_count": null,
   "metadata": {},
   "outputs": [],
   "source": []
  },
  {
   "cell_type": "markdown",
   "metadata": {},
   "source": [
    "### Experiment Model"
   ]
  },
  {
   "cell_type": "code",
   "execution_count": 12,
   "metadata": {},
   "outputs": [],
   "source": [
    "from sklearn.cluster import AffinityPropagation"
   ]
  },
  {
   "cell_type": "markdown",
   "metadata": {},
   "source": [
    "#### Model modification"
   ]
  },
  {
   "cell_type": "code",
   "execution_count": 13,
   "metadata": {},
   "outputs": [],
   "source": [
    "# paper 128\n",
    "batch_size = 64\n",
    "\n",
    "train_loader = DataLoader(train_dataset, batch_size=batch_size, shuffle=False)\n",
    "val_loader = DataLoader(val_dataset, batch_size=batch_size, shuffle=False)\n",
    "test_loader = DataLoader(test_dataset, batch_size=batch_size, shuffle=False)\n",
    "\n",
    "# batch1 = next(iter(train_loader))"
   ]
  },
  {
   "cell_type": "code",
   "execution_count": 19,
   "metadata": {},
   "outputs": [],
   "source": [
    "\n",
    "\n",
    "from similarity import calculate_similarity_matrix, testt\n",
    "\n",
    "\n",
    "# AP Clustering\n",
    "from sklearn.cluster import AffinityPropagation\n",
    "\n",
    "from torch_geometric.nn import global_mean_pool\n",
    "from torch_geometric.nn import global_max_pool\n",
    "from torch_geometric.nn import GINConv, global_add_pool\n",
    "from torch.nn import Linear, Sequential, ReLU, BatchNorm1d\n",
    "\n",
    "import torch.nn.functional as F\n",
    "\n",
    "class Experiment(torch.nn.Module):\n",
    "    # merging type: o --> complement only, s --> substraction, c --> concatenation\n",
    "    def __init__(self, dataset, hidden_channels, k = 1):\n",
    "        super(Experiment, self).__init__()\n",
    "        \n",
    "        # save number of subgraphs, default 1\n",
    "        self.k_subgraph = k\n",
    "        \n",
    "        # weight seed\n",
    "        torch.manual_seed(42)\n",
    "        nn1 = Sequential(Linear(dataset.num_node_features, hidden_channels), ReLU(), Linear(hidden_channels,hidden_channels))\n",
    "        self.conv1 = GINConv(nn1)\n",
    "        self.bn1 = BatchNorm1d(hidden_channels)\n",
    "        \n",
    "        nn2 = Sequential(Linear(hidden_channels, hidden_channels), ReLU(), Linear(hidden_channels,hidden_channels))\n",
    "        self.conv2 = GINConv(nn2)\n",
    "        self.bn2 = BatchNorm1d(hidden_channels)\n",
    "        \n",
    "        # embeddings for subgraph\n",
    "        self.conv4 = GCNConv(hidden_channels, hidden_channels)\n",
    "        self.conv5 = GCNConv(hidden_channels, hidden_channels)\n",
    "        \n",
    "        # attention layer\n",
    "        self.query_layer = Linear(hidden_channels,hidden_channels)\n",
    "        self.key_layer = Linear(hidden_channels,hidden_channels)\n",
    "        self.value_layer = Linear(hidden_channels,hidden_channels)\n",
    "        \n",
    "        # classification layer\n",
    "        self.lin = Linear(hidden_channels*2, hidden_channels)\n",
    "        self.lin2 = Linear(hidden_channels, dataset.num_classes)\n",
    "\n",
    "    def forward(self, x, edge_index, batch, ptr):\n",
    "        # Embed original\n",
    "        # embedding = self.conv1(x, edge_index)\n",
    "        # embedding = embedding.relu()\n",
    "        # embedding = self.conv2(embedding, edge_index)\n",
    "                \n",
    "        embedding = F.relu(self.conv1(x, edge_index))\n",
    "        embedding = self.bn1(embedding)\n",
    "        embedding = F.relu(self.conv2(embedding, edge_index))\n",
    "        embedding = self.bn2(embedding)\n",
    "        \n",
    "        # generate subgraph based on embeddings\n",
    "        feature_emb = embedding.detach()\n",
    "        \n",
    "        subgraph_edge_index, communities, S, batch_communities = self.subgraph_generator(feature_emb, edge_index, batch, ptr)\n",
    "        subgraph_embedding = self.conv4(embedding, subgraph_edge_index)\n",
    "        subgraph_embedding = subgraph_embedding.relu()\n",
    "        subgraph_embedding = self.conv5(subgraph_embedding, subgraph_edge_index)\n",
    "        \n",
    "        # apply readout layer/pooling for each subgraphs\n",
    "        subgraph_pool_embedding = self.subgraph_pooling(subgraph_embedding, communities, batch, ptr, batch_communities)\n",
    "        # print(len(subgraph_pool_embedding))\n",
    "        # apply selective (top k) attention\n",
    "        topk_subgraph_embedding = self.selectk_subgraph(embedding, subgraph_pool_embedding, self.k_subgraph)\n",
    "        \n",
    "        # readout layer for original embedding\n",
    "        embedding = global_mean_pool(embedding, batch)\n",
    "                \n",
    "        combined_embeddings = torch.cat((embedding, topk_subgraph_embedding.view(len(embedding), -1)), 1)\n",
    "        \n",
    "        \n",
    "        # h = F.dropout(combined_embeddings, p=0.3, training=self.training)\n",
    "        h = self.lin(combined_embeddings)\n",
    "        h = F.relu(h)\n",
    "        h = F.dropout(h, p=0.3, training=self.training)\n",
    "        h = self.lin2(h)\n",
    "        \n",
    "        return embedding, h, S, communities, topk_subgraph_embedding.view(len(embedding), -1)\n",
    "    \n",
    "    # checked\n",
    "    def selectk_subgraph(self, embs, sub_embs, k = 1):\n",
    "        # calculate attention and select top k subgraph\n",
    "        \n",
    "        topk_subgraphs_all = []\n",
    "\n",
    "        for i, (emb, sub_emb) in enumerate(zip(embs, sub_embs)):\n",
    "            sub = torch.tensor(sub_emb)\n",
    "            sub = sub.to(torch.float32)\n",
    "\n",
    "            # transform\n",
    "            query = self.query_layer(emb)\n",
    "            key = self.key_layer(sub)\n",
    "            value = self.value_layer(sub)\n",
    "\n",
    "            # att score\n",
    "            attention_score = torch.matmul(query, key.transpose(0,1))\n",
    "            attention_weight = F.softmax(attention_score, dim=0)\n",
    "            \n",
    "            # select topk\n",
    "            topk_subgraph_embeddings = None\n",
    "            \n",
    "            if (k <= len(sub)):\n",
    "                topk_scores, topk_indices = torch.topk(attention_weight, k)\n",
    "                topk_subgraph_embeddings = sub[topk_indices]\n",
    "            else:\n",
    "                print('too big')\n",
    "                \n",
    "            topk_subgraphs_all.append(topk_subgraph_embeddings)\n",
    "        \n",
    "        return torch.stack(topk_subgraphs_all)\n",
    "    \n",
    "    \n",
    "    def subgraph_generator(self, embeddings, batch_edge_index, batch, ptr):\n",
    "        '''\n",
    "        Return subgraph_edge_index (edge_index of created subgraph)\n",
    "        '''\n",
    "        graph_counter = 0\n",
    "        edge_index = [[],[]]\n",
    "        subgraph_edge_index = [[],[]]\n",
    "        # Gs = []\n",
    "        sub_created = False\n",
    "        graph_bound = {}\n",
    "        all_communities = []\n",
    "        batch_communities = {}\n",
    "        S = []\n",
    "\n",
    "        for i in range(len(ptr)-1):\n",
    "            graph_bound[i] = [ptr[i].item(), ptr[i+1].item()]\n",
    "        \n",
    "        for i, (src, dst) in enumerate(zip(batch_edge_index[0], batch_edge_index[1])):\n",
    "            lower_bound = graph_bound[graph_counter][0]\n",
    "            upper_bound = graph_bound[graph_counter][1]\n",
    "            if ((src >= lower_bound and src < upper_bound) or\n",
    "                (dst >= lower_bound and dst < upper_bound)):\n",
    "                \n",
    "                edge_index[0].append(src - lower_bound)\n",
    "                edge_index[1].append(dst - lower_bound)\n",
    "            else:\n",
    "                sub_created = True\n",
    "                \n",
    "            if (i == len(batch_edge_index[0]) - 1) or sub_created:\n",
    "                sub_created = False\n",
    "                \n",
    "                embs = []\n",
    "                # make new graph\n",
    "                for i, (b, emb) in enumerate(zip(batch, embeddings)):\n",
    "                    if (b == graph_counter):\n",
    "                        embs.append(emb)\n",
    "                \n",
    "                G = data_transformation(edge_index, embs)\n",
    "                # dont need this at the moment\n",
    "                # Gs.append(G)\n",
    "                \n",
    "                # Calculate similarity matrix\n",
    "                S = calculate_similarity_matrix(G)\n",
    "                \n",
    "                # AP Clustering        \n",
    "                clustering = AffinityPropagation(affinity='precomputed', damping=0.8, random_state=42, convergence_iter=15, max_iter=1000)\n",
    "                clustering.fit(S)\n",
    "                \n",
    "                \n",
    "                # Get community\n",
    "                communities = {}\n",
    "                for lab in clustering.labels_:\n",
    "                    communities[lab] = []\n",
    "                    all_communities.append(lab)\n",
    "                for nd, clust in enumerate(clustering.labels_):\n",
    "                    communities[clust].append(nd)\n",
    "                \n",
    "                edge_index = [[],[]]\n",
    "                batch_communities[graph_counter] = communities\n",
    "                \n",
    "                graph_counter+=1\n",
    "                \n",
    "                # Make subgraph edge_index\n",
    "                for c in communities:\n",
    "                    w = G.subgraph(communities[c])\n",
    "                    for sub in w.edges:\n",
    "                        subgraph_edge_index[0].append(sub[0] + lower_bound)\n",
    "                        subgraph_edge_index[1].append(sub[1] + lower_bound)\n",
    "                \n",
    "        \n",
    "        # print('batch communities', batch_communities)\n",
    "        return torch.tensor(subgraph_edge_index), all_communities, S, batch_communities\n",
    "    \n",
    "        \n",
    "    # check autograd (done)\n",
    "    def subgraph_pooling(self, embeddings, communities, batch, ptr, batch_communities, pool_type = 'mean'):\n",
    "        # batch communities: batch (or graph in this batch) -> communities -> member        \n",
    "        all_emb_pool = []\n",
    "        \n",
    "        # LOOP THROUGH BATCH\n",
    "        for b in batch_communities:\n",
    "            \n",
    "            # initialize array\n",
    "            emb_pool = [None] * len(batch_communities[b])\n",
    "            for comm in batch_communities[b]:\n",
    "                emb_temp = []\n",
    "\n",
    "                for member in batch_communities[b][comm]:\n",
    "                    index_used = member + ptr[b].item()\n",
    "                    emb_temp.append(embeddings[index_used])\n",
    "\n",
    "                # Pooling per sub graph using PyTorch\n",
    "                emb_temp_tensor = torch.stack(emb_temp)\n",
    "                if pool_type == 'mean': # mean pool\n",
    "                    emb_pool[comm] = torch.mean(emb_temp_tensor, dim=0)\n",
    "                elif pool_type == 'add': # add pool\n",
    "                    emb_pool[comm] = torch.sum(emb_temp_tensor, dim=0)\n",
    "                else:\n",
    "                    print('TODO: fill later')\n",
    "                    \n",
    "            all_emb_pool.append(torch.stack(emb_pool))\n",
    "        return all_emb_pool\n",
    "\n",
    "# experiment = Experiment(dataset, 64)\n",
    "# emb, h, S, communities, sub_emb = experiment(batch1.x, batch1.edge_index, batch1.batch, batch1.ptr)"
   ]
  },
  {
   "cell_type": "code",
   "execution_count": 20,
   "metadata": {},
   "outputs": [],
   "source": [
    "def train_base(model, loader, experiment_mode=False):\n",
    "    criterion = torch.nn.CrossEntropyLoss()\n",
    "    optimizer = torch.optim.Adam(model.parameters(), lr=0.001)\n",
    "    \n",
    "    model.train()\n",
    "    total_loss = 0\n",
    "    \n",
    "    for data in loader:\n",
    "        optimizer.zero_grad()\n",
    "        if experiment_mode:\n",
    "            emb, h, S, communities, sub_emb = model(data.x, data.edge_index, data.batch, data.ptr)\n",
    "        else:\n",
    "            emb, h = model(data.x, data.edge_index, data.batch)\n",
    "        loss = criterion(h, data.y)\n",
    "        total_loss += loss.item()\n",
    "        \n",
    "        loss.backward()\n",
    "        optimizer.step()\n",
    "\n",
    "    return loss / len(loader)\n",
    "\n",
    "@torch.no_grad()\n",
    "def test_base(model, loader, experiment_mode=False):\n",
    "    model.eval()\n",
    "    correct = 0\n",
    "    for data in loader:\n",
    "        if experiment_mode:\n",
    "            emb, h, S, communities, sub_emb = model(data.x, data.edge_index, data.batch, data.ptr)\n",
    "        else:\n",
    "            emb, h = model(data.x, data.edge_index, data.batch)\n",
    "        pred = h.argmax(dim=1)\n",
    "        correct += int((pred == data.y).sum())\n",
    "    return correct/len(loader.dataset)"
   ]
  },
  {
   "cell_type": "code",
   "execution_count": 21,
   "metadata": {},
   "outputs": [],
   "source": [
    "def expTrain(train_loader, val_loader, test_loader, epoch = 5):\n",
    "    import warnings\n",
    "    warnings.filterwarnings(\"ignore\", category=UserWarning) \n",
    "\n",
    "    experiment = Experiment(dataset, 64)\n",
    "    loss_history = []\n",
    "    train_acc_history = []\n",
    "    val_acc_history = []\n",
    "    test_acc_history = []\n",
    "    \n",
    "    # Train\n",
    "    print('process training')\n",
    "    for _ in range(epoch):\n",
    "        loss = round(train_base(experiment, train_loader, True).item(), 5)\n",
    "        train_acc = round(test_base(experiment, train_loader, True), 5)\n",
    "        val_acc = round(test_base(experiment, val_loader, True), 5)\n",
    "        test_acc = test_base(experiment, test_loader, True)\n",
    "        \n",
    "        loss_history.append(loss)\n",
    "        train_acc_history.append(train_acc)\n",
    "        val_acc_history.append(val_acc)\n",
    "        test_acc_history.append(test_acc)\n",
    "        \n",
    "        print(f'epoch {_+1}; loss: {loss}; train_acc: {train_acc}; val_acc: {val_acc}')\n",
    "\n",
    "    # Test\n",
    "    print('process testing')\n",
    "    # test = test_base(experiment, test_loader, True)\n",
    "    print(f'Accuracy: {test_acc}')\n",
    "    \n",
    "    return [loss_history, train_acc_history, val_acc_history, test_acc_history]\n",
    "\n",
    "# expTrain(train_loader, val_loader, test_loader, epoch = 100)"
   ]
  },
  {
   "cell_type": "markdown",
   "metadata": {},
   "source": [
    "#### Cross validation 10"
   ]
  },
  {
   "cell_type": "code",
   "execution_count": 22,
   "metadata": {},
   "outputs": [],
   "source": [
    "from sklearn.model_selection import KFold"
   ]
  },
  {
   "cell_type": "code",
   "execution_count": 23,
   "metadata": {},
   "outputs": [],
   "source": [
    "def baseTrain(train_loader, val_loader, test_loader, epoch = 10):\n",
    "    base = Base(dataset, 64)\n",
    "\n",
    "    # Train\n",
    "    for _ in range(epoch):\n",
    "        loss = round(train_base(base, train_loader).item(), 5)\n",
    "        train_acc = round(test_base(base, train_loader), 5)\n",
    "        val_acc = round(test_base(base, val_loader), 5)\n",
    "        \n",
    "        print(f'epoch {_}; loss: {loss}; train_acc: {train_acc}; val_acc: {val_acc}; test: {round(test_base(base, test_loader), 2)}')\n",
    "\n",
    "    # Test\n",
    "    test = test_base(base, test_loader)\n",
    "    print(f'Accuracy: {test}')"
   ]
  },
  {
   "cell_type": "code",
   "execution_count": 24,
   "metadata": {},
   "outputs": [
    {
     "name": "stdout",
     "output_type": "stream",
     "text": [
      "tensor([1, 1, 0, 1, 0, 1, 1, 1, 0, 1, 1, 1, 1, 1, 0, 1, 1, 0, 1, 0, 1, 1, 0, 0,\n",
      "        1, 0, 1, 0, 1, 1, 1, 0, 1, 0, 1, 1, 0, 1, 1, 1, 1, 1, 0, 0, 1, 0, 1, 1,\n",
      "        0, 0, 1, 0, 1, 0, 1, 0, 1, 1, 1, 0, 1, 0, 1, 1, 1, 1, 1, 0, 1, 1, 1, 0,\n",
      "        0, 1, 1, 0, 1, 1, 0, 1, 1, 1, 1, 0, 1, 1, 1, 0, 1, 1, 1, 1, 1, 1, 1, 1,\n",
      "        1, 0, 0, 0, 1, 1, 1, 1, 0, 1, 1, 1, 1, 1, 1, 0, 1, 1, 1, 1, 1, 1, 0, 1,\n",
      "        1, 1, 1, 0, 0, 1, 1, 1, 0, 1, 0, 1, 0, 0, 0, 1, 1, 1, 0, 1, 0, 0, 0, 1,\n",
      "        1, 1, 0, 1, 1, 1, 0, 1, 0, 1, 1, 1, 1, 0, 1, 1, 1, 0, 1, 1, 0, 1, 0, 1,\n",
      "        0])\n",
      "tensor([0, 0, 0, 1, 1, 0, 0, 1, 0, 1, 1, 1, 1, 1, 1, 1, 0, 0, 1])\n"
     ]
    }
   ],
   "source": [
    "train_dataset = dataset[:round(len(dataset) * 0.9)]\n",
    "test_dataset = dataset[round(len(dataset) * 0.9):]\n",
    "print(train_dataset.y)\n",
    "print(test_dataset.y)"
   ]
  },
  {
   "cell_type": "code",
   "execution_count": 25,
   "metadata": {},
   "outputs": [],
   "source": [
    "from torch_geometric.nn import GCNConv\n",
    "from torch_geometric.nn import GraphSAGE\n",
    "from torch_geometric.nn import GraphConv\n",
    "from torch_geometric.nn import GINConv\n",
    "# from torch_geometric.nn import GINConv\n",
    "from torch.nn import Linear, Sequential, ReLU, BatchNorm1d\n",
    "\n",
    "from torch_geometric.nn import global_mean_pool\n",
    "from torch_geometric.nn import global_add_pool\n",
    "import torch.nn.functional as F"
   ]
  },
  {
   "cell_type": "code",
   "execution_count": 26,
   "metadata": {},
   "outputs": [],
   "source": [
    "class Base(torch.nn.Module):\n",
    "    # merging type: o --> complement only, s --> substraction, c --> concatenation\n",
    "    def __init__(self, dataset, hidden_channels):\n",
    "        super(Base, self).__init__()\n",
    "        \n",
    "        # weight seed\n",
    "        torch.manual_seed(42)\n",
    "        nn1 = Sequential(Linear(dataset.num_node_features, hidden_channels), ReLU(), Linear(hidden_channels,hidden_channels))\n",
    "        self.conv1 = GINConv(nn1)\n",
    "        self.bn1 = BatchNorm1d(hidden_channels)\n",
    "        \n",
    "        nn2 = Sequential(Linear(hidden_channels, hidden_channels), ReLU(), Linear(hidden_channels,hidden_channels))\n",
    "        self.conv2 = GINConv(nn2)\n",
    "        self.bn2 = BatchNorm1d(hidden_channels)\n",
    "        \n",
    "        \n",
    "        # classification layer        \n",
    "        self.lin = Linear(hidden_channels, hidden_channels)\n",
    "        self.lin2 = Linear(hidden_channels, dataset.num_classes)\n",
    "\n",
    "    def forward(self, x, edge_index, batch):\n",
    "        # Embed original\n",
    "        embedding = F.relu(self.conv1(x, edge_index))\n",
    "        embedding = self.bn1(embedding)\n",
    "        embedding = F.relu(self.conv2(embedding, edge_index))\n",
    "        embedding = self.bn2(embedding)\n",
    "        \n",
    "        embedding = global_add_pool(embedding, batch)\n",
    "        h = self.lin(embedding)\n",
    "        h = F.relu(h)\n",
    "        h = F.dropout(h, p=0.3, training=self.training)\n",
    "        h = self.lin2(h)\n",
    "        \n",
    "        return embedding, h"
   ]
  },
  {
   "cell_type": "code",
   "execution_count": 28,
   "metadata": {},
   "outputs": [
    {
     "name": "stdout",
     "output_type": "stream",
     "text": [
      "Fold 0/10\n",
      "=== Base model vs Experiment ===\n",
      "epoch 0; loss: 0.30811; train_acc: 0.74342; val_acc: 0.52941; test: 0.84\n",
      "epoch 1; loss: 0.1654; train_acc: 0.32895; val_acc: 0.29412; test: 0.42\n",
      "epoch 2; loss: 0.08366; train_acc: 0.32895; val_acc: 0.29412; test: 0.42\n",
      "epoch 3; loss: 0.10793; train_acc: 0.32895; val_acc: 0.29412; test: 0.42\n",
      "epoch 4; loss: 0.11648; train_acc: 0.32895; val_acc: 0.29412; test: 0.42\n",
      "epoch 5; loss: 0.11203; train_acc: 0.32895; val_acc: 0.29412; test: 0.42\n",
      "epoch 6; loss: 0.11557; train_acc: 0.32895; val_acc: 0.29412; test: 0.42\n",
      "epoch 7; loss: 0.18746; train_acc: 0.32895; val_acc: 0.29412; test: 0.42\n",
      "epoch 8; loss: 0.13146; train_acc: 0.32895; val_acc: 0.29412; test: 0.42\n",
      "epoch 9; loss: 0.11096; train_acc: 0.32895; val_acc: 0.29412; test: 0.42\n",
      "epoch 10; loss: 0.09266; train_acc: 0.32895; val_acc: 0.29412; test: 0.42\n",
      "epoch 11; loss: 0.10302; train_acc: 0.32895; val_acc: 0.29412; test: 0.42\n",
      "epoch 12; loss: 0.05235; train_acc: 0.47368; val_acc: 0.41176; test: 0.53\n",
      "epoch 13; loss: 0.18172; train_acc: 0.32895; val_acc: 0.29412; test: 0.42\n",
      "epoch 14; loss: 0.06163; train_acc: 0.55921; val_acc: 0.47059; test: 0.63\n",
      "epoch 15; loss: 0.09274; train_acc: 0.78947; val_acc: 0.64706; test: 0.89\n",
      "epoch 16; loss: 0.06189; train_acc: 0.81579; val_acc: 0.82353; test: 0.79\n",
      "epoch 17; loss: 0.04471; train_acc: 0.82237; val_acc: 0.70588; test: 0.95\n",
      "epoch 18; loss: 0.11243; train_acc: 0.84868; val_acc: 0.82353; test: 0.89\n",
      "epoch 19; loss: 0.11782; train_acc: 0.54605; val_acc: 0.47059; test: 0.42\n",
      "epoch 20; loss: 0.12072; train_acc: 0.79605; val_acc: 0.82353; test: 0.68\n",
      "epoch 21; loss: 0.07556; train_acc: 0.91447; val_acc: 0.88235; test: 0.84\n",
      "epoch 22; loss: 0.11528; train_acc: 0.88816; val_acc: 0.88235; test: 0.79\n",
      "epoch 23; loss: 0.06763; train_acc: 0.88158; val_acc: 0.76471; test: 0.68\n",
      "epoch 24; loss: 0.07533; train_acc: 0.875; val_acc: 0.88235; test: 0.74\n",
      "epoch 25; loss: 0.05077; train_acc: 0.85526; val_acc: 0.82353; test: 0.95\n",
      "epoch 26; loss: 0.10211; train_acc: 0.90789; val_acc: 0.82353; test: 0.79\n",
      "epoch 27; loss: 0.13977; train_acc: 0.63158; val_acc: 0.58824; test: 0.53\n",
      "epoch 28; loss: 0.08408; train_acc: 0.88158; val_acc: 0.82353; test: 0.68\n",
      "epoch 29; loss: 0.11672; train_acc: 0.82237; val_acc: 0.70588; test: 0.79\n",
      "epoch 30; loss: 0.07006; train_acc: 0.88816; val_acc: 0.82353; test: 0.89\n",
      "epoch 31; loss: 0.16261; train_acc: 0.88816; val_acc: 0.76471; test: 0.79\n",
      "epoch 32; loss: 0.03763; train_acc: 0.93421; val_acc: 0.88235; test: 0.89\n",
      "epoch 33; loss: 0.09321; train_acc: 0.88816; val_acc: 0.82353; test: 0.79\n",
      "epoch 34; loss: 0.06419; train_acc: 0.88816; val_acc: 0.82353; test: 0.84\n",
      "epoch 35; loss: 0.07582; train_acc: 0.88816; val_acc: 0.82353; test: 0.79\n",
      "epoch 36; loss: 0.1538; train_acc: 0.94737; val_acc: 0.82353; test: 0.79\n",
      "epoch 37; loss: 0.0509; train_acc: 0.88816; val_acc: 0.76471; test: 0.63\n",
      "epoch 38; loss: 0.10232; train_acc: 0.90789; val_acc: 0.70588; test: 0.84\n",
      "epoch 39; loss: 0.06451; train_acc: 0.94079; val_acc: 0.82353; test: 0.79\n",
      "epoch 40; loss: 0.02825; train_acc: 0.90789; val_acc: 0.88235; test: 0.79\n",
      "epoch 41; loss: 0.06994; train_acc: 0.93421; val_acc: 0.94118; test: 0.79\n",
      "epoch 42; loss: 0.0253; train_acc: 0.81579; val_acc: 0.64706; test: 0.74\n",
      "epoch 43; loss: 0.07709; train_acc: 0.90789; val_acc: 0.76471; test: 0.84\n",
      "epoch 44; loss: 0.06957; train_acc: 0.92105; val_acc: 0.82353; test: 0.79\n",
      "epoch 45; loss: 0.04843; train_acc: 0.84211; val_acc: 0.76471; test: 0.58\n",
      "epoch 46; loss: 0.13387; train_acc: 0.89474; val_acc: 0.82353; test: 0.79\n",
      "epoch 47; loss: 0.03865; train_acc: 0.92105; val_acc: 0.88235; test: 0.63\n",
      "epoch 48; loss: 0.02428; train_acc: 0.91447; val_acc: 0.76471; test: 0.84\n",
      "epoch 49; loss: 0.04746; train_acc: 0.92105; val_acc: 0.88235; test: 0.79\n",
      "Accuracy: 0.7894736842105263\n",
      "process training\n",
      "epoch 1; loss: 0.23313; train_acc: 0.32895; val_acc: 0.29412\n",
      "epoch 2; loss: 0.20897; train_acc: 0.32895; val_acc: 0.29412\n",
      "epoch 3; loss: 0.19618; train_acc: 0.32895; val_acc: 0.29412\n",
      "epoch 4; loss: 0.17975; train_acc: 0.32895; val_acc: 0.29412\n",
      "epoch 5; loss: 0.16031; train_acc: 0.32895; val_acc: 0.29412\n",
      "epoch 6; loss: 0.15034; train_acc: 0.32895; val_acc: 0.29412\n",
      "epoch 7; loss: 0.13203; train_acc: 0.32895; val_acc: 0.29412\n",
      "epoch 8; loss: 0.12846; train_acc: 0.32895; val_acc: 0.29412\n",
      "epoch 9; loss: 0.18157; train_acc: 0.47368; val_acc: 0.41176\n",
      "epoch 10; loss: 0.13781; train_acc: 0.5; val_acc: 0.52941\n",
      "epoch 11; loss: 0.12898; train_acc: 0.78947; val_acc: 0.64706\n",
      "epoch 12; loss: 0.1529; train_acc: 0.63158; val_acc: 0.52941\n",
      "epoch 13; loss: 0.09506; train_acc: 0.81579; val_acc: 0.70588\n",
      "epoch 14; loss: 0.12217; train_acc: 0.84211; val_acc: 0.82353\n",
      "epoch 15; loss: 0.11393; train_acc: 0.84868; val_acc: 0.82353\n",
      "epoch 16; loss: 0.06306; train_acc: 0.875; val_acc: 0.82353\n",
      "epoch 17; loss: 0.08379; train_acc: 0.84868; val_acc: 0.82353\n",
      "epoch 18; loss: 0.17117; train_acc: 0.84211; val_acc: 0.82353\n",
      "epoch 19; loss: 0.13974; train_acc: 0.86842; val_acc: 0.70588\n",
      "epoch 20; loss: 0.06703; train_acc: 0.78289; val_acc: 0.76471\n",
      "epoch 21; loss: 0.15762; train_acc: 0.84211; val_acc: 0.88235\n",
      "epoch 22; loss: 0.06393; train_acc: 0.84868; val_acc: 0.76471\n",
      "epoch 23; loss: 0.05454; train_acc: 0.875; val_acc: 0.88235\n",
      "epoch 24; loss: 0.09628; train_acc: 0.81579; val_acc: 0.82353\n",
      "epoch 25; loss: 0.13547; train_acc: 0.58553; val_acc: 0.41176\n",
      "epoch 26; loss: 0.09508; train_acc: 0.79605; val_acc: 0.76471\n",
      "epoch 27; loss: 0.05482; train_acc: 0.86842; val_acc: 0.76471\n",
      "epoch 28; loss: 0.04591; train_acc: 0.875; val_acc: 0.82353\n",
      "epoch 29; loss: 0.0569; train_acc: 0.89474; val_acc: 0.88235\n",
      "epoch 30; loss: 0.07925; train_acc: 0.88816; val_acc: 0.82353\n",
      "epoch 31; loss: 0.03696; train_acc: 0.84868; val_acc: 0.76471\n",
      "epoch 32; loss: 0.11975; train_acc: 0.875; val_acc: 0.76471\n",
      "epoch 33; loss: 0.04291; train_acc: 0.93421; val_acc: 0.88235\n",
      "epoch 34; loss: 0.03838; train_acc: 0.875; val_acc: 0.76471\n",
      "epoch 35; loss: 0.05864; train_acc: 0.93421; val_acc: 0.76471\n",
      "epoch 36; loss: 0.09078; train_acc: 0.91447; val_acc: 0.82353\n",
      "epoch 37; loss: 0.03745; train_acc: 0.875; val_acc: 0.82353\n",
      "epoch 38; loss: 0.03906; train_acc: 0.89474; val_acc: 0.76471\n",
      "epoch 39; loss: 0.04522; train_acc: 0.88816; val_acc: 0.82353\n",
      "epoch 40; loss: 0.02842; train_acc: 0.89474; val_acc: 0.82353\n",
      "epoch 41; loss: 0.03394; train_acc: 0.95395; val_acc: 0.76471\n",
      "epoch 42; loss: 0.19112; train_acc: 0.92763; val_acc: 0.82353\n",
      "epoch 43; loss: 0.06441; train_acc: 0.90789; val_acc: 0.82353\n",
      "epoch 44; loss: 0.09635; train_acc: 0.81579; val_acc: 0.70588\n",
      "epoch 45; loss: 0.04305; train_acc: 0.90132; val_acc: 0.82353\n",
      "epoch 46; loss: 0.04367; train_acc: 0.93421; val_acc: 0.76471\n",
      "epoch 47; loss: 0.03453; train_acc: 0.88158; val_acc: 0.76471\n",
      "epoch 48; loss: 0.07298; train_acc: 0.875; val_acc: 0.70588\n",
      "epoch 49; loss: 0.04192; train_acc: 0.51316; val_acc: 0.41176\n",
      "epoch 50; loss: 0.07127; train_acc: 0.91447; val_acc: 0.82353\n",
      "process testing\n",
      "Accuracy: 0.7368421052631579\n"
     ]
    }
   ],
   "source": [
    "# \n",
    "train_dataset\n",
    "test_dataset\n",
    "k = 10\n",
    "\n",
    "splits = KFold(n_splits=k,shuffle=True,random_state=42)\n",
    "k_counter = 0\n",
    "fold_logs = {}\n",
    "\n",
    "for fold, (train_idx,val_idx) in enumerate(splits.split(np.arange(len(train_dataset)))):\n",
    "    \n",
    "    print(f'Fold {fold}/{k}')\n",
    "    fold_train = []\n",
    "    for key in train_idx:\n",
    "        fold_train.append(train_dataset[key])\n",
    "\n",
    "    fold_val = [] \n",
    "    for key in val_idx:\n",
    "        fold_val.append(train_dataset[key])\n",
    "\n",
    "    tr = DataLoader(fold_train, batch_size=batch_size, shuffle=True)\n",
    "    vd = DataLoader(fold_val, batch_size=batch_size, shuffle=True)\n",
    "    ts = DataLoader(test_dataset, batch_size=batch_size, shuffle=True)\n",
    "    \n",
    "    print(\"=== Base model vs Experiment ===\")\n",
    "    fold_logs[fold] = baseTrain(tr, vd, ts, 50)\n",
    "    fold_logs[fold] = expTrain(tr, vd, ts, 50)\n",
    "    \n",
    "    k_counter += 1\n",
    "    \n",
    "    break"
   ]
  },
  {
   "cell_type": "code",
   "execution_count": 26,
   "metadata": {},
   "outputs": [
    {
     "name": "stdout",
     "output_type": "stream",
     "text": [
      "{0: None, 1: None, 2: None, 3: None, 4: None, 5: None, 6: None, 7: None, 8: None, 9: None}\n"
     ]
    }
   ],
   "source": [
    "print(fold_logs)"
   ]
  },
  {
   "cell_type": "code",
   "execution_count": 35,
   "metadata": {},
   "outputs": [
    {
     "data": {
      "text/plain": [
       "0.9473684210526315"
      ]
     },
     "execution_count": 35,
     "metadata": {},
     "output_type": "execute_result"
    }
   ],
   "source": [
    "18/len(test_dataset.y)"
   ]
  }
 ],
 "metadata": {
  "kernelspec": {
   "display_name": "base",
   "language": "python",
   "name": "python3"
  },
  "language_info": {
   "codemirror_mode": {
    "name": "ipython",
    "version": 3
   },
   "file_extension": ".py",
   "mimetype": "text/x-python",
   "name": "python",
   "nbconvert_exporter": "python",
   "pygments_lexer": "ipython3",
   "version": "3.11.4"
  }
 },
 "nbformat": 4,
 "nbformat_minor": 2
}
