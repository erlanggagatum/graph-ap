{
 "cells": [
  {
   "cell_type": "code",
   "execution_count": 46,
   "metadata": {},
   "outputs": [
    {
     "name": "stdout",
     "output_type": "stream",
     "text": [
      "The autoreload extension is already loaded. To reload it, use:\n",
      "  %reload_ext autoreload\n"
     ]
    }
   ],
   "source": [
    "import sys\n",
    "# caution: path[0] is reserved for script path (or '' in REPL)\n",
    "sys.path.insert(1, '../src')\n",
    "\n",
    "%load_ext autoreload\n",
    "%autoreload 2\n",
    "\n",
    "import torch\n",
    "import torch_geometric\n",
    "import networkx as nx\n",
    "import numpy as np\n",
    "import matplotlib.pyplot as plt\n",
    "\n",
    "\n",
    "from torch_geometric.datasets import TUDataset\n",
    "from preprocessing import data_transformation\n",
    "from similarity import calculate_similarity_matrix\n",
    "\n",
    "from model import GCN\n",
    "import copy"
   ]
  },
  {
   "cell_type": "code",
   "execution_count": 47,
   "metadata": {},
   "outputs": [],
   "source": [
    "dataset = TUDataset(root='datasets/', name='MUTAG')\n",
    "torch.manual_seed(1234)\n",
    "dataset = dataset.shuffle()"
   ]
  },
  {
   "cell_type": "markdown",
   "metadata": {},
   "source": [
    "## Preprocessing"
   ]
  },
  {
   "cell_type": "markdown",
   "metadata": {},
   "source": [
    "#### Split: Train test validation"
   ]
  },
  {
   "cell_type": "markdown",
   "metadata": {},
   "source": [
    "```train_dataset```: for training model<br/>\n",
    "```val_dataset```: evaluate model for hyperparameter tunning<br/>\n",
    "```test_dataset```: testing model after complete training<br/>"
   ]
  },
  {
   "cell_type": "code",
   "execution_count": 48,
   "metadata": {},
   "outputs": [],
   "source": [
    "from torch_geometric.loader import DataLoader\n",
    "from torch_geometric.data import Data"
   ]
  },
  {
   "cell_type": "code",
   "execution_count": 5,
   "metadata": {},
   "outputs": [],
   "source": [
    "tr, ts, vl = 0.8, 0.1, 0.1\n",
    "dslen = len(dataset)\n",
    "tri = round(tr*dslen)\n",
    "tsi = round((tr+ts)*dslen)\n",
    "train_dataset = dataset[:tri]\n",
    "test_dataset = dataset[tri:tsi]\n",
    "val_dataset = dataset[tsi:]"
   ]
  },
  {
   "cell_type": "code",
   "execution_count": 6,
   "metadata": {},
   "outputs": [
    {
     "data": {
      "text/plain": [
       "tensor([1, 1, 0, 1, 0, 1, 1, 1, 0, 1, 1, 1, 1, 1, 0, 1, 1, 0, 1, 0, 1, 1, 0, 0,\n",
       "        1, 0, 1, 0, 1, 1, 1, 0, 1, 0, 1, 1, 0, 1, 1, 1, 1, 1, 0, 0, 1, 0, 1, 1,\n",
       "        0, 0, 1, 0, 1, 0, 1, 0, 1, 1, 1, 0, 1, 0, 1, 1, 1, 1, 1, 0, 1, 1, 1, 0,\n",
       "        0, 1, 1, 0, 1, 1, 0, 1, 1, 1, 1, 0, 1, 1, 1, 0, 1, 1, 1, 1, 1, 1, 1, 1,\n",
       "        1, 0, 0, 0, 1, 1, 1, 1, 0, 1, 1, 1, 1, 1, 1, 0, 1, 1, 1, 1, 1, 1, 0, 1,\n",
       "        1, 1, 1, 0, 0, 1, 1, 1, 0, 1, 0, 1, 0, 0, 0, 1, 1, 1, 0, 1, 0, 0, 0, 1,\n",
       "        1, 1, 0, 1, 1, 1, 0, 1, 0, 1, 1, 1, 1, 0, 1, 1, 1, 0, 1, 1, 0, 1, 0, 1,\n",
       "        0, 0, 0, 0, 1, 1, 0, 0, 1, 0, 1, 1, 1, 1, 1, 1, 1, 0, 0, 1])"
      ]
     },
     "execution_count": 6,
     "metadata": {},
     "output_type": "execute_result"
    }
   ],
   "source": [
    "dataset.y"
   ]
  },
  {
   "cell_type": "code",
   "execution_count": 7,
   "metadata": {},
   "outputs": [
    {
     "name": "stdout",
     "output_type": "stream",
     "text": [
      "150\n"
     ]
    },
    {
     "data": {
      "text/plain": [
       "tensor([1, 1, 0, 1, 0, 1, 1, 1, 0, 1, 1, 1, 1, 1, 0, 1, 1, 0, 1, 0, 1, 1, 0, 0,\n",
       "        1, 0, 1, 0, 1, 1, 1, 0, 1, 0, 1, 1, 0, 1, 1, 1, 1, 1, 0, 0, 1, 0, 1, 1,\n",
       "        0, 0, 1, 0, 1, 0, 1, 0, 1, 1, 1, 0, 1, 0, 1, 1, 1, 1, 1, 0, 1, 1, 1, 0,\n",
       "        0, 1, 1, 0, 1, 1, 0, 1, 1, 1, 1, 0, 1, 1, 1, 0, 1, 1, 1, 1, 1, 1, 1, 1,\n",
       "        1, 0, 0, 0, 1, 1, 1, 1, 0, 1, 1, 1, 1, 1, 1, 0, 1, 1, 1, 1, 1, 1, 0, 1,\n",
       "        1, 1, 1, 0, 0, 1, 1, 1, 0, 1, 0, 1, 0, 0, 0, 1, 1, 1, 0, 1, 0, 0, 0, 1,\n",
       "        1, 1, 0, 1, 1, 1])"
      ]
     },
     "execution_count": 7,
     "metadata": {},
     "output_type": "execute_result"
    }
   ],
   "source": [
    "print(len(train_dataset))\n",
    "train_dataset.y"
   ]
  },
  {
   "cell_type": "code",
   "execution_count": 8,
   "metadata": {},
   "outputs": [
    {
     "data": {
      "text/plain": [
       "tensor([0, 1, 0, 1, 1, 1, 1, 0, 1, 1, 1, 0, 1, 1, 0, 1, 0, 1, 0])"
      ]
     },
     "execution_count": 8,
     "metadata": {},
     "output_type": "execute_result"
    }
   ],
   "source": [
    "len(test_dataset)\n",
    "test_dataset.y"
   ]
  },
  {
   "cell_type": "code",
   "execution_count": 9,
   "metadata": {},
   "outputs": [
    {
     "data": {
      "text/plain": [
       "tensor([0, 0, 0, 1, 1, 0, 0, 1, 0, 1, 1, 1, 1, 1, 1, 1, 0, 0, 1])"
      ]
     },
     "execution_count": 9,
     "metadata": {},
     "output_type": "execute_result"
    }
   ],
   "source": [
    "len(val_dataset)\n",
    "val_dataset.y"
   ]
  },
  {
   "cell_type": "markdown",
   "metadata": {},
   "source": [
    "#### Batching"
   ]
  },
  {
   "cell_type": "code",
   "execution_count": 10,
   "metadata": {},
   "outputs": [],
   "source": [
    "# paper 128\n",
    "batch_size = 2\n",
    "\n",
    "train_loader = DataLoader(train_dataset, batch_size=batch_size, shuffle=False)\n",
    "val_loader = DataLoader(val_dataset, batch_size=batch_size, shuffle=False)\n",
    "test_loader = DataLoader(test_dataset, batch_size=batch_size, shuffle=False)"
   ]
  },
  {
   "cell_type": "markdown",
   "metadata": {},
   "source": [
    "## Building Model"
   ]
  },
  {
   "cell_type": "code",
   "execution_count": 49,
   "metadata": {},
   "outputs": [],
   "source": [
    "from torch_geometric.nn import GCNConv\n",
    "from torch_geometric.nn import GraphSAGE\n",
    "from torch_geometric.nn import GraphConv\n",
    "from torch_geometric.nn import GINConv\n",
    "# from torch_geometric.nn import GINConv\n",
    "from torch.nn import Linear, Sequential, ReLU, BatchNorm1d\n",
    "\n",
    "from torch_geometric.nn import global_mean_pool\n",
    "from torch_geometric.nn import global_add_pool\n",
    "import torch.nn.functional as F"
   ]
  },
  {
   "cell_type": "code",
   "execution_count": 50,
   "metadata": {},
   "outputs": [],
   "source": [
    "class Base(torch.nn.Module):\n",
    "    # merging type: o --> complement only, s --> substraction, c --> concatenation\n",
    "    def __init__(self, dataset, hidden_channels):\n",
    "        super(Base, self).__init__()\n",
    "        \n",
    "        # weight seed\n",
    "        torch.manual_seed(42)\n",
    "        nn1 = Sequential(Linear(dataset.num_node_features, hidden_channels), ReLU(), Linear(hidden_channels,hidden_channels))\n",
    "        self.conv1 = GINConv(nn1)\n",
    "        self.bn1 = BatchNorm1d(hidden_channels)\n",
    "        \n",
    "        nn2 = Sequential(Linear(hidden_channels, hidden_channels), ReLU(), Linear(hidden_channels,hidden_channels))\n",
    "        self.conv2 = GCNConv(nn2)\n",
    "        self.bn2 = BatchNorm1d(hidden_channels)\n",
    "        \n",
    "        \n",
    "        # classification layer        \n",
    "        self.lin = Linear(hidden_channels, hidden_channels)\n",
    "        self.lin2 = Linear(hidden_channels, dataset.num_classes)\n",
    "\n",
    "    def forward(self, x, edge_index, batch):\n",
    "        # Embed original\n",
    "        embedding = self.conv1(x, edge_index)\n",
    "        embedding = embedding.relu()\n",
    "        embedding = self.conv2(embedding, edge_index)\n",
    "        embedding = embedding.relu()\n",
    "        embedding = self.conv3(embedding, edge_index)\n",
    "        embedding = embedding.relu()\n",
    "        # subgraph_embedding = subgraph_embedding.relu()\n",
    "        \n",
    "        embedding = global_mean_pool(embedding, batch)\n",
    "        h = self.lin(embedding)\n",
    "        h = F.relu(h)\n",
    "        h = F.dropout(h, p=0.3, training=self.training)\n",
    "        h = self.lin2(h)\n",
    "        \n",
    "        return embedding, h"
   ]
  },
  {
   "cell_type": "markdown",
   "metadata": {},
   "source": [
    "#### Train"
   ]
  },
  {
   "cell_type": "code",
   "execution_count": null,
   "metadata": {},
   "outputs": [],
   "source": []
  },
  {
   "cell_type": "markdown",
   "metadata": {},
   "source": [
    "### Experiment Model"
   ]
  },
  {
   "cell_type": "code",
   "execution_count": 51,
   "metadata": {},
   "outputs": [],
   "source": [
    "from sklearn.cluster import AffinityPropagation"
   ]
  },
  {
   "cell_type": "markdown",
   "metadata": {},
   "source": [
    "#### Model modification"
   ]
  },
  {
   "cell_type": "code",
   "execution_count": 52,
   "metadata": {},
   "outputs": [
    {
     "ename": "NameError",
     "evalue": "name 'val_dataset' is not defined",
     "output_type": "error",
     "traceback": [
      "\u001b[1;31m---------------------------------------------------------------------------\u001b[0m",
      "\u001b[1;31mNameError\u001b[0m                                 Traceback (most recent call last)",
      "\u001b[1;32mc:\\Users\\sclab\\Documents\\Lab\\Subgraph and partitioning method\\graph-ap\\experiments\\5-model-attention-implementation-gin.ipynb Cell 22\u001b[0m line \u001b[0;36m5\n\u001b[0;32m      <a href='vscode-notebook-cell:/c%3A/Users/sclab/Documents/Lab/Subgraph%20and%20partitioning%20method/graph-ap/experiments/5-model-attention-implementation-gin.ipynb#X30sZmlsZQ%3D%3D?line=1'>2</a>\u001b[0m batch_size \u001b[39m=\u001b[39m \u001b[39m128\u001b[39m\n\u001b[0;32m      <a href='vscode-notebook-cell:/c%3A/Users/sclab/Documents/Lab/Subgraph%20and%20partitioning%20method/graph-ap/experiments/5-model-attention-implementation-gin.ipynb#X30sZmlsZQ%3D%3D?line=3'>4</a>\u001b[0m train_loader \u001b[39m=\u001b[39m DataLoader(train_dataset, batch_size\u001b[39m=\u001b[39mbatch_size, shuffle\u001b[39m=\u001b[39m\u001b[39mFalse\u001b[39;00m)\n\u001b[1;32m----> <a href='vscode-notebook-cell:/c%3A/Users/sclab/Documents/Lab/Subgraph%20and%20partitioning%20method/graph-ap/experiments/5-model-attention-implementation-gin.ipynb#X30sZmlsZQ%3D%3D?line=4'>5</a>\u001b[0m val_loader \u001b[39m=\u001b[39m DataLoader(val_dataset, batch_size\u001b[39m=\u001b[39mbatch_size, shuffle\u001b[39m=\u001b[39m\u001b[39mFalse\u001b[39;00m)\n\u001b[0;32m      <a href='vscode-notebook-cell:/c%3A/Users/sclab/Documents/Lab/Subgraph%20and%20partitioning%20method/graph-ap/experiments/5-model-attention-implementation-gin.ipynb#X30sZmlsZQ%3D%3D?line=5'>6</a>\u001b[0m test_loader \u001b[39m=\u001b[39m DataLoader(test_dataset, batch_size\u001b[39m=\u001b[39mbatch_size, shuffle\u001b[39m=\u001b[39m\u001b[39mFalse\u001b[39;00m)\n\u001b[0;32m      <a href='vscode-notebook-cell:/c%3A/Users/sclab/Documents/Lab/Subgraph%20and%20partitioning%20method/graph-ap/experiments/5-model-attention-implementation-gin.ipynb#X30sZmlsZQ%3D%3D?line=7'>8</a>\u001b[0m \u001b[39m# batch1 = next(iter(train_loader))\u001b[39;00m\n",
      "\u001b[1;31mNameError\u001b[0m: name 'val_dataset' is not defined"
     ]
    }
   ],
   "source": [
    "# paper 128\n",
    "batch_size = 128\n",
    "\n",
    "train_loader = DataLoader(train_dataset, batch_size=batch_size, shuffle=False)\n",
    "val_loader = DataLoader(val_dataset, batch_size=batch_size, shuffle=False)\n",
    "test_loader = DataLoader(test_dataset, batch_size=batch_size, shuffle=False)\n",
    "\n",
    "# batch1 = next(iter(train_loader))"
   ]
  },
  {
   "cell_type": "code",
   "execution_count": 53,
   "metadata": {},
   "outputs": [],
   "source": [
    "\n",
    "\n",
    "from similarity import calculate_similarity_matrix, testt\n",
    "\n",
    "\n",
    "# AP Clustering\n",
    "from sklearn.cluster import AffinityPropagation\n",
    "\n",
    "from torch_geometric.nn import global_mean_pool\n",
    "from torch_geometric.nn import global_max_pool\n",
    "from torch_geometric.nn import GINConv, global_add_pool\n",
    "from torch.nn import Linear, Sequential, ReLU, BatchNorm1d\n",
    "\n",
    "import torch.nn.functional as F\n",
    "\n",
    "class Experiment(torch.nn.Module):\n",
    "    # merging type: o --> complement only, s --> substraction, c --> concatenation\n",
    "    def __init__(self, dataset, hidden_channels, k = 1):\n",
    "        super(Experiment, self).__init__()\n",
    "        \n",
    "        # save number of subgraphs, default 1\n",
    "        self.k_subgraph = k\n",
    "        \n",
    "        # weight seed\n",
    "        torch.manual_seed(42)\n",
    "        nn1 = Sequential(Linear(dataset.num_node_features, hidden_channels), ReLU(), Linear(hidden_channels,hidden_channels))\n",
    "        self.conv1 = GINConv(nn1)\n",
    "        self.bn1 = BatchNorm1d(hidden_channels)\n",
    "        \n",
    "        nn2 = Sequential(Linear(hidden_channels, hidden_channels), ReLU(), Linear(hidden_channels,hidden_channels))\n",
    "        self.conv2 = GINConv(nn2)\n",
    "        self.bn2 = BatchNorm1d(hidden_channels)\n",
    "        \n",
    "        # embeddings for subgraph\n",
    "        self.conv4 = GCNConv(hidden_channels, hidden_channels)\n",
    "        self.conv5 = GCNConv(hidden_channels, hidden_channels)\n",
    "        \n",
    "        # attention layer\n",
    "        self.query_layer = Linear(hidden_channels,hidden_channels)\n",
    "        self.key_layer = Linear(hidden_channels,hidden_channels)\n",
    "        self.value_layer = Linear(hidden_channels,hidden_channels)\n",
    "        \n",
    "        # classification layer\n",
    "        self.lin = Linear(hidden_channels*2, hidden_channels)\n",
    "        self.lin2 = Linear(hidden_channels, dataset.num_classes)\n",
    "\n",
    "    def forward(self, x, edge_index, batch, ptr):\n",
    "        # Embed original\n",
    "        # embedding = self.conv1(x, edge_index)\n",
    "        # embedding = embedding.relu()\n",
    "        # embedding = self.conv2(embedding, edge_index)\n",
    "                \n",
    "        embedding = F.relu(self.conv1(x, edge_index))\n",
    "        embedding = self.bn1(embedding)\n",
    "        embedding = F.relu(self.conv2(embedding, edge_index))\n",
    "        embedding = self.bn2(embedding)\n",
    "        \n",
    "        # generate subgraph based on embeddings\n",
    "        feature_emb = embedding.detach()\n",
    "        \n",
    "        subgraph_edge_index, communities, S, batch_communities = self.subgraph_generator(feature_emb, edge_index, batch, ptr)\n",
    "        \n",
    "        \n",
    "        subgraph_embedding = self.conv4(embedding, subgraph_edge_index)\n",
    "        subgraph_embedding = subgraph_embedding.relu()\n",
    "        subgraph_embedding = self.conv5(subgraph_embedding, subgraph_edge_index)\n",
    "        \n",
    "        # apply readout layer/pooling for each subgraphs\n",
    "        subgraph_pool_embedding = self.subgraph_pooling(subgraph_embedding, communities, batch, ptr, batch_communities)\n",
    "        # print(len(subgraph_pool_embedding))\n",
    "        # apply selective (top k) attention\n",
    "        topk_subgraph_embedding = self.selectk_subgraph(embedding, subgraph_pool_embedding, self.k_subgraph)\n",
    "        \n",
    "        # readout layer for original embedding\n",
    "        embedding = global_mean_pool(embedding, batch)\n",
    "                \n",
    "        combined_embeddings = torch.cat((embedding, topk_subgraph_embedding.view(len(embedding), -1)), 1)\n",
    "        \n",
    "        \n",
    "        # h = F.dropout(combined_embeddings, p=0.3, training=self.training)\n",
    "        h = self.lin(combined_embeddings)\n",
    "        h = F.relu(h)\n",
    "        h = F.dropout(h, p=0.3, training=self.training)\n",
    "        h = self.lin2(h)\n",
    "        \n",
    "        return embedding, h, S, communities, topk_subgraph_embedding.view(len(embedding), -1)\n",
    "    \n",
    "    # checked\n",
    "    def selectk_subgraph(self, embs, sub_embs, k = 1):\n",
    "        # calculate attention and select top k subgraph\n",
    "        \n",
    "        topk_subgraphs_all = []\n",
    "\n",
    "        for i, (emb, sub_emb) in enumerate(zip(embs, sub_embs)):\n",
    "            sub = torch.tensor(sub_emb)\n",
    "            sub = sub.to(torch.float32)\n",
    "\n",
    "            # transform\n",
    "            query = self.query_layer(emb)\n",
    "            key = self.key_layer(sub)\n",
    "            value = self.value_layer(sub)\n",
    "\n",
    "            # att score\n",
    "            attention_score = torch.matmul(query, key.transpose(0,1))\n",
    "            attention_weight = F.softmax(attention_score, dim=0)\n",
    "            \n",
    "            # select topk\n",
    "            topk_subgraph_embeddings = None\n",
    "            \n",
    "            if (k <= len(sub)):\n",
    "                topk_scores, topk_indices = torch.topk(attention_weight, k)\n",
    "                topk_subgraph_embeddings = sub[topk_indices]\n",
    "            else:\n",
    "                print('too big')\n",
    "                \n",
    "            topk_subgraphs_all.append(topk_subgraph_embeddings)\n",
    "        \n",
    "        return torch.stack(topk_subgraphs_all)\n",
    "    \n",
    "    \n",
    "    def subgraph_generator(self, embeddings, batch_edge_index, batch, ptr):\n",
    "        '''\n",
    "        Return subgraph_edge_index (edge_index of created subgraph)\n",
    "        '''\n",
    "        graph_counter = 0\n",
    "        edge_index = [[],[]]\n",
    "        subgraph_edge_index = [[],[]]\n",
    "        # Gs = []\n",
    "        sub_created = False\n",
    "        graph_bound = {}\n",
    "        all_communities = []\n",
    "        batch_communities = {}\n",
    "        S = []\n",
    "\n",
    "        for i in range(len(ptr)-1):\n",
    "            graph_bound[i] = [ptr[i].item(), ptr[i+1].item()]\n",
    "        \n",
    "        for i, (src, dst) in enumerate(zip(batch_edge_index[0], batch_edge_index[1])):\n",
    "            lower_bound = graph_bound[graph_counter][0]\n",
    "            upper_bound = graph_bound[graph_counter][1]\n",
    "            if ((src >= lower_bound and src < upper_bound) or\n",
    "                (dst >= lower_bound and dst < upper_bound)):\n",
    "                \n",
    "                edge_index[0].append(src - lower_bound)\n",
    "                edge_index[1].append(dst - lower_bound)\n",
    "            else:\n",
    "                sub_created = True\n",
    "                \n",
    "            if (i == len(batch_edge_index[0]) - 1) or sub_created:\n",
    "                sub_created = False\n",
    "                \n",
    "                embs = []\n",
    "                # make new graph\n",
    "                for i, (b, emb) in enumerate(zip(batch, embeddings)):\n",
    "                    if (b == graph_counter):\n",
    "                        embs.append(emb)\n",
    "                \n",
    "                G = data_transformation(edge_index, embs)\n",
    "                # dont need this at the moment\n",
    "                # Gs.append(G)\n",
    "                \n",
    "                # Calculate similarity matrix\n",
    "                S = calculate_similarity_matrix(G)\n",
    "                \n",
    "                # AP Clustering        \n",
    "                clustering = AffinityPropagation(affinity='precomputed', damping=0.8, random_state=42, convergence_iter=15, max_iter=1000)\n",
    "                clustering.fit(S)\n",
    "                \n",
    "                \n",
    "                # Get community\n",
    "                communities = {}\n",
    "                for lab in clustering.labels_:\n",
    "                    communities[lab] = []\n",
    "                    all_communities.append(lab)\n",
    "                for nd, clust in enumerate(clustering.labels_):\n",
    "                    communities[clust].append(nd)\n",
    "                \n",
    "                edge_index = [[],[]]\n",
    "                batch_communities[graph_counter] = communities\n",
    "                \n",
    "                graph_counter+=1\n",
    "                \n",
    "                # Make subgraph edge_index\n",
    "                for c in communities:\n",
    "                    w = G.subgraph(communities[c])\n",
    "                    for sub in w.edges:\n",
    "                        subgraph_edge_index[0].append(sub[0] + lower_bound)\n",
    "                        subgraph_edge_index[1].append(sub[1] + lower_bound)\n",
    "                \n",
    "        \n",
    "        # print('batch communities', batch_communities)\n",
    "        return torch.tensor(subgraph_edge_index), all_communities, S, batch_communities\n",
    "    \n",
    "        \n",
    "    # check autograd (done)\n",
    "    def subgraph_pooling(self, embeddings, communities, batch, ptr, batch_communities, pool_type = 'mean'):\n",
    "        # batch communities: batch (or graph in this batch) -> communities -> member        \n",
    "        all_emb_pool = []\n",
    "        \n",
    "        # LOOP THROUGH BATCH\n",
    "        for b in batch_communities:\n",
    "            \n",
    "            # initialize array\n",
    "            emb_pool = [None] * len(batch_communities[b])\n",
    "            for comm in batch_communities[b]:\n",
    "                emb_temp = []\n",
    "\n",
    "                for member in batch_communities[b][comm]:\n",
    "                    index_used = member + ptr[b].item()\n",
    "                    emb_temp.append(embeddings[index_used])\n",
    "\n",
    "                # Pooling per sub graph using PyTorch\n",
    "                emb_temp_tensor = torch.stack(emb_temp)\n",
    "                if pool_type == 'mean': # mean pool\n",
    "                    emb_pool[comm] = torch.mean(emb_temp_tensor, dim=0)\n",
    "                elif pool_type == 'add': # add pool\n",
    "                    emb_pool[comm] = torch.sum(emb_temp_tensor, dim=0)\n",
    "                else:\n",
    "                    print('TODO: fill later')\n",
    "                    \n",
    "            all_emb_pool.append(torch.stack(emb_pool))\n",
    "        return all_emb_pool\n",
    "\n",
    "# experiment = Experiment(dataset, 64)\n",
    "# emb, h, S, communities, sub_emb = experiment(batch1.x, batch1.edge_index, batch1.batch, batch1.ptr)"
   ]
  },
  {
   "cell_type": "code",
   "execution_count": null,
   "metadata": {},
   "outputs": [],
   "source": [
    "def train_base(model, loader, experiment_mode=False):\n",
    "    criterion = torch.nn.CrossEntropyLoss()\n",
    "    optimizer = torch.optim.Adam(model.parameters(), lr=0.001)\n",
    "    \n",
    "    model.train()\n",
    "    total_loss = 0\n",
    "    \n",
    "    for data in loader:\n",
    "        optimizer.zero_grad()\n",
    "        if experiment_mode:\n",
    "            emb, h, S, communities, sub_emb = model(data.x, data.edge_index, data.batch, data.ptr)\n",
    "        else:\n",
    "            emb, h = model(data.x, data.edge_index, data.batch)\n",
    "        loss = criterion(h, data.y)\n",
    "        total_loss += loss.item()\n",
    "        \n",
    "        loss.backward()\n",
    "        optimizer.step()\n",
    "\n",
    "    return loss / len(loader)\n",
    "\n",
    "@torch.no_grad()\n",
    "def test_base(model, loader, experiment_mode=False):\n",
    "    model.eval()\n",
    "    correct = 0\n",
    "    for data in loader:\n",
    "        if experiment_mode:\n",
    "            emb, h, S, communities, sub_emb = model(data.x, data.edge_index, data.batch, data.ptr)\n",
    "        else:\n",
    "            emb, h = model(data.x, data.edge_index, data.batch)\n",
    "        pred = h.argmax(dim=1)\n",
    "        correct += int((pred == data.y).sum())\n",
    "    return correct/len(loader.dataset)"
   ]
  },
  {
   "cell_type": "code",
   "execution_count": null,
   "metadata": {},
   "outputs": [],
   "source": [
    "def expTrain(train_loader, val_loader, test_loader, epoch = 10, fold=0):\n",
    "    import warnings\n",
    "    warnings.filterwarnings(\"ignore\", category=UserWarning) \n",
    "\n",
    "    num_hidden_layer = 128\n",
    "    experiment = Experiment(dataset, num_hidden_layer)\n",
    "    loss_history = []\n",
    "    train_acc_history = []\n",
    "    val_acc_history = []\n",
    "    test_acc_history = []\n",
    "    \n",
    "    # early stop\n",
    "    early_stopping_patience = 20\n",
    "    best_val_score = -float(\"inf\")\n",
    "    epochs_without_improvement = 0\n",
    "    best_state = None\n",
    "    \n",
    "    # Train\n",
    "    print('process training')\n",
    "    for _ in range(epoch):\n",
    "        if (fold == 6):\n",
    "            # continue training\n",
    "            if (_+1 < 15):\n",
    "                # print(f'im in {fold} P{_}')\n",
    "                continue\n",
    "            elif _+1 == 15:\n",
    "                print('model has been trained till epoch 15, skipping---' , _+1)\n",
    "                best_state = torch.load(\"model-history/GIN-MUTAG/6.experiment_best_model-gin_data-mutag.pth\")\n",
    "                experiment.load_state_dict(best_state)\n",
    "                \n",
    "                last_acc = test_base(experiment, test_loader, True)\n",
    "                best_val_score = round(test_base(experiment, val_loader, True), 5)\n",
    "                print(\"last val acc\", best_val_score, \"last test acc\", last_acc)\n",
    "                continue\n",
    "            \n",
    "        loss = round(train_base(experiment, train_loader, True).item(), 5)\n",
    "        train_acc = round(test_base(experiment, train_loader, True), 5)\n",
    "        val_acc = round(test_base(experiment, val_loader, True), 5)\n",
    "        test_acc = test_base(experiment, test_loader, True)\n",
    "        \n",
    "        loss_history.append(loss)\n",
    "        train_acc_history.append(train_acc)\n",
    "        val_acc_history.append(val_acc)\n",
    "        test_acc_history.append(test_acc)\n",
    "        \n",
    "        print(f'epoch {_+1}; loss: {loss}; train_acc: {train_acc}; val_acc: {val_acc}; test_acc: {test_acc}')\n",
    "        \n",
    "        # early stop\n",
    "        if (val_acc > best_val_score):\n",
    "            best_val_score = val_acc\n",
    "            epochs_without_improvement = 0\n",
    "            \n",
    "            print('best found, save model')\n",
    "            # save model\n",
    "            torch.save(experiment.state_dict(), \"model-history/\"+str(fold)+\".experiment_best_model-gin_data-mutag.pth\")\n",
    "            best_state = copy.deepcopy(experiment.state_dict())\n",
    "        else:\n",
    "            epochs_without_improvement += 1\n",
    "            if (epochs_without_improvement >= early_stopping_patience):\n",
    "                print('early stop triggered')\n",
    "                break\n",
    "                \n",
    "            \n",
    "\n",
    "    # Test    \n",
    "    # Create a new instance of the model for testing\n",
    "    best_model = Experiment(dataset, num_hidden_layer)\n",
    "    best_model.load_state_dict(best_state)\n",
    "\n",
    "    # Test\n",
    "    test = test_base(best_model, test_loader, True)\n",
    "    print(f'Accuracy: {test}')\n",
    "\n",
    "    \n",
    "    return [loss_history, train_acc_history, val_acc_history, test_acc_history]\n",
    "\n",
    "# expTrain(train_loader, val_loader, test_loader, epoch = 100)"
   ]
  },
  {
   "cell_type": "code",
   "execution_count": 122,
   "metadata": {},
   "outputs": [],
   "source": [
    "def baseTrain(train_loader, val_loader, test_loader, epoch = 10, fold=0):\n",
    "    num_hidden_layer = 128\n",
    "    base = Base(dataset, num_hidden_layer)\n",
    "    early_stopping_patience = 20\n",
    "    best_val_score = -float(\"inf\")\n",
    "    epochs_without_improvement = 0\n",
    "    best_state = None\n",
    "    \n",
    "    \n",
    "    \n",
    "    # Train\n",
    "    for _ in range(epoch):\n",
    "        if (fold == 6):\n",
    "            print('model has been trained')\n",
    "            best_state = torch.load(\"model-history/GIN-MUTAG/6.base_best_model-gin_data-mutag.pth\")\n",
    "            break\n",
    "        \n",
    "        loss = round(train_base(base, train_loader).item(), 5)\n",
    "        train_acc = round(test_base(base, train_loader), 5)\n",
    "        val_acc = round(test_base(base, val_loader), 5)\n",
    "        \n",
    "        \n",
    "        print(f'epoch {_}; loss: {loss}; train_acc: {train_acc}; val_acc: {val_acc}; test: {round(test_base(base, test_loader), 2)}')\n",
    "\n",
    "        if (val_acc > best_val_score):\n",
    "            best_val_score = val_acc\n",
    "            epochs_without_improvement = 0\n",
    "            \n",
    "            print('best found, save model')\n",
    "            # save model\n",
    "            torch.save(base.state_dict(), \"model-history/\"+str(fold)+\".base_best_model-gin_data-mutag.pth\")\n",
    "            best_state = copy.deepcopy(base.state_dict())\n",
    "        else:\n",
    "            epochs_without_improvement += 1\n",
    "            if (epochs_without_improvement >= early_stopping_patience):\n",
    "                print('early stop triggered')\n",
    "                break\n",
    "                \n",
    "            \n",
    "    # Test\n",
    "    # test = test_base(best, test_loader)\n",
    "    # print(f'Accuracy: {test}')\n",
    "    \n",
    "    # Create a new instance of the model for testing\n",
    "    best_model = Base(dataset, num_hidden_layer)\n",
    "    best_model.load_state_dict(best_state)\n",
    "\n",
    "    # Test\n",
    "    test = test_base(best_model, test_loader)\n",
    "    print(f'Accuracy: {test}')\n"
   ]
  },
  {
   "cell_type": "markdown",
   "metadata": {},
   "source": [
    "#### Cross validation 10"
   ]
  },
  {
   "cell_type": "code",
   "execution_count": null,
   "metadata": {},
   "outputs": [],
   "source": [
    "from sklearn.model_selection import KFold"
   ]
  },
  {
   "cell_type": "code",
   "execution_count": null,
   "metadata": {},
   "outputs": [],
   "source": [
    "from torch_geometric.nn import GCNConv\n",
    "from torch_geometric.nn import GraphSAGE\n",
    "from torch_geometric.nn import GraphConv\n",
    "from torch_geometric.nn import GINConv\n",
    "# from torch_geometric.nn import GINConv\n",
    "from torch.nn import Linear, Sequential, ReLU, BatchNorm1d\n",
    "\n",
    "from torch_geometric.nn import global_mean_pool\n",
    "from torch_geometric.nn import global_add_pool\n",
    "import torch.nn.functional as F"
   ]
  },
  {
   "cell_type": "code",
   "execution_count": null,
   "metadata": {},
   "outputs": [],
   "source": [
    "class Base(torch.nn.Module):\n",
    "    # merging type: o --> complement only, s --> substraction, c --> concatenation\n",
    "    def __init__(self, dataset, hidden_channels):\n",
    "        super(Base, self).__init__()\n",
    "        \n",
    "        # weight seed\n",
    "        torch.manual_seed(42)\n",
    "        nn1 = Sequential(Linear(dataset.num_node_features, hidden_channels), ReLU(), Linear(hidden_channels,hidden_channels))\n",
    "        self.conv1 = GINConv(nn1)\n",
    "        self.bn1 = BatchNorm1d(hidden_channels)\n",
    "        \n",
    "        nn2 = Sequential(Linear(hidden_channels, hidden_channels), ReLU(), Linear(hidden_channels,hidden_channels))\n",
    "        self.conv2 = GINConv(nn2)\n",
    "        self.bn2 = BatchNorm1d(hidden_channels)\n",
    "        \n",
    "        \n",
    "        # classification layer        \n",
    "        self.lin = Linear(hidden_channels, hidden_channels)\n",
    "        self.lin2 = Linear(hidden_channels, dataset.num_classes)\n",
    "\n",
    "    def forward(self, x, edge_index, batch):\n",
    "        # Embed original\n",
    "        embedding = F.relu(self.conv1(x, edge_index))\n",
    "        embedding = self.bn1(embedding)\n",
    "        embedding = F.relu(self.conv2(embedding, edge_index))\n",
    "        embedding = self.bn2(embedding)\n",
    "        \n",
    "        embedding = global_add_pool(embedding, batch)\n",
    "        h = self.lin(embedding)\n",
    "        h = F.relu(h)\n",
    "        h = F.dropout(h, p=0.3, training=self.training)\n",
    "        h = self.lin2(h)\n",
    "        \n",
    "        return embedding, h"
   ]
  },
  {
   "cell_type": "code",
   "execution_count": null,
   "metadata": {},
   "outputs": [
    {
     "name": "stdout",
     "output_type": "stream",
     "text": [
      "tensor([1, 1, 0, 1, 0, 1, 1, 1, 0, 1, 1, 1, 1, 1, 0, 1, 1, 0, 1, 0, 1, 1, 0, 0,\n",
      "        1, 0, 1, 0, 1, 1, 1, 0, 1, 0, 1, 1, 0, 1, 1, 1, 1, 1, 0, 0, 1, 0, 1, 1,\n",
      "        0, 0, 1, 0, 1, 0, 1, 0, 1, 1, 1, 0, 1, 0, 1, 1, 1, 1, 1, 0, 1, 1, 1, 0,\n",
      "        0, 1, 1, 0, 1, 1, 0, 1, 1, 1, 1, 0, 1, 1, 1, 0, 1, 1, 1, 1, 1, 1, 1, 1,\n",
      "        1, 0, 0, 0, 1, 1, 1, 1, 0, 1, 1, 1, 1, 1, 1, 0, 1, 1, 1, 1, 1, 1, 0, 1,\n",
      "        1, 1, 1, 0, 0, 1, 1, 1, 0, 1, 0, 1, 0, 0, 0, 1, 1, 1, 0, 1, 0, 0, 0, 1,\n",
      "        1, 1, 0, 1, 1, 1])\n",
      "150\n",
      "tensor([0, 1, 0, 1, 1, 1, 1, 0, 1, 1, 1, 0, 1, 1, 0, 1, 0, 1, 0, 0, 0, 0, 1, 1,\n",
      "        0, 0, 1, 0, 1, 1, 1, 1, 1, 1, 1, 0, 0, 1])\n"
     ]
    }
   ],
   "source": [
    "train_dataset = dataset[:round(len(dataset) * 0.8)]\n",
    "test_dataset = dataset[round(len(dataset) * 0.8):]\n",
    "print(train_dataset.y)\n",
    "print(len(train_dataset.y))\n",
    "print(test_dataset.y)"
   ]
  },
  {
   "cell_type": "code",
   "execution_count": null,
   "metadata": {},
   "outputs": [],
   "source": []
  },
  {
   "cell_type": "code",
   "execution_count": 123,
   "metadata": {},
   "outputs": [
    {
     "name": "stdout",
     "output_type": "stream",
     "text": [
      "Fold 0/10\n",
      "Fold 1/10\n",
      "Fold 2/10\n",
      "Fold 3/10\n",
      "Fold 4/10\n",
      "Fold 5/10\n",
      "Fold 6/10\n",
      "=== Base model vs Experiment ===\n",
      "=== Base model ===\n",
      "model has been trained\n",
      "Accuracy: 0.8947368421052632\n",
      "=== Experiment model ===\n",
      "process training\n",
      "model has been trained till epoch 15, skipping--\n"
     ]
    },
    {
     "ename": "KeyboardInterrupt",
     "evalue": "",
     "output_type": "error",
     "traceback": [
      "\u001b[1;31m---------------------------------------------------------------------------\u001b[0m",
      "\u001b[1;31mKeyboardInterrupt\u001b[0m                         Traceback (most recent call last)",
      "\u001b[1;32mc:\\Users\\sclab\\Documents\\Lab\\Subgraph and partitioning method\\graph-ap\\experiments\\5-model-attention-implementation-gin.ipynb Cell 33\u001b[0m line \u001b[0;36m3\n\u001b[0;32m     <a href='vscode-notebook-cell:/c%3A/Users/sclab/Documents/Lab/Subgraph%20and%20partitioning%20method/graph-ap/experiments/5-model-attention-implementation-gin.ipynb#X44sZmlsZQ%3D%3D?line=28'>29</a>\u001b[0m fold_logs[fold] \u001b[39m=\u001b[39m baseTrain(tr, vd, ts, \u001b[39m50\u001b[39m, fold\u001b[39m=\u001b[39mfold)\n\u001b[0;32m     <a href='vscode-notebook-cell:/c%3A/Users/sclab/Documents/Lab/Subgraph%20and%20partitioning%20method/graph-ap/experiments/5-model-attention-implementation-gin.ipynb#X44sZmlsZQ%3D%3D?line=29'>30</a>\u001b[0m \u001b[39mprint\u001b[39m(\u001b[39m\"\u001b[39m\u001b[39m=== Experiment model ===\u001b[39m\u001b[39m\"\u001b[39m)\n\u001b[1;32m---> <a href='vscode-notebook-cell:/c%3A/Users/sclab/Documents/Lab/Subgraph%20and%20partitioning%20method/graph-ap/experiments/5-model-attention-implementation-gin.ipynb#X44sZmlsZQ%3D%3D?line=30'>31</a>\u001b[0m fold_logs[fold] \u001b[39m=\u001b[39m expTrain(tr, vd, ts, \u001b[39m50\u001b[39;49m, fold\u001b[39m=\u001b[39;49mfold)\n\u001b[0;32m     <a href='vscode-notebook-cell:/c%3A/Users/sclab/Documents/Lab/Subgraph%20and%20partitioning%20method/graph-ap/experiments/5-model-attention-implementation-gin.ipynb#X44sZmlsZQ%3D%3D?line=31'>32</a>\u001b[0m \u001b[39m# break\u001b[39;00m\n\u001b[0;32m     <a href='vscode-notebook-cell:/c%3A/Users/sclab/Documents/Lab/Subgraph%20and%20partitioning%20method/graph-ap/experiments/5-model-attention-implementation-gin.ipynb#X44sZmlsZQ%3D%3D?line=32'>33</a>\u001b[0m k_counter \u001b[39m+\u001b[39m\u001b[39m=\u001b[39m \u001b[39m1\u001b[39m\n",
      "\u001b[1;32mc:\\Users\\sclab\\Documents\\Lab\\Subgraph and partitioning method\\graph-ap\\experiments\\5-model-attention-implementation-gin.ipynb Cell 33\u001b[0m line \u001b[0;36m3\n\u001b[0;32m     <a href='vscode-notebook-cell:/c%3A/Users/sclab/Documents/Lab/Subgraph%20and%20partitioning%20method/graph-ap/experiments/5-model-attention-implementation-gin.ipynb#X44sZmlsZQ%3D%3D?line=27'>28</a>\u001b[0m best_state \u001b[39m=\u001b[39m torch\u001b[39m.\u001b[39mload(\u001b[39m\"\u001b[39m\u001b[39mmodel-history/GIN-MUTAG/6.experiment_best_model-gin_data-mutag.pth\u001b[39m\u001b[39m\"\u001b[39m)\n\u001b[0;32m     <a href='vscode-notebook-cell:/c%3A/Users/sclab/Documents/Lab/Subgraph%20and%20partitioning%20method/graph-ap/experiments/5-model-attention-implementation-gin.ipynb#X44sZmlsZQ%3D%3D?line=28'>29</a>\u001b[0m experiment\u001b[39m.\u001b[39mload_state_dict(best_state)\n\u001b[1;32m---> <a href='vscode-notebook-cell:/c%3A/Users/sclab/Documents/Lab/Subgraph%20and%20partitioning%20method/graph-ap/experiments/5-model-attention-implementation-gin.ipynb#X44sZmlsZQ%3D%3D?line=29'>30</a>\u001b[0m last_acc \u001b[39m=\u001b[39m test_base(experiment, test_loader, \u001b[39mTrue\u001b[39;49;00m)\n\u001b[0;32m     <a href='vscode-notebook-cell:/c%3A/Users/sclab/Documents/Lab/Subgraph%20and%20partitioning%20method/graph-ap/experiments/5-model-attention-implementation-gin.ipynb#X44sZmlsZQ%3D%3D?line=30'>31</a>\u001b[0m best_val_score \u001b[39m=\u001b[39m \u001b[39mround\u001b[39m(test_base(experiment, val_loader, \u001b[39mTrue\u001b[39;00m), \u001b[39m5\u001b[39m)\n\u001b[0;32m     <a href='vscode-notebook-cell:/c%3A/Users/sclab/Documents/Lab/Subgraph%20and%20partitioning%20method/graph-ap/experiments/5-model-attention-implementation-gin.ipynb#X44sZmlsZQ%3D%3D?line=31'>32</a>\u001b[0m \u001b[39mprint\u001b[39m(\u001b[39m\"\u001b[39m\u001b[39mlast val acc\u001b[39m\u001b[39m\"\u001b[39m, best_val_score, \u001b[39m\"\u001b[39m\u001b[39mlast test acc\u001b[39m\u001b[39m\"\u001b[39m, last_acc)\n",
      "File \u001b[1;32mc:\\Users\\sclab\\anaconda3\\envs\\torch-cluster\\lib\\site-packages\\torch\\utils\\_contextlib.py:115\u001b[0m, in \u001b[0;36mcontext_decorator.<locals>.decorate_context\u001b[1;34m(*args, **kwargs)\u001b[0m\n\u001b[0;32m    112\u001b[0m \u001b[39m@functools\u001b[39m\u001b[39m.\u001b[39mwraps(func)\n\u001b[0;32m    113\u001b[0m \u001b[39mdef\u001b[39;00m \u001b[39mdecorate_context\u001b[39m(\u001b[39m*\u001b[39margs, \u001b[39m*\u001b[39m\u001b[39m*\u001b[39mkwargs):\n\u001b[0;32m    114\u001b[0m     \u001b[39mwith\u001b[39;00m ctx_factory():\n\u001b[1;32m--> 115\u001b[0m         \u001b[39mreturn\u001b[39;00m func(\u001b[39m*\u001b[39;49margs, \u001b[39m*\u001b[39;49m\u001b[39m*\u001b[39;49mkwargs)\n",
      "\u001b[1;32mc:\\Users\\sclab\\Documents\\Lab\\Subgraph and partitioning method\\graph-ap\\experiments\\5-model-attention-implementation-gin.ipynb Cell 33\u001b[0m line \u001b[0;36m2\n\u001b[0;32m     <a href='vscode-notebook-cell:/c%3A/Users/sclab/Documents/Lab/Subgraph%20and%20partitioning%20method/graph-ap/experiments/5-model-attention-implementation-gin.ipynb#X44sZmlsZQ%3D%3D?line=25'>26</a>\u001b[0m \u001b[39mfor\u001b[39;00m data \u001b[39min\u001b[39;00m loader:\n\u001b[0;32m     <a href='vscode-notebook-cell:/c%3A/Users/sclab/Documents/Lab/Subgraph%20and%20partitioning%20method/graph-ap/experiments/5-model-attention-implementation-gin.ipynb#X44sZmlsZQ%3D%3D?line=26'>27</a>\u001b[0m     \u001b[39mif\u001b[39;00m experiment_mode:\n\u001b[1;32m---> <a href='vscode-notebook-cell:/c%3A/Users/sclab/Documents/Lab/Subgraph%20and%20partitioning%20method/graph-ap/experiments/5-model-attention-implementation-gin.ipynb#X44sZmlsZQ%3D%3D?line=27'>28</a>\u001b[0m         emb, h, S, communities, sub_emb \u001b[39m=\u001b[39m model(data\u001b[39m.\u001b[39;49mx, data\u001b[39m.\u001b[39;49medge_index, data\u001b[39m.\u001b[39;49mbatch, data\u001b[39m.\u001b[39;49mptr)\n\u001b[0;32m     <a href='vscode-notebook-cell:/c%3A/Users/sclab/Documents/Lab/Subgraph%20and%20partitioning%20method/graph-ap/experiments/5-model-attention-implementation-gin.ipynb#X44sZmlsZQ%3D%3D?line=28'>29</a>\u001b[0m     \u001b[39melse\u001b[39;00m:\n\u001b[0;32m     <a href='vscode-notebook-cell:/c%3A/Users/sclab/Documents/Lab/Subgraph%20and%20partitioning%20method/graph-ap/experiments/5-model-attention-implementation-gin.ipynb#X44sZmlsZQ%3D%3D?line=29'>30</a>\u001b[0m         emb, h \u001b[39m=\u001b[39m model(data\u001b[39m.\u001b[39mx, data\u001b[39m.\u001b[39medge_index, data\u001b[39m.\u001b[39mbatch)\n",
      "File \u001b[1;32mc:\\Users\\sclab\\anaconda3\\envs\\torch-cluster\\lib\\site-packages\\torch\\nn\\modules\\module.py:1518\u001b[0m, in \u001b[0;36mModule._wrapped_call_impl\u001b[1;34m(self, *args, **kwargs)\u001b[0m\n\u001b[0;32m   1516\u001b[0m     \u001b[39mreturn\u001b[39;00m \u001b[39mself\u001b[39m\u001b[39m.\u001b[39m_compiled_call_impl(\u001b[39m*\u001b[39margs, \u001b[39m*\u001b[39m\u001b[39m*\u001b[39mkwargs)  \u001b[39m# type: ignore[misc]\u001b[39;00m\n\u001b[0;32m   1517\u001b[0m \u001b[39melse\u001b[39;00m:\n\u001b[1;32m-> 1518\u001b[0m     \u001b[39mreturn\u001b[39;00m \u001b[39mself\u001b[39;49m\u001b[39m.\u001b[39;49m_call_impl(\u001b[39m*\u001b[39;49margs, \u001b[39m*\u001b[39;49m\u001b[39m*\u001b[39;49mkwargs)\n",
      "File \u001b[1;32mc:\\Users\\sclab\\anaconda3\\envs\\torch-cluster\\lib\\site-packages\\torch\\nn\\modules\\module.py:1527\u001b[0m, in \u001b[0;36mModule._call_impl\u001b[1;34m(self, *args, **kwargs)\u001b[0m\n\u001b[0;32m   1522\u001b[0m \u001b[39m# If we don't have any hooks, we want to skip the rest of the logic in\u001b[39;00m\n\u001b[0;32m   1523\u001b[0m \u001b[39m# this function, and just call forward.\u001b[39;00m\n\u001b[0;32m   1524\u001b[0m \u001b[39mif\u001b[39;00m \u001b[39mnot\u001b[39;00m (\u001b[39mself\u001b[39m\u001b[39m.\u001b[39m_backward_hooks \u001b[39mor\u001b[39;00m \u001b[39mself\u001b[39m\u001b[39m.\u001b[39m_backward_pre_hooks \u001b[39mor\u001b[39;00m \u001b[39mself\u001b[39m\u001b[39m.\u001b[39m_forward_hooks \u001b[39mor\u001b[39;00m \u001b[39mself\u001b[39m\u001b[39m.\u001b[39m_forward_pre_hooks\n\u001b[0;32m   1525\u001b[0m         \u001b[39mor\u001b[39;00m _global_backward_pre_hooks \u001b[39mor\u001b[39;00m _global_backward_hooks\n\u001b[0;32m   1526\u001b[0m         \u001b[39mor\u001b[39;00m _global_forward_hooks \u001b[39mor\u001b[39;00m _global_forward_pre_hooks):\n\u001b[1;32m-> 1527\u001b[0m     \u001b[39mreturn\u001b[39;00m forward_call(\u001b[39m*\u001b[39;49margs, \u001b[39m*\u001b[39;49m\u001b[39m*\u001b[39;49mkwargs)\n\u001b[0;32m   1529\u001b[0m \u001b[39mtry\u001b[39;00m:\n\u001b[0;32m   1530\u001b[0m     result \u001b[39m=\u001b[39m \u001b[39mNone\u001b[39;00m\n",
      "\u001b[1;32mc:\\Users\\sclab\\Documents\\Lab\\Subgraph and partitioning method\\graph-ap\\experiments\\5-model-attention-implementation-gin.ipynb Cell 33\u001b[0m line \u001b[0;36m5\n\u001b[0;32m     <a href='vscode-notebook-cell:/c%3A/Users/sclab/Documents/Lab/Subgraph%20and%20partitioning%20method/graph-ap/experiments/5-model-attention-implementation-gin.ipynb#X44sZmlsZQ%3D%3D?line=55'>56</a>\u001b[0m \u001b[39m# generate subgraph based on embeddings\u001b[39;00m\n\u001b[0;32m     <a href='vscode-notebook-cell:/c%3A/Users/sclab/Documents/Lab/Subgraph%20and%20partitioning%20method/graph-ap/experiments/5-model-attention-implementation-gin.ipynb#X44sZmlsZQ%3D%3D?line=56'>57</a>\u001b[0m feature_emb \u001b[39m=\u001b[39m embedding\u001b[39m.\u001b[39mdetach()\n\u001b[1;32m---> <a href='vscode-notebook-cell:/c%3A/Users/sclab/Documents/Lab/Subgraph%20and%20partitioning%20method/graph-ap/experiments/5-model-attention-implementation-gin.ipynb#X44sZmlsZQ%3D%3D?line=58'>59</a>\u001b[0m subgraph_edge_index, communities, S, batch_communities \u001b[39m=\u001b[39m \u001b[39mself\u001b[39;49m\u001b[39m.\u001b[39;49msubgraph_generator(feature_emb, edge_index, batch, ptr)\n\u001b[0;32m     <a href='vscode-notebook-cell:/c%3A/Users/sclab/Documents/Lab/Subgraph%20and%20partitioning%20method/graph-ap/experiments/5-model-attention-implementation-gin.ipynb#X44sZmlsZQ%3D%3D?line=61'>62</a>\u001b[0m subgraph_embedding \u001b[39m=\u001b[39m \u001b[39mself\u001b[39m\u001b[39m.\u001b[39mconv4(embedding, subgraph_edge_index)\n\u001b[0;32m     <a href='vscode-notebook-cell:/c%3A/Users/sclab/Documents/Lab/Subgraph%20and%20partitioning%20method/graph-ap/experiments/5-model-attention-implementation-gin.ipynb#X44sZmlsZQ%3D%3D?line=62'>63</a>\u001b[0m subgraph_embedding \u001b[39m=\u001b[39m subgraph_embedding\u001b[39m.\u001b[39mrelu()\n",
      "\u001b[1;32mc:\\Users\\sclab\\Documents\\Lab\\Subgraph and partitioning method\\graph-ap\\experiments\\5-model-attention-implementation-gin.ipynb Cell 33\u001b[0m line \u001b[0;36m1\n\u001b[0;32m    <a href='vscode-notebook-cell:/c%3A/Users/sclab/Documents/Lab/Subgraph%20and%20partitioning%20method/graph-ap/experiments/5-model-attention-implementation-gin.ipynb#X44sZmlsZQ%3D%3D?line=155'>156</a>\u001b[0m G \u001b[39m=\u001b[39m data_transformation(edge_index, embs)\n\u001b[0;32m    <a href='vscode-notebook-cell:/c%3A/Users/sclab/Documents/Lab/Subgraph%20and%20partitioning%20method/graph-ap/experiments/5-model-attention-implementation-gin.ipynb#X44sZmlsZQ%3D%3D?line=156'>157</a>\u001b[0m \u001b[39m# dont need this at the moment\u001b[39;00m\n\u001b[0;32m    <a href='vscode-notebook-cell:/c%3A/Users/sclab/Documents/Lab/Subgraph%20and%20partitioning%20method/graph-ap/experiments/5-model-attention-implementation-gin.ipynb#X44sZmlsZQ%3D%3D?line=157'>158</a>\u001b[0m \u001b[39m# Gs.append(G)\u001b[39;00m\n\u001b[0;32m    <a href='vscode-notebook-cell:/c%3A/Users/sclab/Documents/Lab/Subgraph%20and%20partitioning%20method/graph-ap/experiments/5-model-attention-implementation-gin.ipynb#X44sZmlsZQ%3D%3D?line=158'>159</a>\u001b[0m \n\u001b[0;32m    <a href='vscode-notebook-cell:/c%3A/Users/sclab/Documents/Lab/Subgraph%20and%20partitioning%20method/graph-ap/experiments/5-model-attention-implementation-gin.ipynb#X44sZmlsZQ%3D%3D?line=159'>160</a>\u001b[0m \u001b[39m# Calculate similarity matrix\u001b[39;00m\n\u001b[1;32m--> <a href='vscode-notebook-cell:/c%3A/Users/sclab/Documents/Lab/Subgraph%20and%20partitioning%20method/graph-ap/experiments/5-model-attention-implementation-gin.ipynb#X44sZmlsZQ%3D%3D?line=160'>161</a>\u001b[0m S \u001b[39m=\u001b[39m calculate_similarity_matrix(G)\n\u001b[0;32m    <a href='vscode-notebook-cell:/c%3A/Users/sclab/Documents/Lab/Subgraph%20and%20partitioning%20method/graph-ap/experiments/5-model-attention-implementation-gin.ipynb#X44sZmlsZQ%3D%3D?line=162'>163</a>\u001b[0m \u001b[39m# AP Clustering        \u001b[39;00m\n\u001b[0;32m    <a href='vscode-notebook-cell:/c%3A/Users/sclab/Documents/Lab/Subgraph%20and%20partitioning%20method/graph-ap/experiments/5-model-attention-implementation-gin.ipynb#X44sZmlsZQ%3D%3D?line=163'>164</a>\u001b[0m clustering \u001b[39m=\u001b[39m AffinityPropagation(affinity\u001b[39m=\u001b[39m\u001b[39m'\u001b[39m\u001b[39mprecomputed\u001b[39m\u001b[39m'\u001b[39m, damping\u001b[39m=\u001b[39m\u001b[39m0.8\u001b[39m, random_state\u001b[39m=\u001b[39m\u001b[39m42\u001b[39m, convergence_iter\u001b[39m=\u001b[39m\u001b[39m15\u001b[39m, max_iter\u001b[39m=\u001b[39m\u001b[39m1000\u001b[39m)\n",
      "File \u001b[1;32mc:\\Users\\sclab\\Documents\\Lab\\Subgraph and partitioning method\\graph-ap\\experiments\\../src\\similarity.py:138\u001b[0m, in \u001b[0;36mcalculate_similarity_matrix\u001b[1;34m(G, gamma)\u001b[0m\n\u001b[0;32m    136\u001b[0m \u001b[39mdef\u001b[39;00m \u001b[39mcalculate_similarity_matrix\u001b[39m(G, gamma \u001b[39m=\u001b[39m \u001b[39m0.8\u001b[39m):\n\u001b[0;32m    137\u001b[0m     transition_probability \u001b[39m=\u001b[39m calculate_transition_probability_matrix(G)\n\u001b[1;32m--> 138\u001b[0m     H \u001b[39m=\u001b[39m calculate_hitpath_matrix(G, transition_probability\u001b[39m=\u001b[39;49mtransition_probability)\n\u001b[0;32m    140\u001b[0m     \u001b[39m# print('somting wong')\u001b[39;00m\n\u001b[0;32m    141\u001b[0m     precalc_shortest_path_length \u001b[39m=\u001b[39m np\u001b[39m.\u001b[39mzeros((\u001b[39mlen\u001b[39m(G\u001b[39m.\u001b[39mnodes), \u001b[39mlen\u001b[39m(G\u001b[39m.\u001b[39mnodes)))\n",
      "File \u001b[1;32mc:\\Users\\sclab\\Documents\\Lab\\Subgraph and partitioning method\\graph-ap\\experiments\\../src\\similarity.py:109\u001b[0m, in \u001b[0;36mcalculate_hitpath_matrix\u001b[1;34m(G, transition_probability)\u001b[0m\n\u001b[0;32m    107\u001b[0m \u001b[39mfor\u001b[39;00m i \u001b[39min\u001b[39;00m G\u001b[39m.\u001b[39mnodes:\n\u001b[0;32m    108\u001b[0m     \u001b[39mfor\u001b[39;00m j \u001b[39min\u001b[39;00m G\u001b[39m.\u001b[39mnodes:\n\u001b[1;32m--> 109\u001b[0m         H[i][j] \u001b[39m=\u001b[39m calculate_hitpath(G, i, j, max_iter\u001b[39m=\u001b[39;49m\u001b[39m100\u001b[39;49m, transition_probability\u001b[39m=\u001b[39;49mtransition_probability)\n\u001b[0;32m    110\u001b[0m \u001b[39mreturn\u001b[39;00m H\n",
      "File \u001b[1;32mc:\\Users\\sclab\\Documents\\Lab\\Subgraph and partitioning method\\graph-ap\\experiments\\../src\\similarity.py:79\u001b[0m, in \u001b[0;36mcalculate_hitpath\u001b[1;34m(G, s, e, max_steps, max_iter, transition_probability)\u001b[0m\n\u001b[0;32m     75\u001b[0m \u001b[39mif\u001b[39;00m \u001b[39mlen\u001b[39m(neighbors) \u001b[39m>\u001b[39m \u001b[39m1\u001b[39m:\n\u001b[0;32m     76\u001b[0m     \u001b[39m# choose step based on transition probability\u001b[39;00m\n\u001b[0;32m     77\u001b[0m     \u001b[39m# print('calculate prob', neighbors)\u001b[39;00m\n\u001b[0;32m     78\u001b[0m     \u001b[39mfor\u001b[39;00m neighbor \u001b[39min\u001b[39;00m neighbors:\n\u001b[1;32m---> 79\u001b[0m         prob_neighbors\u001b[39m.\u001b[39mappend(transition_probability[route[\u001b[39m-\u001b[39;49m\u001b[39m1\u001b[39;49m]][neighbor])\n\u001b[0;32m     80\u001b[0m     choosen_node \u001b[39m=\u001b[39m neighbors[random\u001b[39m.\u001b[39mchoices(\u001b[39mrange\u001b[39m(\u001b[39mlen\u001b[39m(prob_neighbors)), weights\u001b[39m=\u001b[39mprob_neighbors, k\u001b[39m=\u001b[39m\u001b[39m1\u001b[39m)[\u001b[39m0\u001b[39m]]\n\u001b[0;32m     81\u001b[0m     route\u001b[39m.\u001b[39mappend(choosen_node)\n",
      "\u001b[1;31mKeyboardInterrupt\u001b[0m: "
     ]
    }
   ],
   "source": [
    "# \n",
    "train_dataset\n",
    "test_dataset\n",
    "k = 10\n",
    "batch_size = 128\n",
    "\n",
    "splits = KFold(n_splits=k,shuffle=True,random_state=42)\n",
    "k_counter = 0\n",
    "fold_logs = {}\n",
    "\n",
    "for fold, (train_idx,val_idx) in enumerate(splits.split(np.arange(len(train_dataset)))):\n",
    "    print(f'Fold {fold}/{k}')\n",
    "    if (fold < 6):\n",
    "        continue\n",
    "    fold_train = []\n",
    "    for key in train_idx:\n",
    "        fold_train.append(train_dataset[key])\n",
    "\n",
    "    fold_val = [] \n",
    "    for key in val_idx:\n",
    "        fold_val.append(train_dataset[key])\n",
    "\n",
    "    tr = DataLoader(fold_train, batch_size=batch_size, shuffle=True)\n",
    "    vd = DataLoader(fold_val, batch_size=batch_size, shuffle=True)\n",
    "    ts = DataLoader(test_dataset, batch_size=batch_size, shuffle=True)\n",
    "    \n",
    "    print(\"=== Base model vs Experiment ===\")\n",
    "    print(\"=== Base model ===\")\n",
    "    fold_logs[fold] = baseTrain(tr, vd, ts, 50, fold=fold)\n",
    "    print(\"=== Experiment model ===\")\n",
    "    fold_logs[fold] = expTrain(tr, vd, ts, 50, fold=fold)\n",
    "    # break\n",
    "    k_counter += 1\n",
    "    \n",
    "    # break"
   ]
  },
  {
   "cell_type": "code",
   "execution_count": null,
   "metadata": {},
   "outputs": [],
   "source": []
  },
  {
   "cell_type": "code",
   "execution_count": 26,
   "metadata": {},
   "outputs": [
    {
     "name": "stdout",
     "output_type": "stream",
     "text": [
      "{0: None, 1: None, 2: None, 3: None, 4: None, 5: None, 6: None, 7: None, 8: None, 9: None}\n"
     ]
    }
   ],
   "source": [
    "print(fold_logs)"
   ]
  },
  {
   "cell_type": "code",
   "execution_count": 80,
   "metadata": {},
   "outputs": [
    {
     "data": {
      "text/plain": [
       "<All keys matched successfully>"
      ]
     },
     "execution_count": 80,
     "metadata": {},
     "output_type": "execute_result"
    }
   ],
   "source": [
    "e = Experiment(dataset=dataset, hidden_channels=128)\n",
    "e.load_state_dict(torch.load(\"model-history/GIN-MUTAG/6.experiment_best_model-gin_data-mutag.pth\"))"
   ]
  },
  {
   "cell_type": "code",
   "execution_count": null,
   "metadata": {},
   "outputs": [],
   "source": []
  }
 ],
 "metadata": {
  "kernelspec": {
   "display_name": "base",
   "language": "python",
   "name": "python3"
  },
  "language_info": {
   "codemirror_mode": {
    "name": "ipython",
    "version": 3
   },
   "file_extension": ".py",
   "mimetype": "text/x-python",
   "name": "python",
   "nbconvert_exporter": "python",
   "pygments_lexer": "ipython3",
   "version": "3.8.18"
  }
 },
 "nbformat": 4,
 "nbformat_minor": 2
}
