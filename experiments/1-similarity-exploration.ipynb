{
 "cells": [
  {
   "cell_type": "code",
   "execution_count": 1,
   "metadata": {},
   "outputs": [],
   "source": [
    "import networkx as nx\n",
    "import numpy as np\n",
    "import random\n",
    "import math"
   ]
  },
  {
   "cell_type": "markdown",
   "metadata": {},
   "source": [
    "### Preparing Data"
   ]
  },
  {
   "cell_type": "code",
   "execution_count": 2,
   "metadata": {},
   "outputs": [],
   "source": [
    "# Define the edge index and create the graph\n",
    "edge_index = [ \n",
    "            [ 0, 0, 1, 1, 2, 2, 3, 3, 3, 4, 4, 4, 5, 5, 6, 6, 7, 7, 8, 8, 8, 9, 9, 9, 10, 10, 11, 11, 12, 12, 12, 13, 13, 14, 14, 14, 15, 16 ], \n",
    "            [ 1, 5, 0, 2, 1, 3, 2, 4, 9, 3, 5, 6, 0, 4, 4, 7, 6, 8, 7, 9, 13, 3, 8, 10, 9, 11, 10, 12, 11, 13, 14, 8, 12, 12, 15, 16, 14, 14 ] \n",
    "]\n",
    "\n",
    "G = nx.Graph()\n",
    "for start, end in zip(*edge_index):\n",
    "    G.add_edge(start, end)\n",
    "\n",
    "# Define the node features (not used in RWR but given for context)\n",
    "node_features = [ \n",
    "                 [ 1, 0, 0, 0, 0, 0, 0 ], \n",
    "                 [ 1, 0, 0, 0, 0, 0, 0 ], \n",
    "                 [ 1, 0, 0, 0, 0, 0, 0 ], \n",
    "                 [ 1, 0, 0, 0, 0, 0, 0 ], \n",
    "                 [ 1, 0, 0, 0, 0, 0, 0 ], \n",
    "                 [ 1, 0, 0, 0, 0, 0, 0 ], \n",
    "                 [ 1, 0, 0, 0, 0, 0, 0 ], \n",
    "                 [ 1, 0, 0, 0, 0, 0, 0 ], \n",
    "                 [ 1, 0, 0, 0, 0, 0, 0 ], \n",
    "                 [ 1, 0, 0, 0, 0, 0, 0 ], \n",
    "                 [ 1, 0, 0, 0, 0, 0, 0 ], \n",
    "                 [ 1, 0, 0, 0, 0, 0, 0 ], \n",
    "                 [ 1, 0, 0, 0, 0, 0, 0 ], \n",
    "                 [ 1, 0, 0, 0, 0, 0, 0 ], \n",
    "                 [ 0, 1, 0, 0, 0, 0, 0 ], \n",
    "                 [ 0, 0, 1, 0, 0, 0, 0 ], \n",
    "                 [ 0, 0, 1, 0, 0, 0, 0 ] \n",
    "                 ]\n",
    "\n",
    "edge_attr = [ [ 1, 0, 0, 0 ], [ 1, 0, 0, 0 ], [ 1, 0, 0, 0 ], [ 1, 0, 0, 0 ], [ 1, 0, 0, 0 ], [ 1, 0, 0, 0 ], [ 1, 0, 0, 0 ], [ 1, 0, 0, 0 ], [ 1, 0, 0, 0 ], [ 1, 0, 0, 0 ], [ 1, 0, 0, 0 ], [ 1, 0, 0, 0 ], [ 1, 0, 0, 0 ], [ 1, 0, 0, 0 ], [ 1, 0, 0, 0 ], [ 1, 0, 0, 0 ], [ 1, 0, 0, 0 ], [ 1, 0, 0, 0 ], [ 1, 0, 0, 0 ], [ 1, 0, 0, 0 ], [ 1, 0, 0, 0 ], [ 1, 0, 0, 0 ], [ 1, 0, 0, 0 ], [ 1, 0, 0, 0 ], [ 1, 0, 0, 0 ], [ 1, 0, 0, 0 ], [ 1, 0, 0, 0 ], [ 1, 0, 0, 0 ], [ 1, 0, 0, 0 ], [ 1, 0, 0, 0 ], [ 0, 1, 0, 0 ], [ 1, 0, 0, 0 ], [ 1, 0, 0, 0 ], [ 0, 1, 0, 0 ], [ 0, 0, 1, 0 ], [ 0, 1, 0, 0 ], [ 0, 0, 1, 0 ], [ 0, 1, 0, 0 ] ]\n",
    "\n",
    "# Applying RWR for all pairs of nodes\n",
    "num_nodes = len(G.nodes())\n",
    "rwr_matrix = np.zeros((num_nodes, num_nodes))\n",
    "\n",
    "# for s in range(num_nodes):\n",
    "#     for e in range(num_nodes):\n",
    "#         rwr_matrix[s, e] = random_walk_with_restart_max_steps(G, s, e)\n",
    "\n",
    "# rwr_matrix\n"
   ]
  },
  {
   "cell_type": "code",
   "execution_count": 3,
   "metadata": {},
   "outputs": [
    {
     "name": "stdout",
     "output_type": "stream",
     "text": [
      "[0, 1, 5, 2, 3, 4, 9, 6, 7, 8, 13, 10, 11, 12, 14, 15, 16]\n"
     ]
    }
   ],
   "source": [
    "n = G.nodes\n",
    "print(n)"
   ]
  },
  {
   "cell_type": "code",
   "execution_count": 4,
   "metadata": {},
   "outputs": [
    {
     "data": {
      "text/plain": [
       "EdgeView([(0, 1), (0, 5), (1, 2), (5, 4), (2, 3), (3, 4), (3, 9), (4, 6), (9, 8), (9, 10), (6, 7), (7, 8), (8, 13), (13, 12), (10, 11), (11, 12), (12, 14), (14, 15), (14, 16)])"
      ]
     },
     "execution_count": 4,
     "metadata": {},
     "output_type": "execute_result"
    }
   ],
   "source": [
    "G.edges"
   ]
  },
  {
   "cell_type": "code",
   "execution_count": 5,
   "metadata": {},
   "outputs": [
    {
     "name": "stdout",
     "output_type": "stream",
     "text": [
      "{0: array([1, 0, 0, 0, 0, 0, 0]), 1: array([1, 0, 0, 0, 0, 0, 0]), 2: array([1, 0, 0, 0, 0, 0, 0]), 3: array([1, 0, 0, 0, 0, 0, 0]), 4: array([1, 0, 0, 0, 0, 0, 0]), 5: array([1, 0, 0, 0, 0, 0, 0]), 6: array([1, 0, 0, 0, 0, 0, 0]), 7: array([1, 0, 0, 0, 0, 0, 0]), 8: array([1, 0, 0, 0, 0, 0, 0]), 9: array([1, 0, 0, 0, 0, 0, 0]), 10: array([1, 0, 0, 0, 0, 0, 0]), 11: array([1, 0, 0, 0, 0, 0, 0]), 12: array([1, 0, 0, 0, 0, 0, 0]), 13: array([1, 0, 0, 0, 0, 0, 0]), 14: array([0, 1, 0, 0, 0, 0, 0]), 15: array([0, 0, 1, 0, 0, 0, 0]), 16: array([0, 0, 1, 0, 0, 0, 0])}\n"
     ]
    }
   ],
   "source": [
    "# Feature to dic node\n",
    "feat_dic = {}\n",
    "for index, feat in enumerate(node_features):\n",
    "    feat_dic[index] = np.array(feat)\n",
    "print(feat_dic)"
   ]
  },
  {
   "cell_type": "code",
   "execution_count": 6,
   "metadata": {},
   "outputs": [],
   "source": [
    "# Edge features\n",
    "nx.set_edge_attributes(G, edge_attr, \"edge_attr\")"
   ]
  },
  {
   "cell_type": "code",
   "execution_count": 7,
   "metadata": {},
   "outputs": [
    {
     "data": {
      "text/plain": [
       "dict_keys([0, 1, 2, 3, 4, 5, 6, 7, 8, 9, 10, 11, 12, 13, 14, 15, 16])"
      ]
     },
     "execution_count": 7,
     "metadata": {},
     "output_type": "execute_result"
    }
   ],
   "source": [
    "feat_dic.keys()"
   ]
  },
  {
   "cell_type": "code",
   "execution_count": 8,
   "metadata": {},
   "outputs": [],
   "source": [
    "nx.set_node_attributes(G, values=feat_dic, name=\"node_features\")"
   ]
  },
  {
   "cell_type": "code",
   "execution_count": 9,
   "metadata": {},
   "outputs": [
    {
     "name": "stdout",
     "output_type": "stream",
     "text": [
      "{'node_features': array([1, 0, 0, 0, 0, 0, 0])}\n",
      "0\n",
      "{'node_features': array([1, 0, 0, 0, 0, 0, 0])}\n",
      "1\n",
      "{'node_features': array([1, 0, 0, 0, 0, 0, 0])}\n",
      "5\n",
      "{'node_features': array([1, 0, 0, 0, 0, 0, 0])}\n",
      "2\n",
      "{'node_features': array([1, 0, 0, 0, 0, 0, 0])}\n",
      "3\n",
      "{'node_features': array([1, 0, 0, 0, 0, 0, 0])}\n",
      "4\n",
      "{'node_features': array([1, 0, 0, 0, 0, 0, 0])}\n",
      "9\n",
      "{'node_features': array([1, 0, 0, 0, 0, 0, 0])}\n",
      "6\n",
      "{'node_features': array([1, 0, 0, 0, 0, 0, 0])}\n",
      "7\n",
      "{'node_features': array([1, 0, 0, 0, 0, 0, 0])}\n",
      "8\n",
      "{'node_features': array([1, 0, 0, 0, 0, 0, 0])}\n",
      "13\n",
      "{'node_features': array([1, 0, 0, 0, 0, 0, 0])}\n",
      "10\n",
      "{'node_features': array([1, 0, 0, 0, 0, 0, 0])}\n",
      "11\n",
      "{'node_features': array([1, 0, 0, 0, 0, 0, 0])}\n",
      "12\n",
      "{'node_features': array([0, 1, 0, 0, 0, 0, 0])}\n",
      "14\n",
      "{'node_features': array([0, 0, 1, 0, 0, 0, 0])}\n",
      "15\n",
      "{'node_features': array([0, 0, 1, 0, 0, 0, 0])}\n",
      "16\n"
     ]
    }
   ],
   "source": [
    "for node in G.nodes:\n",
    "    print(G.nodes[node])\n",
    "    print(node)"
   ]
  },
  {
   "cell_type": "markdown",
   "metadata": {},
   "source": [
    "### HitPath"
   ]
  },
  {
   "cell_type": "markdown",
   "metadata": {},
   "source": [
    "#### Probability"
   ]
  },
  {
   "cell_type": "code",
   "execution_count": 10,
   "metadata": {},
   "outputs": [
    {
     "data": {
      "text/plain": [
       "array([[0. , 0. , 0. , 0. , 0. , 0. , 0. , 0. , 0. , 0. , 0. , 0. , 0. ,\n",
       "        0. , 1.4, 1.4, 1.4],\n",
       "       [0. , 0. , 0. , 0. , 0. , 0. , 0. , 0. , 0. , 0. , 0. , 0. , 0. ,\n",
       "        0. , 1.4, 1.4, 1.4],\n",
       "       [0. , 0. , 0. , 0. , 0. , 0. , 0. , 0. , 0. , 0. , 0. , 0. , 0. ,\n",
       "        0. , 1.4, 1.4, 1.4],\n",
       "       [0. , 0. , 0. , 0. , 0. , 0. , 0. , 0. , 0. , 0. , 0. , 0. , 0. ,\n",
       "        0. , 1.4, 1.4, 1.4],\n",
       "       [0. , 0. , 0. , 0. , 0. , 0. , 0. , 0. , 0. , 0. , 0. , 0. , 0. ,\n",
       "        0. , 1.4, 1.4, 1.4],\n",
       "       [0. , 0. , 0. , 0. , 0. , 0. , 0. , 0. , 0. , 0. , 0. , 0. , 0. ,\n",
       "        0. , 1.4, 1.4, 1.4],\n",
       "       [0. , 0. , 0. , 0. , 0. , 0. , 0. , 0. , 0. , 0. , 0. , 0. , 0. ,\n",
       "        0. , 1.4, 1.4, 1.4],\n",
       "       [0. , 0. , 0. , 0. , 0. , 0. , 0. , 0. , 0. , 0. , 0. , 0. , 0. ,\n",
       "        0. , 1.4, 1.4, 1.4],\n",
       "       [0. , 0. , 0. , 0. , 0. , 0. , 0. , 0. , 0. , 0. , 0. , 0. , 0. ,\n",
       "        0. , 1.4, 1.4, 1.4],\n",
       "       [0. , 0. , 0. , 0. , 0. , 0. , 0. , 0. , 0. , 0. , 0. , 0. , 0. ,\n",
       "        0. , 1.4, 1.4, 1.4],\n",
       "       [0. , 0. , 0. , 0. , 0. , 0. , 0. , 0. , 0. , 0. , 0. , 0. , 0. ,\n",
       "        0. , 1.4, 1.4, 1.4],\n",
       "       [0. , 0. , 0. , 0. , 0. , 0. , 0. , 0. , 0. , 0. , 0. , 0. , 0. ,\n",
       "        0. , 1.4, 1.4, 1.4],\n",
       "       [0. , 0. , 0. , 0. , 0. , 0. , 0. , 0. , 0. , 0. , 0. , 0. , 0. ,\n",
       "        0. , 1.4, 1.4, 1.4],\n",
       "       [0. , 0. , 0. , 0. , 0. , 0. , 0. , 0. , 0. , 0. , 0. , 0. , 0. ,\n",
       "        0. , 1.4, 1.4, 1.4],\n",
       "       [1.4, 1.4, 1.4, 1.4, 1.4, 1.4, 1.4, 1.4, 1.4, 1.4, 1.4, 1.4, 1.4,\n",
       "        1.4, 0. , 1.4, 1.4],\n",
       "       [1.4, 1.4, 1.4, 1.4, 1.4, 1.4, 1.4, 1.4, 1.4, 1.4, 1.4, 1.4, 1.4,\n",
       "        1.4, 1.4, 0. , 0. ],\n",
       "       [1.4, 1.4, 1.4, 1.4, 1.4, 1.4, 1.4, 1.4, 1.4, 1.4, 1.4, 1.4, 1.4,\n",
       "        1.4, 1.4, 0. , 0. ]])"
      ]
     },
     "execution_count": 10,
     "metadata": {},
     "output_type": "execute_result"
    }
   ],
   "source": [
    "# W vi to vj\n",
    "# return matrix N x N\n",
    "W = np.zeros((len(G.nodes), len(G.nodes)))\n",
    "for i in G.nodes:\n",
    "    for j in G.nodes:\n",
    "        W[i][j] = round(np.linalg.norm(G.nodes[i]['node_features'] - G.nodes[j]['node_features']), 1)\n",
    "W"
   ]
  },
  {
   "cell_type": "code",
   "execution_count": 11,
   "metadata": {},
   "outputs": [
    {
     "name": "stdout",
     "output_type": "stream",
     "text": [
      "0 [1, 5]\n",
      "1 [0, 2]\n",
      "5 [0, 4]\n",
      "2 [1, 3]\n",
      "3 [2, 4, 9]\n",
      "4 [3, 5, 6]\n",
      "9 [3, 8, 10]\n",
      "6 [4, 7]\n",
      "7 [6, 8]\n",
      "8 [7, 9, 13]\n",
      "13 [8, 12]\n",
      "10 [9, 11]\n",
      "11 [10, 12]\n",
      "12 [11, 13, 14]\n",
      "14 [12, 15, 16]\n",
      "15 [14]\n",
      "16 [14]\n"
     ]
    },
    {
     "data": {
      "text/plain": [
       "array([[0.  , 0.5 , 0.  , 0.  , 0.  , 0.5 , 0.  , 0.  , 0.  , 0.  , 0.  ,\n",
       "        0.  , 0.  , 0.  , 0.  , 0.  , 0.  ],\n",
       "       [0.5 , 0.  , 0.5 , 0.  , 0.  , 0.  , 0.  , 0.  , 0.  , 0.  , 0.  ,\n",
       "        0.  , 0.  , 0.  , 0.  , 0.  , 0.  ],\n",
       "       [0.  , 0.5 , 0.  , 0.5 , 0.  , 0.  , 0.  , 0.  , 0.  , 0.  , 0.  ,\n",
       "        0.  , 0.  , 0.  , 0.  , 0.  , 0.  ],\n",
       "       [0.  , 0.  , 0.33, 0.  , 0.33, 0.  , 0.  , 0.  , 0.  , 0.33, 0.  ,\n",
       "        0.  , 0.  , 0.  , 0.  , 0.  , 0.  ],\n",
       "       [0.  , 0.  , 0.  , 0.33, 0.  , 0.33, 0.33, 0.  , 0.  , 0.  , 0.  ,\n",
       "        0.  , 0.  , 0.  , 0.  , 0.  , 0.  ],\n",
       "       [0.5 , 0.  , 0.  , 0.  , 0.5 , 0.  , 0.  , 0.  , 0.  , 0.  , 0.  ,\n",
       "        0.  , 0.  , 0.  , 0.  , 0.  , 0.  ],\n",
       "       [0.  , 0.  , 0.  , 0.  , 0.5 , 0.  , 0.  , 0.5 , 0.  , 0.  , 0.  ,\n",
       "        0.  , 0.  , 0.  , 0.  , 0.  , 0.  ],\n",
       "       [0.  , 0.  , 0.  , 0.  , 0.  , 0.  , 0.5 , 0.  , 0.5 , 0.  , 0.  ,\n",
       "        0.  , 0.  , 0.  , 0.  , 0.  , 0.  ],\n",
       "       [0.  , 0.  , 0.  , 0.  , 0.  , 0.  , 0.  , 0.33, 0.  , 0.33, 0.  ,\n",
       "        0.  , 0.  , 0.33, 0.  , 0.  , 0.  ],\n",
       "       [0.  , 0.  , 0.  , 0.33, 0.  , 0.  , 0.  , 0.  , 0.33, 0.  , 0.33,\n",
       "        0.  , 0.  , 0.  , 0.  , 0.  , 0.  ],\n",
       "       [0.  , 0.  , 0.  , 0.  , 0.  , 0.  , 0.  , 0.  , 0.  , 0.5 , 0.  ,\n",
       "        0.5 , 0.  , 0.  , 0.  , 0.  , 0.  ],\n",
       "       [0.  , 0.  , 0.  , 0.  , 0.  , 0.  , 0.  , 0.  , 0.  , 0.  , 0.5 ,\n",
       "        0.  , 0.5 , 0.  , 0.  , 0.  , 0.  ],\n",
       "       [0.  , 0.  , 0.  , 0.  , 0.  , 0.  , 0.  , 0.  , 0.  , 0.  , 0.  ,\n",
       "        0.  , 0.  , 0.  , 1.  , 0.  , 0.  ],\n",
       "       [0.  , 0.  , 0.  , 0.  , 0.  , 0.  , 0.  , 0.  , 0.5 , 0.  , 0.  ,\n",
       "        0.  , 0.5 , 0.  , 0.  , 0.  , 0.  ],\n",
       "       [0.  , 0.  , 0.  , 0.  , 0.  , 0.  , 0.  , 0.  , 0.  , 0.  , 0.  ,\n",
       "        0.  , 0.33, 0.  , 0.  , 0.33, 0.33],\n",
       "       [0.  , 0.  , 0.  , 0.  , 0.  , 0.  , 0.  , 0.  , 0.  , 0.  , 0.  ,\n",
       "        0.  , 0.  , 0.  , 1.  , 0.  , 0.  ],\n",
       "       [0.  , 0.  , 0.  , 0.  , 0.  , 0.  , 0.  , 0.  , 0.  , 0.  , 0.  ,\n",
       "        0.  , 0.  , 0.  , 1.  , 0.  , 0.  ]])"
      ]
     },
     "execution_count": 11,
     "metadata": {},
     "output_type": "execute_result"
    }
   ],
   "source": [
    "P = np.zeros((len(G.nodes), len(G.nodes)))\n",
    "for i in G.nodes:\n",
    "    # for neighbor in G.neighbors(i):\n",
    "    neighbors = list(G.neighbors(i))\n",
    "    denum = 0\n",
    "    print(i, neighbors)\n",
    "    for neighbor in neighbors:\n",
    "        denum += W[i][neighbor]\n",
    "    for neighbor in neighbors:\n",
    "        # if W[i][neighbor] == 0:\n",
    "        if denum == 0:\n",
    "            P[i][neighbor] = round(1/len(neighbors), 2)\n",
    "            continue\n",
    "        P[i][neighbor] = round(W[i][neighbor]/denum, 2)\n",
    "    #     print(W[i][neighbor])\n",
    "    # print(\"=\", denum)\n",
    "    # break\n",
    "P"
   ]
  },
  {
   "cell_type": "markdown",
   "metadata": {},
   "source": [
    "Probability refactoring"
   ]
  },
  {
   "cell_type": "code",
   "execution_count": 12,
   "metadata": {},
   "outputs": [],
   "source": [
    "def calculate_transition_probability(G):\n",
    "    # W vi to vj\n",
    "    # return matrix N x N\n",
    "    W = np.zeros((len(G.nodes), len(G.nodes)))\n",
    "    for i in G.nodes:\n",
    "        for j in G.nodes:\n",
    "            W[i][j] = round(np.linalg.norm(G.nodes[i]['node_features'] - G.nodes[j]['node_features']), 1)\n",
    "    # W\n",
    "\n",
    "    P = np.zeros((len(G.nodes), len(G.nodes)))\n",
    "    for i in G.nodes:\n",
    "        # for neighbor in G.neighbors(i):\n",
    "        neighbors = list(G.neighbors(i))\n",
    "        denum = 0\n",
    "        # print(i, neighbors)\n",
    "        for neighbor in neighbors:\n",
    "            denum += W[i][neighbor]\n",
    "        for neighbor in neighbors:\n",
    "            # if W[i][neighbor] == 0:\n",
    "            if denum == 0:\n",
    "                P[i][neighbor] = round(1/len(neighbors), 2)\n",
    "                continue\n",
    "            P[i][neighbor] = round(W[i][neighbor]/denum, 2)\n",
    "        #     print(W[i][neighbor])\n",
    "        # print(\"=\", denum)\n",
    "        # break\n",
    "    return P"
   ]
  },
  {
   "cell_type": "code",
   "execution_count": 13,
   "metadata": {},
   "outputs": [
    {
     "data": {
      "text/plain": [
       "53.75"
      ]
     },
     "execution_count": 13,
     "metadata": {},
     "output_type": "execute_result"
    }
   ],
   "source": [
    "\n",
    "def hitpath(G, s, e, max_steps = G.number_of_nodes()//2, max_iter = 10):\n",
    "    transition_probability = calculate_transition_probability(G)\n",
    "    # print(transition_probability)\n",
    "    sigma = 4 * G.number_of_nodes()  \n",
    "    \n",
    "    hitting_distance = []\n",
    "    \n",
    "    for _ in range(max_iter):\n",
    "        # print(f'iter {_}')\n",
    "        \n",
    "        # save route\n",
    "        route = [s] \n",
    "        step_counter = 0\n",
    "        \n",
    "        # print(s)\n",
    "        hitpath = 0\n",
    "        \n",
    "        # do random walk bounded by max steps\n",
    "        while (step_counter < max_steps):\n",
    "            prob_neighbors = []\n",
    "            if route[-1] in G:\n",
    "                # see neighbors\n",
    "                neighbors = list(G.neighbors(route[-1]))\n",
    "                if neighbors:\n",
    "                    if len(neighbors) > 1:\n",
    "                        # choose step based on transition probability\n",
    "                        # print('calculate prob', neighbors)\n",
    "                        for neighbor in neighbors:\n",
    "                            prob_neighbors.append(transition_probability[route[-1]][neighbor])\n",
    "                        choosen_node = neighbors[random.choices(range(len(prob_neighbors)), weights=prob_neighbors, k=1)[0]]\n",
    "                        route.append(choosen_node)\n",
    "                    elif len(neighbors) == 1:\n",
    "                        # can walk directly\n",
    "                        # print('walk')\n",
    "                        route.append(neighbors[0])\n",
    "                        # print('walk, ', route)\n",
    "                \n",
    "                # print('Step: ', step_counter,'stat', neighbors, prob_neighbors, choosen_node)\n",
    "            step_counter+=1\n",
    "            if (e in route):\n",
    "                break\n",
    "        if step_counter == max_steps:\n",
    "            hitting_distance.append(sigma)\n",
    "        else:\n",
    "            hitdist = 0\n",
    "            for i in range(len(route)-1):\n",
    "                hitdist += 1\n",
    "            hitting_distance.append(hitdist)\n",
    "        # after walk, calculate hitting distance\n",
    "        \n",
    "        hitpath = sum(hitting_distance)/(max_steps)\n",
    "        \n",
    "        # print(_, \" --> Route: \", route, \"max exceeded\" if step_counter == max_steps else \"reached, H=\", hitting_distance,hitpath)\n",
    "    hitpath = sum(hitting_distance)/(max_steps)\n",
    "    \n",
    "    return hitpath\n",
    "hitpath(G, 0, 3, max_iter=10)"
   ]
  },
  {
   "cell_type": "code",
   "execution_count": 33,
   "metadata": {},
   "outputs": [],
   "source": [
    "H = np.zeros((len(G.nodes), len(G.nodes)))\n",
    "for i in G.nodes:\n",
    "    for j in G.nodes:\n",
    "        H[i][j] = hitpath(G, i, j, max_iter=100)"
   ]
  },
  {
   "cell_type": "code",
   "execution_count": 34,
   "metadata": {},
   "outputs": [
    {
     "data": {
      "text/plain": [
       "array([[ 12.5  , 256.25 , 469.5  , 438.75 , 406.75 , 294.125, 636.125,\n",
       "        716.25 , 803.5  , 755.75 , 780.625, 826.75 , 827.125, 842.25 ,\n",
       "        850.   , 850.   , 850.   ],\n",
       "       [176.25 ,  12.5  , 207.   , 392.75 , 515.75 , 375.75 , 763.5  ,\n",
       "        803.75 , 779.25 , 669.375, 794.75 , 811.125, 834.5  , 811.625,\n",
       "        842.375, 850.   , 850.   ],\n",
       "       [446.25 , 320.25 ,  12.5  , 213.875, 518.25 , 501.75 , 685.125,\n",
       "        780.   , 731.375, 608.5  , 730.875, 795.   , 818.75 , 834.5  ,\n",
       "        834.5  , 842.375, 842.375],\n",
       "       [650.125, 581.5  , 429.375,  12.5  , 395.625, 617.75 , 688.75 ,\n",
       "        668.625, 712.75 , 399.125, 672.   , 762.625, 747.75 , 755.25 ,\n",
       "        749.625, 834.5  , 826.75 ],\n",
       "       [568.25 , 518.   , 608.25 , 300.375,  12.5  , 316.125, 407.   ,\n",
       "        647.   , 638.125, 577.   , 756.   , 803.5  , 842.125, 802.25 ,\n",
       "        826.75 , 842.375, 834.75 ],\n",
       "       [303.25 , 444.75 , 501.75 , 479.75 , 232.625,  12.5  , 591.25 ,\n",
       "        660.75 , 787.25 , 694.   , 779.25 , 811.625, 811.25 , 819.25 ,\n",
       "        834.75 , 850.   , 850.   ],\n",
       "       [627.   , 740.25 , 748.375, 587.25 , 249.125, 560.75 ,  12.5  ,\n",
       "        311.625, 535.25 , 612.75 , 795.   , 804.   , 786.5  , 684.625,\n",
       "        780.625, 842.25 , 842.25 ],\n",
       "       [763.5  , 710.5  , 803.25 , 653.875, 414.25 , 762.125, 283.25 ,\n",
       "         12.5  , 181.125, 593.   , 699.125, 803.   , 613.25 , 639.25 ,\n",
       "        715.75 , 811.125, 788.   ],\n",
       "       [819.25 , 811.   , 794.875, 705.   , 643.75 , 755.75 , 600.25 ,\n",
       "        472.   ,  12.5  , 414.125, 671.25 , 715.875, 519.25 , 396.875,\n",
       "        603.875, 755.75 , 716.   ],\n",
       "       [795.25 , 659.5  , 639.75 , 477.625, 640.25 , 771.   , 643.5  ,\n",
       "        655.75 , 379.125,  12.5  , 506.5  , 612.75 , 642.5  , 655.5  ,\n",
       "        645.25 , 764.625, 757.75 ],\n",
       "       [803.75 , 795.25 , 724.25 , 511.5  , 746.375, 795.   , 747.5  ,\n",
       "        762.375, 592.75 , 252.5  ,  12.5  , 337.   , 413.75 , 747.625,\n",
       "        469.25 , 739.25 , 747.5  ],\n",
       "       [834.5  , 842.375, 826.5  , 676.   , 834.25 , 804.   , 811.625,\n",
       "        794.75 , 762.375, 621.25 , 406.125,  12.5  , 246.375, 818.25 ,\n",
       "        302.75 , 461.875, 487.   ],\n",
       "       [850.   , 850.   , 850.   , 850.   , 850.   , 850.   , 850.   ,\n",
       "        850.   , 850.   , 850.   , 850.   , 850.   ,  12.5  , 850.   ,\n",
       "         12.5  , 293.   , 299.5  ],\n",
       "       [834.5  , 803.75 , 794.75 , 707.25 , 731.5  , 842.125, 746.125,\n",
       "        687.5  , 456.375, 589.75 , 754.   , 810.5  , 313.875,  12.5  ,\n",
       "        366.25 , 540.125, 510.625],\n",
       "       [850.   , 850.   , 850.   , 850.   , 850.   , 850.   , 850.   ,\n",
       "        850.   , 850.   , 850.   , 850.   , 850.   , 216.5  , 850.   ,\n",
       "         12.5  , 191.875, 144.625],\n",
       "       [850.   , 850.   , 850.   , 850.   , 850.   , 850.   , 850.   ,\n",
       "        850.   , 850.   , 850.   , 850.   , 850.   , 333.75 , 850.   ,\n",
       "         12.5  ,  12.5  , 282.75 ],\n",
       "       [850.   , 850.   , 850.   , 850.   , 850.   , 850.   , 850.   ,\n",
       "        850.   , 850.   , 850.   , 850.   , 850.   , 281.   , 850.   ,\n",
       "         12.5  , 269.75 ,  12.5  ]])"
      ]
     },
     "execution_count": 34,
     "metadata": {},
     "output_type": "execute_result"
    }
   ],
   "source": [
    "H"
   ]
  },
  {
   "cell_type": "code",
   "execution_count": 35,
   "metadata": {},
   "outputs": [
    {
     "data": {
      "text/plain": [
       "8935.917954654691"
      ]
     },
     "execution_count": 35,
     "metadata": {},
     "output_type": "execute_result"
    }
   ],
   "source": [
    "def similarity(G, H, s, e, gamma = 0.8):\n",
    "    # print('wow')\n",
    "    similarity = 0\n",
    "    shortest_path_length = nx.shortest_path_length(G, s, e)\n",
    "    \n",
    "    # print(similarity)\n",
    "    similarity = (gamma * math.exp(-shortest_path_length)) + ((1-gamma) * ((H[s][e] - H[e][s])**2))\n",
    "    return similarity\n",
    "similarity(G, H, 0, 3)"
   ]
  },
  {
   "cell_type": "code",
   "execution_count": 38,
   "metadata": {},
   "outputs": [
    {
     "name": "stdout",
     "output_type": "stream",
     "text": [
      "256.25\n",
      "176.25\n",
      "1280.294303552937\n",
      "1280.294303552937\n"
     ]
    }
   ],
   "source": [
    "s = 0\n",
    "e = 1\n",
    "\n",
    "print(H[s][e])\n",
    "print(H[e][s])\n",
    "print(similarity(G, H, s, e))\n",
    "print(similarity(G, H, e, s))"
   ]
  },
  {
   "cell_type": "code",
   "execution_count": 25,
   "metadata": {},
   "outputs": [
    {
     "data": {
      "text/plain": [
       "array([[1.0000e+00, 1.1700e+02, 4.7000e+01, 7.9100e+03, 2.4090e+03,\n",
       "        4.2780e+03, 1.2600e+02, 1.1500e+02, 4.5000e+01, 2.7260e+03,\n",
       "        3.0600e+02, 1.2000e+01, 0.0000e+00, 4.8000e+01, 0.0000e+00,\n",
       "        0.0000e+00, 0.0000e+00],\n",
       "       [1.1700e+02, 1.0000e+00, 3.2200e+02, 5.6280e+03, 8.1300e+02,\n",
       "        4.9610e+03, 6.1000e+01, 4.7000e+01, 1.3000e+01, 3.2200e+02,\n",
       "        0.0000e+00, 1.0700e+02, 1.2000e+01, 1.2000e+01, 1.0500e+02,\n",
       "        0.0000e+00, 0.0000e+00],\n",
       "       [4.7000e+01, 3.2200e+02, 1.0000e+00, 1.2916e+04, 2.1950e+03,\n",
       "        5.5900e+02, 1.2250e+03, 5.3000e+01, 2.9500e+02, 3.8090e+03,\n",
       "        5.1000e+01, 5.1000e+01, 4.8000e+01, 1.1500e+02, 3.0000e+02,\n",
       "        0.0000e+00, 0.0000e+00],\n",
       "       [7.9100e+03, 5.6280e+03, 1.2916e+04, 1.0000e+00, 5.1000e+01,\n",
       "        4.6100e+02, 1.9410e+03, 1.0050e+03, 2.8680e+03, 1.0700e+03,\n",
       "        8.9100e+02, 1.0480e+03, 3.1750e+03, 1.0500e+02, 9.8400e+02,\n",
       "        1.2000e+01, 4.8000e+01],\n",
       "       [2.4090e+03, 8.1300e+02, 2.1950e+03, 5.1000e+01, 1.0000e+00,\n",
       "        4.3960e+03, 6.7600e+02, 3.3410e+03, 1.2100e+02, 1.9500e+02,\n",
       "        3.1000e+02, 2.0200e+02, 1.8900e+02, 8.0000e+02, 4.8000e+01,\n",
       "        1.0500e+02, 1.2000e+01],\n",
       "       [4.2780e+03, 4.9610e+03, 5.5900e+02, 4.6100e+02, 4.3960e+03,\n",
       "        1.0000e+00, 2.1530e+03, 6.2400e+02, 2.0200e+02, 2.3650e+03,\n",
       "        1.2000e+01, 1.2000e+01, 0.0000e+00, 1.9800e+02, 4.7000e+01,\n",
       "        0.0000e+00, 0.0000e+00],\n",
       "       [1.2600e+02, 6.1000e+01, 1.2250e+03, 1.9410e+03, 6.7600e+02,\n",
       "        2.1530e+03, 1.0000e+00, 5.4600e+02, 6.2200e+02, 6.4100e+02,\n",
       "        1.1000e+01, 1.0000e+01, 1.2480e+03, 2.2800e+02, 5.8600e+02,\n",
       "        4.8000e+01, 4.8000e+01],\n",
       "       [1.1500e+02, 4.7000e+01, 5.3000e+01, 1.0050e+03, 3.3410e+03,\n",
       "        6.2400e+02, 5.4600e+02, 1.0000e+00, 4.9070e+03, 4.0330e+03,\n",
       "        1.1200e+02, 5.3000e+01, 6.6340e+03, 2.0910e+03, 2.7970e+03,\n",
       "        1.0900e+02, 9.7000e+02],\n",
       "       [4.5000e+01, 1.3000e+01, 2.9500e+02, 2.8680e+03, 1.2100e+02,\n",
       "        2.0200e+02, 6.2200e+02, 4.9070e+03, 1.0000e+00, 7.9700e+02,\n",
       "        3.6100e+02, 1.4000e+01, 1.6820e+04, 3.5700e+02, 1.1281e+04,\n",
       "        1.4960e+03, 1.4880e+03],\n",
       "       [2.7260e+03, 3.2200e+02, 3.8090e+03, 1.0700e+03, 1.9500e+02,\n",
       "        2.3650e+03, 6.4100e+02, 4.0330e+03, 7.9700e+02, 1.0000e+00,\n",
       "        1.1116e+04, 8.5200e+02, 6.7250e+03, 8.0000e+02, 1.3494e+04,\n",
       "        2.3330e+03, 7.6900e+02],\n",
       "       [3.0600e+02, 0.0000e+00, 5.1000e+01, 8.9100e+02, 3.1000e+02,\n",
       "        1.2000e+01, 1.1000e+01, 1.1200e+02, 3.6100e+02, 1.1116e+04,\n",
       "        1.0000e+00, 1.5530e+03, 2.0834e+04, 4.1900e+02, 3.2785e+04,\n",
       "        7.6440e+03, 2.0910e+03],\n",
       "       [1.2000e+01, 1.0700e+02, 5.1000e+01, 1.0480e+03, 2.0200e+02,\n",
       "        1.2000e+01, 1.0000e+01, 5.3000e+01, 1.4000e+01, 8.5200e+02,\n",
       "        1.5530e+03, 1.0000e+00, 5.5599e+04, 4.5600e+02, 6.3000e+04,\n",
       "        2.2832e+04, 1.6331e+04],\n",
       "       [0.0000e+00, 1.2000e+01, 4.8000e+01, 3.1750e+03, 1.8900e+02,\n",
       "        0.0000e+00, 1.2480e+03, 6.6340e+03, 1.6820e+04, 6.7250e+03,\n",
       "        2.0834e+04, 5.5599e+04, 1.0000e+00, 6.0445e+04, 3.2580e+03,\n",
       "        3.8000e+01, 2.0200e+02],\n",
       "       [4.8000e+01, 1.2000e+01, 1.1500e+02, 1.0500e+02, 8.0000e+02,\n",
       "        1.9800e+02, 2.2800e+02, 2.0910e+03, 3.5700e+02, 8.0000e+02,\n",
       "        4.1900e+02, 4.5600e+02, 6.0445e+04, 1.0000e+00, 6.1883e+04,\n",
       "        2.6136e+04, 1.7067e+04],\n",
       "       [0.0000e+00, 1.0500e+02, 3.0000e+02, 9.8400e+02, 4.8000e+01,\n",
       "        4.7000e+01, 5.8600e+02, 2.7970e+03, 1.1281e+04, 1.3494e+04,\n",
       "        3.2785e+04, 6.3000e+04, 3.2580e+03, 6.1883e+04, 1.0000e+00,\n",
       "        6.5980e+03, 5.8830e+03],\n",
       "       [0.0000e+00, 0.0000e+00, 0.0000e+00, 1.2000e+01, 1.0500e+02,\n",
       "        0.0000e+00, 4.8000e+01, 1.0900e+02, 1.4960e+03, 2.3330e+03,\n",
       "        7.6440e+03, 2.2832e+04, 3.8000e+01, 2.6136e+04, 6.5980e+03,\n",
       "        1.0000e+00, 1.1180e+03],\n",
       "       [0.0000e+00, 0.0000e+00, 0.0000e+00, 4.8000e+01, 1.2000e+01,\n",
       "        0.0000e+00, 4.8000e+01, 9.7000e+02, 1.4880e+03, 7.6900e+02,\n",
       "        2.0910e+03, 1.6331e+04, 2.0200e+02, 1.7067e+04, 5.8830e+03,\n",
       "        1.1180e+03, 1.0000e+00]])"
      ]
     },
     "execution_count": 25,
     "metadata": {},
     "output_type": "execute_result"
    }
   ],
   "source": [
    "S = np.zeros((len(G.nodes), len(G.nodes)))\n",
    "for i in G.nodes:\n",
    "    for j in G.nodes:\n",
    "        S[i][j] = round(similarity(G, H, i, j))\n",
    "S"
   ]
  },
  {
   "cell_type": "markdown",
   "metadata": {},
   "source": [
    "#### AP Clustering"
   ]
  },
  {
   "cell_type": "code",
   "execution_count": 26,
   "metadata": {},
   "outputs": [],
   "source": [
    "np.fill_diagonal(S, np.amin(S))"
   ]
  },
  {
   "cell_type": "code",
   "execution_count": 27,
   "metadata": {},
   "outputs": [
    {
     "data": {
      "text/plain": [
       "array([[0.0000e+00, 1.1700e+02, 4.7000e+01, 7.9100e+03, 2.4090e+03,\n",
       "        4.2780e+03, 1.2600e+02, 1.1500e+02, 4.5000e+01, 2.7260e+03,\n",
       "        3.0600e+02, 1.2000e+01, 0.0000e+00, 4.8000e+01, 0.0000e+00,\n",
       "        0.0000e+00, 0.0000e+00],\n",
       "       [1.1700e+02, 0.0000e+00, 3.2200e+02, 5.6280e+03, 8.1300e+02,\n",
       "        4.9610e+03, 6.1000e+01, 4.7000e+01, 1.3000e+01, 3.2200e+02,\n",
       "        0.0000e+00, 1.0700e+02, 1.2000e+01, 1.2000e+01, 1.0500e+02,\n",
       "        0.0000e+00, 0.0000e+00],\n",
       "       [4.7000e+01, 3.2200e+02, 0.0000e+00, 1.2916e+04, 2.1950e+03,\n",
       "        5.5900e+02, 1.2250e+03, 5.3000e+01, 2.9500e+02, 3.8090e+03,\n",
       "        5.1000e+01, 5.1000e+01, 4.8000e+01, 1.1500e+02, 3.0000e+02,\n",
       "        0.0000e+00, 0.0000e+00],\n",
       "       [7.9100e+03, 5.6280e+03, 1.2916e+04, 0.0000e+00, 5.1000e+01,\n",
       "        4.6100e+02, 1.9410e+03, 1.0050e+03, 2.8680e+03, 1.0700e+03,\n",
       "        8.9100e+02, 1.0480e+03, 3.1750e+03, 1.0500e+02, 9.8400e+02,\n",
       "        1.2000e+01, 4.8000e+01],\n",
       "       [2.4090e+03, 8.1300e+02, 2.1950e+03, 5.1000e+01, 0.0000e+00,\n",
       "        4.3960e+03, 6.7600e+02, 3.3410e+03, 1.2100e+02, 1.9500e+02,\n",
       "        3.1000e+02, 2.0200e+02, 1.8900e+02, 8.0000e+02, 4.8000e+01,\n",
       "        1.0500e+02, 1.2000e+01],\n",
       "       [4.2780e+03, 4.9610e+03, 5.5900e+02, 4.6100e+02, 4.3960e+03,\n",
       "        0.0000e+00, 2.1530e+03, 6.2400e+02, 2.0200e+02, 2.3650e+03,\n",
       "        1.2000e+01, 1.2000e+01, 0.0000e+00, 1.9800e+02, 4.7000e+01,\n",
       "        0.0000e+00, 0.0000e+00],\n",
       "       [1.2600e+02, 6.1000e+01, 1.2250e+03, 1.9410e+03, 6.7600e+02,\n",
       "        2.1530e+03, 0.0000e+00, 5.4600e+02, 6.2200e+02, 6.4100e+02,\n",
       "        1.1000e+01, 1.0000e+01, 1.2480e+03, 2.2800e+02, 5.8600e+02,\n",
       "        4.8000e+01, 4.8000e+01],\n",
       "       [1.1500e+02, 4.7000e+01, 5.3000e+01, 1.0050e+03, 3.3410e+03,\n",
       "        6.2400e+02, 5.4600e+02, 0.0000e+00, 4.9070e+03, 4.0330e+03,\n",
       "        1.1200e+02, 5.3000e+01, 6.6340e+03, 2.0910e+03, 2.7970e+03,\n",
       "        1.0900e+02, 9.7000e+02],\n",
       "       [4.5000e+01, 1.3000e+01, 2.9500e+02, 2.8680e+03, 1.2100e+02,\n",
       "        2.0200e+02, 6.2200e+02, 4.9070e+03, 0.0000e+00, 7.9700e+02,\n",
       "        3.6100e+02, 1.4000e+01, 1.6820e+04, 3.5700e+02, 1.1281e+04,\n",
       "        1.4960e+03, 1.4880e+03],\n",
       "       [2.7260e+03, 3.2200e+02, 3.8090e+03, 1.0700e+03, 1.9500e+02,\n",
       "        2.3650e+03, 6.4100e+02, 4.0330e+03, 7.9700e+02, 0.0000e+00,\n",
       "        1.1116e+04, 8.5200e+02, 6.7250e+03, 8.0000e+02, 1.3494e+04,\n",
       "        2.3330e+03, 7.6900e+02],\n",
       "       [3.0600e+02, 0.0000e+00, 5.1000e+01, 8.9100e+02, 3.1000e+02,\n",
       "        1.2000e+01, 1.1000e+01, 1.1200e+02, 3.6100e+02, 1.1116e+04,\n",
       "        0.0000e+00, 1.5530e+03, 2.0834e+04, 4.1900e+02, 3.2785e+04,\n",
       "        7.6440e+03, 2.0910e+03],\n",
       "       [1.2000e+01, 1.0700e+02, 5.1000e+01, 1.0480e+03, 2.0200e+02,\n",
       "        1.2000e+01, 1.0000e+01, 5.3000e+01, 1.4000e+01, 8.5200e+02,\n",
       "        1.5530e+03, 0.0000e+00, 5.5599e+04, 4.5600e+02, 6.3000e+04,\n",
       "        2.2832e+04, 1.6331e+04],\n",
       "       [0.0000e+00, 1.2000e+01, 4.8000e+01, 3.1750e+03, 1.8900e+02,\n",
       "        0.0000e+00, 1.2480e+03, 6.6340e+03, 1.6820e+04, 6.7250e+03,\n",
       "        2.0834e+04, 5.5599e+04, 0.0000e+00, 6.0445e+04, 3.2580e+03,\n",
       "        3.8000e+01, 2.0200e+02],\n",
       "       [4.8000e+01, 1.2000e+01, 1.1500e+02, 1.0500e+02, 8.0000e+02,\n",
       "        1.9800e+02, 2.2800e+02, 2.0910e+03, 3.5700e+02, 8.0000e+02,\n",
       "        4.1900e+02, 4.5600e+02, 6.0445e+04, 0.0000e+00, 6.1883e+04,\n",
       "        2.6136e+04, 1.7067e+04],\n",
       "       [0.0000e+00, 1.0500e+02, 3.0000e+02, 9.8400e+02, 4.8000e+01,\n",
       "        4.7000e+01, 5.8600e+02, 2.7970e+03, 1.1281e+04, 1.3494e+04,\n",
       "        3.2785e+04, 6.3000e+04, 3.2580e+03, 6.1883e+04, 0.0000e+00,\n",
       "        6.5980e+03, 5.8830e+03],\n",
       "       [0.0000e+00, 0.0000e+00, 0.0000e+00, 1.2000e+01, 1.0500e+02,\n",
       "        0.0000e+00, 4.8000e+01, 1.0900e+02, 1.4960e+03, 2.3330e+03,\n",
       "        7.6440e+03, 2.2832e+04, 3.8000e+01, 2.6136e+04, 6.5980e+03,\n",
       "        0.0000e+00, 1.1180e+03],\n",
       "       [0.0000e+00, 0.0000e+00, 0.0000e+00, 4.8000e+01, 1.2000e+01,\n",
       "        0.0000e+00, 4.8000e+01, 9.7000e+02, 1.4880e+03, 7.6900e+02,\n",
       "        2.0910e+03, 1.6331e+04, 2.0200e+02, 1.7067e+04, 5.8830e+03,\n",
       "        1.1180e+03, 0.0000e+00]])"
      ]
     },
     "execution_count": 27,
     "metadata": {},
     "output_type": "execute_result"
    }
   ],
   "source": [
    "S"
   ]
  },
  {
   "cell_type": "code",
   "execution_count": 28,
   "metadata": {},
   "outputs": [],
   "source": [
    "from sklearn.cluster import AffinityPropagation"
   ]
  },
  {
   "cell_type": "code",
   "execution_count": 29,
   "metadata": {},
   "outputs": [],
   "source": [
    "clustering = AffinityPropagation(affinity='precomputed', random_state=42).fit(S)"
   ]
  },
  {
   "cell_type": "code",
   "execution_count": 30,
   "metadata": {},
   "outputs": [],
   "source": [
    "labels = {} \n",
    "for i, l in enumerate(clustering.labels_):\n",
    "    labels[i] = str(i)+\" - \"+str(l)\n"
   ]
  },
  {
   "cell_type": "code",
   "execution_count": 31,
   "metadata": {},
   "outputs": [],
   "source": [
    "import matplotlib.pyplot as plt"
   ]
  },
  {
   "cell_type": "code",
   "execution_count": 32,
   "metadata": {},
   "outputs": [
    {
     "data": {
      "text/plain": [
       "{0: Text(-0.8587195459143456, 0.202687363774823, '0 - 0'),\n",
       " 1: Text(-0.8264893393454278, 0.032770203537546005, '1 - 0'),\n",
       " 2: Text(-0.631071108236931, -0.04578219261508642, '2 - 0'),\n",
       " 3: Text(-0.38266982904224245, -0.02722444421389963, '3 - 0'),\n",
       " 4: Text(-0.46340877283617626, 0.1847380263703828, '4 - 1'),\n",
       " 5: Text(-0.6805579625923737, 0.2588435815846246, '5 - 1'),\n",
       " 6: Text(-0.2645871173171283, 0.25449082252728655, '6 - 0'),\n",
       " 7: Text(-0.06268637935908866, 0.1880872565833823, '7 - 1'),\n",
       " 8: Text(0.09050680069216302, 0.02122356439849912, '8 - 3'),\n",
       " 9: Text(-0.09298293002156847, -0.1116199634879341, '9 - 3'),\n",
       " 10: Text(0.12286032758272718, -0.24949544248607386, '10 - 3'),\n",
       " 11: Text(0.36050451717365944, -0.25965554821005915, '11 - 3'),\n",
       " 12: Text(0.5552054517141912, -0.1400613622136348, '12 - 2'),\n",
       " 13: Text(0.34235706970131086, -0.0334696799009711, '13 - 2'),\n",
       " 14: Text(0.8243805020571168, -0.11058069282046684, '14 - 3'),\n",
       " 15: Text(0.9999999999999999, -0.17513403280211615, '15 - 2'),\n",
       " 16: Text(0.967358315744114, 0.010182539973697764, '16 - 2')}"
      ]
     },
     "execution_count": 32,
     "metadata": {},
     "output_type": "execute_result"
    },
    {
     "data": {
      "image/png": "[encoded data removed]",
      "text/plain": [
       "<Figure size 640x480 with 1 Axes>"
      ]
     },
     "metadata": {},
     "output_type": "display_data"
    }
   ],
   "source": [
    "pos = nx.spring_layout(G, seed=212)\n",
    "\n",
    "nx.draw(G, pos=pos)\n",
    "nx.draw_networkx_labels(G, pos, labels, font_size=22, font_color=\"black\")"
   ]
  },
  {
   "cell_type": "code",
   "execution_count": null,
   "metadata": {},
   "outputs": [],
   "source": []
  },
  {
   "cell_type": "code",
   "execution_count": null,
   "metadata": {},
   "outputs": [],
   "source": []
  }
 ],
 "metadata": {
  "kernelspec": {
   "display_name": "base",
   "language": "python",
   "name": "python3"
  },
  "language_info": {
   "codemirror_mode": {
    "name": "ipython",
    "version": 3
   },
   "file_extension": ".py",
   "mimetype": "text/x-python",
   "name": "python",
   "nbconvert_exporter": "python",
   "pygments_lexer": "ipython3",
   "version": "3.11.4"
  }
 },
 "nbformat": 4,
 "nbformat_minor": 2
}
