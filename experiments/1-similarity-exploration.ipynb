{
 "cells": [
  {
   "cell_type": "code",
   "execution_count": 344,
   "metadata": {},
   "outputs": [],
   "source": [
    "import networkx as nx\n",
    "import numpy as np\n",
    "import random\n",
    "import math"
   ]
  },
  {
   "cell_type": "markdown",
   "metadata": {},
   "source": [
    "### Preparing Data"
   ]
  },
  {
   "cell_type": "code",
   "execution_count": 71,
   "metadata": {},
   "outputs": [],
   "source": [
    "# Define the edge index and create the graph\n",
    "edge_index = [ \n",
    "            [ 0, 0, 1, 1, 2, 2, 3, 3, 3, 4, 4, 4, 5, 5, 6, 6, 7, 7, 8, 8, 8, 9, 9, 9, 10, 10, 11, 11, 12, 12, 12, 13, 13, 14, 14, 14, 15, 16 ], \n",
    "            [ 1, 5, 0, 2, 1, 3, 2, 4, 9, 3, 5, 6, 0, 4, 4, 7, 6, 8, 7, 9, 13, 3, 8, 10, 9, 11, 10, 12, 11, 13, 14, 8, 12, 12, 15, 16, 14, 14 ] \n",
    "]\n",
    "\n",
    "G = nx.Graph()\n",
    "for start, end in zip(*edge_index):\n",
    "    G.add_edge(start, end)\n",
    "\n",
    "# Define the node features (not used in RWR but given for context)\n",
    "node_features = [ \n",
    "                 [ 1, 0, 0, 0, 0, 0, 0 ], \n",
    "                 [ 1, 0, 0, 0, 0, 0, 0 ], \n",
    "                 [ 1, 0, 0, 0, 0, 0, 0 ], \n",
    "                 [ 1, 0, 0, 0, 0, 0, 0 ], \n",
    "                 [ 1, 0, 0, 0, 0, 0, 0 ], \n",
    "                 [ 1, 0, 0, 0, 0, 0, 0 ], \n",
    "                 [ 1, 0, 0, 0, 0, 0, 0 ], \n",
    "                 [ 1, 0, 0, 0, 0, 0, 0 ], \n",
    "                 [ 1, 0, 0, 0, 0, 0, 0 ], \n",
    "                 [ 1, 0, 0, 0, 0, 0, 0 ], \n",
    "                 [ 1, 0, 0, 0, 0, 0, 0 ], \n",
    "                 [ 1, 0, 0, 0, 0, 0, 0 ], \n",
    "                 [ 1, 0, 0, 0, 0, 0, 0 ], \n",
    "                 [ 1, 0, 0, 0, 0, 0, 0 ], \n",
    "                 [ 0, 1, 0, 0, 0, 0, 0 ], \n",
    "                 [ 0, 0, 1, 0, 0, 0, 0 ], \n",
    "                 [ 0, 0, 1, 0, 0, 0, 0 ] \n",
    "                 ]\n",
    "\n",
    "edge_attr = [ [ 1, 0, 0, 0 ], [ 1, 0, 0, 0 ], [ 1, 0, 0, 0 ], [ 1, 0, 0, 0 ], [ 1, 0, 0, 0 ], [ 1, 0, 0, 0 ], [ 1, 0, 0, 0 ], [ 1, 0, 0, 0 ], [ 1, 0, 0, 0 ], [ 1, 0, 0, 0 ], [ 1, 0, 0, 0 ], [ 1, 0, 0, 0 ], [ 1, 0, 0, 0 ], [ 1, 0, 0, 0 ], [ 1, 0, 0, 0 ], [ 1, 0, 0, 0 ], [ 1, 0, 0, 0 ], [ 1, 0, 0, 0 ], [ 1, 0, 0, 0 ], [ 1, 0, 0, 0 ], [ 1, 0, 0, 0 ], [ 1, 0, 0, 0 ], [ 1, 0, 0, 0 ], [ 1, 0, 0, 0 ], [ 1, 0, 0, 0 ], [ 1, 0, 0, 0 ], [ 1, 0, 0, 0 ], [ 1, 0, 0, 0 ], [ 1, 0, 0, 0 ], [ 1, 0, 0, 0 ], [ 0, 1, 0, 0 ], [ 1, 0, 0, 0 ], [ 1, 0, 0, 0 ], [ 0, 1, 0, 0 ], [ 0, 0, 1, 0 ], [ 0, 1, 0, 0 ], [ 0, 0, 1, 0 ], [ 0, 1, 0, 0 ] ]\n",
    "\n",
    "# Applying RWR for all pairs of nodes\n",
    "num_nodes = len(G.nodes())\n",
    "rwr_matrix = np.zeros((num_nodes, num_nodes))\n",
    "\n",
    "# for s in range(num_nodes):\n",
    "#     for e in range(num_nodes):\n",
    "#         rwr_matrix[s, e] = random_walk_with_restart_max_steps(G, s, e)\n",
    "\n",
    "# rwr_matrix\n"
   ]
  },
  {
   "cell_type": "code",
   "execution_count": 72,
   "metadata": {},
   "outputs": [
    {
     "name": "stdout",
     "output_type": "stream",
     "text": [
      "[0, 1, 5, 2, 3, 4, 9, 6, 7, 8, 13, 10, 11, 12, 14, 15, 16]\n"
     ]
    }
   ],
   "source": [
    "n = G.nodes\n",
    "print(n)"
   ]
  },
  {
   "cell_type": "code",
   "execution_count": 73,
   "metadata": {},
   "outputs": [
    {
     "data": {
      "text/plain": [
       "EdgeView([(0, 1), (0, 5), (1, 2), (5, 4), (2, 3), (3, 4), (3, 9), (4, 6), (9, 8), (9, 10), (6, 7), (7, 8), (8, 13), (13, 12), (10, 11), (11, 12), (12, 14), (14, 15), (14, 16)])"
      ]
     },
     "execution_count": 73,
     "metadata": {},
     "output_type": "execute_result"
    }
   ],
   "source": [
    "G.edges"
   ]
  },
  {
   "cell_type": "code",
   "execution_count": 123,
   "metadata": {},
   "outputs": [
    {
     "name": "stdout",
     "output_type": "stream",
     "text": [
      "{0: array([1, 0, 0, 0, 0, 0, 0]), 1: array([1, 0, 0, 0, 0, 0, 0]), 2: array([1, 0, 0, 0, 0, 0, 0]), 3: array([1, 0, 0, 0, 0, 0, 0]), 4: array([1, 0, 0, 0, 0, 0, 0]), 5: array([1, 0, 0, 0, 0, 0, 0]), 6: array([1, 0, 0, 0, 0, 0, 0]), 7: array([1, 0, 0, 0, 0, 0, 0]), 8: array([1, 0, 0, 0, 0, 0, 0]), 9: array([1, 0, 0, 0, 0, 0, 0]), 10: array([1, 0, 0, 0, 0, 0, 0]), 11: array([1, 0, 0, 0, 0, 0, 0]), 12: array([1, 0, 0, 0, 0, 0, 0]), 13: array([1, 0, 0, 0, 0, 0, 0]), 14: array([0, 1, 0, 0, 0, 0, 0]), 15: array([0, 0, 1, 0, 0, 0, 0]), 16: array([0, 0, 1, 0, 0, 0, 0])}\n"
     ]
    }
   ],
   "source": [
    "# Feature to dic node\n",
    "feat_dic = {}\n",
    "for index, feat in enumerate(node_features):\n",
    "    feat_dic[index] = np.array(feat)\n",
    "print(feat_dic)"
   ]
  },
  {
   "cell_type": "code",
   "execution_count": 124,
   "metadata": {},
   "outputs": [],
   "source": [
    "# Edge features\n",
    "nx.set_edge_attributes(G, edge_attr, \"edge_attr\")"
   ]
  },
  {
   "cell_type": "code",
   "execution_count": 125,
   "metadata": {},
   "outputs": [
    {
     "data": {
      "text/plain": [
       "dict_keys([0, 1, 2, 3, 4, 5, 6, 7, 8, 9, 10, 11, 12, 13, 14, 15, 16])"
      ]
     },
     "execution_count": 125,
     "metadata": {},
     "output_type": "execute_result"
    }
   ],
   "source": [
    "feat_dic.keys()"
   ]
  },
  {
   "cell_type": "code",
   "execution_count": 126,
   "metadata": {},
   "outputs": [],
   "source": [
    "nx.set_node_attributes(G, values=feat_dic, name=\"node_features\")"
   ]
  },
  {
   "cell_type": "code",
   "execution_count": 127,
   "metadata": {},
   "outputs": [
    {
     "name": "stdout",
     "output_type": "stream",
     "text": [
      "{'node_features': array([1, 0, 0, 0, 0, 0, 0])}\n",
      "0\n",
      "{'node_features': array([1, 0, 0, 0, 0, 0, 0])}\n",
      "1\n",
      "{'node_features': array([1, 0, 0, 0, 0, 0, 0])}\n",
      "5\n",
      "{'node_features': array([1, 0, 0, 0, 0, 0, 0])}\n",
      "2\n",
      "{'node_features': array([1, 0, 0, 0, 0, 0, 0])}\n",
      "3\n",
      "{'node_features': array([1, 0, 0, 0, 0, 0, 0])}\n",
      "4\n",
      "{'node_features': array([1, 0, 0, 0, 0, 0, 0])}\n",
      "9\n",
      "{'node_features': array([1, 0, 0, 0, 0, 0, 0])}\n",
      "6\n",
      "{'node_features': array([1, 0, 0, 0, 0, 0, 0])}\n",
      "7\n",
      "{'node_features': array([1, 0, 0, 0, 0, 0, 0])}\n",
      "8\n",
      "{'node_features': array([1, 0, 0, 0, 0, 0, 0])}\n",
      "13\n",
      "{'node_features': array([1, 0, 0, 0, 0, 0, 0])}\n",
      "10\n",
      "{'node_features': array([1, 0, 0, 0, 0, 0, 0])}\n",
      "11\n",
      "{'node_features': array([1, 0, 0, 0, 0, 0, 0])}\n",
      "12\n",
      "{'node_features': array([0, 1, 0, 0, 0, 0, 0])}\n",
      "14\n",
      "{'node_features': array([0, 0, 1, 0, 0, 0, 0])}\n",
      "15\n",
      "{'node_features': array([0, 0, 1, 0, 0, 0, 0])}\n",
      "16\n"
     ]
    }
   ],
   "source": [
    "for node in G.nodes:\n",
    "    print(G.nodes[node])\n",
    "    print(node)"
   ]
  },
  {
   "cell_type": "markdown",
   "metadata": {},
   "source": [
    "### HitPath"
   ]
  },
  {
   "cell_type": "markdown",
   "metadata": {},
   "source": [
    "#### Probability"
   ]
  },
  {
   "cell_type": "code",
   "execution_count": 140,
   "metadata": {},
   "outputs": [
    {
     "data": {
      "text/plain": [
       "array([[0. , 0. , 0. , 0. , 0. , 0. , 0. , 0. , 0. , 0. , 0. , 0. , 0. ,\n",
       "        0. , 1.4, 1.4, 1.4],\n",
       "       [0. , 0. , 0. , 0. , 0. , 0. , 0. , 0. , 0. , 0. , 0. , 0. , 0. ,\n",
       "        0. , 1.4, 1.4, 1.4],\n",
       "       [0. , 0. , 0. , 0. , 0. , 0. , 0. , 0. , 0. , 0. , 0. , 0. , 0. ,\n",
       "        0. , 1.4, 1.4, 1.4],\n",
       "       [0. , 0. , 0. , 0. , 0. , 0. , 0. , 0. , 0. , 0. , 0. , 0. , 0. ,\n",
       "        0. , 1.4, 1.4, 1.4],\n",
       "       [0. , 0. , 0. , 0. , 0. , 0. , 0. , 0. , 0. , 0. , 0. , 0. , 0. ,\n",
       "        0. , 1.4, 1.4, 1.4],\n",
       "       [0. , 0. , 0. , 0. , 0. , 0. , 0. , 0. , 0. , 0. , 0. , 0. , 0. ,\n",
       "        0. , 1.4, 1.4, 1.4],\n",
       "       [0. , 0. , 0. , 0. , 0. , 0. , 0. , 0. , 0. , 0. , 0. , 0. , 0. ,\n",
       "        0. , 1.4, 1.4, 1.4],\n",
       "       [0. , 0. , 0. , 0. , 0. , 0. , 0. , 0. , 0. , 0. , 0. , 0. , 0. ,\n",
       "        0. , 1.4, 1.4, 1.4],\n",
       "       [0. , 0. , 0. , 0. , 0. , 0. , 0. , 0. , 0. , 0. , 0. , 0. , 0. ,\n",
       "        0. , 1.4, 1.4, 1.4],\n",
       "       [0. , 0. , 0. , 0. , 0. , 0. , 0. , 0. , 0. , 0. , 0. , 0. , 0. ,\n",
       "        0. , 1.4, 1.4, 1.4],\n",
       "       [0. , 0. , 0. , 0. , 0. , 0. , 0. , 0. , 0. , 0. , 0. , 0. , 0. ,\n",
       "        0. , 1.4, 1.4, 1.4],\n",
       "       [0. , 0. , 0. , 0. , 0. , 0. , 0. , 0. , 0. , 0. , 0. , 0. , 0. ,\n",
       "        0. , 1.4, 1.4, 1.4],\n",
       "       [0. , 0. , 0. , 0. , 0. , 0. , 0. , 0. , 0. , 0. , 0. , 0. , 0. ,\n",
       "        0. , 1.4, 1.4, 1.4],\n",
       "       [0. , 0. , 0. , 0. , 0. , 0. , 0. , 0. , 0. , 0. , 0. , 0. , 0. ,\n",
       "        0. , 1.4, 1.4, 1.4],\n",
       "       [1.4, 1.4, 1.4, 1.4, 1.4, 1.4, 1.4, 1.4, 1.4, 1.4, 1.4, 1.4, 1.4,\n",
       "        1.4, 0. , 1.4, 1.4],\n",
       "       [1.4, 1.4, 1.4, 1.4, 1.4, 1.4, 1.4, 1.4, 1.4, 1.4, 1.4, 1.4, 1.4,\n",
       "        1.4, 1.4, 0. , 0. ],\n",
       "       [1.4, 1.4, 1.4, 1.4, 1.4, 1.4, 1.4, 1.4, 1.4, 1.4, 1.4, 1.4, 1.4,\n",
       "        1.4, 1.4, 0. , 0. ]])"
      ]
     },
     "execution_count": 140,
     "metadata": {},
     "output_type": "execute_result"
    }
   ],
   "source": [
    "# W vi to vj\n",
    "# return matrix N x N\n",
    "W = np.zeros((len(G.nodes), len(G.nodes)))\n",
    "for i in G.nodes:\n",
    "    for j in G.nodes:\n",
    "        W[i][j] = round(np.linalg.norm(G.nodes[i]['node_features'] - G.nodes[j]['node_features']), 1)\n",
    "W"
   ]
  },
  {
   "cell_type": "code",
   "execution_count": 161,
   "metadata": {},
   "outputs": [
    {
     "name": "stdout",
     "output_type": "stream",
     "text": [
      "0 [1, 5]\n",
      "1 [0, 2]\n",
      "5 [0, 4]\n",
      "2 [1, 3]\n",
      "3 [2, 4, 9]\n",
      "4 [3, 5, 6]\n",
      "9 [3, 8, 10]\n",
      "6 [4, 7]\n",
      "7 [6, 8]\n",
      "8 [7, 9, 13]\n",
      "13 [8, 12]\n",
      "10 [9, 11]\n",
      "11 [10, 12]\n",
      "12 [11, 13, 14]\n",
      "14 [12, 15, 16]\n",
      "15 [14]\n",
      "16 [14]\n"
     ]
    },
    {
     "data": {
      "text/plain": [
       "array([[0.  , 0.5 , 0.  , 0.  , 0.  , 0.5 , 0.  , 0.  , 0.  , 0.  , 0.  ,\n",
       "        0.  , 0.  , 0.  , 0.  , 0.  , 0.  ],\n",
       "       [0.5 , 0.  , 0.5 , 0.  , 0.  , 0.  , 0.  , 0.  , 0.  , 0.  , 0.  ,\n",
       "        0.  , 0.  , 0.  , 0.  , 0.  , 0.  ],\n",
       "       [0.  , 0.5 , 0.  , 0.5 , 0.  , 0.  , 0.  , 0.  , 0.  , 0.  , 0.  ,\n",
       "        0.  , 0.  , 0.  , 0.  , 0.  , 0.  ],\n",
       "       [0.  , 0.  , 0.33, 0.  , 0.33, 0.  , 0.  , 0.  , 0.  , 0.33, 0.  ,\n",
       "        0.  , 0.  , 0.  , 0.  , 0.  , 0.  ],\n",
       "       [0.  , 0.  , 0.  , 0.33, 0.  , 0.33, 0.33, 0.  , 0.  , 0.  , 0.  ,\n",
       "        0.  , 0.  , 0.  , 0.  , 0.  , 0.  ],\n",
       "       [0.5 , 0.  , 0.  , 0.  , 0.5 , 0.  , 0.  , 0.  , 0.  , 0.  , 0.  ,\n",
       "        0.  , 0.  , 0.  , 0.  , 0.  , 0.  ],\n",
       "       [0.  , 0.  , 0.  , 0.  , 0.5 , 0.  , 0.  , 0.5 , 0.  , 0.  , 0.  ,\n",
       "        0.  , 0.  , 0.  , 0.  , 0.  , 0.  ],\n",
       "       [0.  , 0.  , 0.  , 0.  , 0.  , 0.  , 0.5 , 0.  , 0.5 , 0.  , 0.  ,\n",
       "        0.  , 0.  , 0.  , 0.  , 0.  , 0.  ],\n",
       "       [0.  , 0.  , 0.  , 0.  , 0.  , 0.  , 0.  , 0.33, 0.  , 0.33, 0.  ,\n",
       "        0.  , 0.  , 0.33, 0.  , 0.  , 0.  ],\n",
       "       [0.  , 0.  , 0.  , 0.33, 0.  , 0.  , 0.  , 0.  , 0.33, 0.  , 0.33,\n",
       "        0.  , 0.  , 0.  , 0.  , 0.  , 0.  ],\n",
       "       [0.  , 0.  , 0.  , 0.  , 0.  , 0.  , 0.  , 0.  , 0.  , 0.5 , 0.  ,\n",
       "        0.5 , 0.  , 0.  , 0.  , 0.  , 0.  ],\n",
       "       [0.  , 0.  , 0.  , 0.  , 0.  , 0.  , 0.  , 0.  , 0.  , 0.  , 0.5 ,\n",
       "        0.  , 0.5 , 0.  , 0.  , 0.  , 0.  ],\n",
       "       [0.  , 0.  , 0.  , 0.  , 0.  , 0.  , 0.  , 0.  , 0.  , 0.  , 0.  ,\n",
       "        0.  , 0.  , 0.  , 1.  , 0.  , 0.  ],\n",
       "       [0.  , 0.  , 0.  , 0.  , 0.  , 0.  , 0.  , 0.  , 0.5 , 0.  , 0.  ,\n",
       "        0.  , 0.5 , 0.  , 0.  , 0.  , 0.  ],\n",
       "       [0.  , 0.  , 0.  , 0.  , 0.  , 0.  , 0.  , 0.  , 0.  , 0.  , 0.  ,\n",
       "        0.  , 0.33, 0.  , 0.  , 0.33, 0.33],\n",
       "       [0.  , 0.  , 0.  , 0.  , 0.  , 0.  , 0.  , 0.  , 0.  , 0.  , 0.  ,\n",
       "        0.  , 0.  , 0.  , 1.  , 0.  , 0.  ],\n",
       "       [0.  , 0.  , 0.  , 0.  , 0.  , 0.  , 0.  , 0.  , 0.  , 0.  , 0.  ,\n",
       "        0.  , 0.  , 0.  , 1.  , 0.  , 0.  ]])"
      ]
     },
     "execution_count": 161,
     "metadata": {},
     "output_type": "execute_result"
    }
   ],
   "source": [
    "P = np.zeros((len(G.nodes), len(G.nodes)))\n",
    "for i in G.nodes:\n",
    "    # for neighbor in G.neighbors(i):\n",
    "    neighbors = list(G.neighbors(i))\n",
    "    denum = 0\n",
    "    print(i, neighbors)\n",
    "    for neighbor in neighbors:\n",
    "        denum += W[i][neighbor]\n",
    "    for neighbor in neighbors:\n",
    "        # if W[i][neighbor] == 0:\n",
    "        if denum == 0:\n",
    "            P[i][neighbor] = round(1/len(neighbors), 2)\n",
    "            continue\n",
    "        P[i][neighbor] = round(W[i][neighbor]/denum, 2)\n",
    "    #     print(W[i][neighbor])\n",
    "    # print(\"=\", denum)\n",
    "    # break\n",
    "P"
   ]
  },
  {
   "cell_type": "markdown",
   "metadata": {},
   "source": [
    "Probability refactoring"
   ]
  },
  {
   "cell_type": "code",
   "execution_count": 332,
   "metadata": {},
   "outputs": [],
   "source": [
    "def calculate_transition_probability(G):\n",
    "    # W vi to vj\n",
    "    # return matrix N x N\n",
    "    W = np.zeros((len(G.nodes), len(G.nodes)))\n",
    "    for i in G.nodes:\n",
    "        for j in G.nodes:\n",
    "            W[i][j] = round(np.linalg.norm(G.nodes[i]['node_features'] - G.nodes[j]['node_features']), 1)\n",
    "    # W\n",
    "\n",
    "    P = np.zeros((len(G.nodes), len(G.nodes)))\n",
    "    for i in G.nodes:\n",
    "        # for neighbor in G.neighbors(i):\n",
    "        neighbors = list(G.neighbors(i))\n",
    "        denum = 0\n",
    "        # print(i, neighbors)\n",
    "        for neighbor in neighbors:\n",
    "            denum += W[i][neighbor]\n",
    "        for neighbor in neighbors:\n",
    "            # if W[i][neighbor] == 0:\n",
    "            if denum == 0:\n",
    "                P[i][neighbor] = round(1/len(neighbors), 2)\n",
    "                continue\n",
    "            P[i][neighbor] = round(W[i][neighbor]/denum, 2)\n",
    "        #     print(W[i][neighbor])\n",
    "        # print(\"=\", denum)\n",
    "        # break\n",
    "    return P"
   ]
  },
  {
   "cell_type": "code",
   "execution_count": 333,
   "metadata": {},
   "outputs": [
    {
     "data": {
      "text/plain": [
       "53.25"
      ]
     },
     "execution_count": 333,
     "metadata": {},
     "output_type": "execute_result"
    }
   ],
   "source": [
    "\n",
    "def hitpath(G, s, e, max_steps = G.number_of_nodes()//2, max_iter = 10):\n",
    "    transition_probability = calculate_transition_probability(G)\n",
    "    # print(transition_probability)\n",
    "    sigma = 4 * G.number_of_nodes()  \n",
    "    \n",
    "    hitting_distance = []\n",
    "    \n",
    "    for _ in range(max_iter):\n",
    "        # print(f'iter {_}')\n",
    "        \n",
    "        # save route\n",
    "        route = [s] \n",
    "        step_counter = 0\n",
    "        \n",
    "        # print(s)\n",
    "        hitpath = 0\n",
    "        \n",
    "        # do random walk bounded by max steps\n",
    "        while (step_counter < max_steps):\n",
    "            prob_neighbors = []\n",
    "            if route[-1] in G:\n",
    "                # see neighbors\n",
    "                neighbors = list(G.neighbors(route[-1]))\n",
    "                if neighbors:\n",
    "                    if len(neighbors) > 1:\n",
    "                        # choose step based on transition probability\n",
    "                        # print('calculate prob', neighbors)\n",
    "                        for neighbor in neighbors:\n",
    "                            prob_neighbors.append(transition_probability[route[-1]][neighbor])\n",
    "                        choosen_node = neighbors[random.choices(range(len(prob_neighbors)), weights=prob_neighbors, k=1)[0]]\n",
    "                        route.append(choosen_node)\n",
    "                    elif len(neighbors) == 1:\n",
    "                        # can walk directly\n",
    "                        # print('walk')\n",
    "                        route.append(neighbors[0])\n",
    "                        # print('walk, ', route)\n",
    "                \n",
    "                # print('Step: ', step_counter,'stat', neighbors, prob_neighbors, choosen_node)\n",
    "            step_counter+=1\n",
    "            if (e in route):\n",
    "                break\n",
    "        if step_counter == max_steps:\n",
    "            hitting_distance.append(sigma)\n",
    "        else:\n",
    "            hitdist = 0\n",
    "            for i in range(len(route)-1):\n",
    "                hitdist += 1\n",
    "            hitting_distance.append(hitdist)\n",
    "        # after walk, calculate hitting distance\n",
    "        \n",
    "        hitpath = sum(hitting_distance)/(max_steps)\n",
    "        \n",
    "        # print(_, \" --> Route: \", route, \"max exceeded\" if step_counter == max_steps else \"reached, H=\", hitting_distance,hitpath)\n",
    "    hitpath = sum(hitting_distance)/(max_steps)\n",
    "    \n",
    "    return hitpath\n",
    "hitpath(G, 0, 3, max_iter=10)"
   ]
  },
  {
   "cell_type": "code",
   "execution_count": 404,
   "metadata": {},
   "outputs": [],
   "source": [
    "H = np.zeros((len(G.nodes), len(G.nodes)))\n",
    "for i in G.nodes:\n",
    "    for j in G.nodes:\n",
    "        H[i][j] = hitpath(G, i, j, max_iter=100)"
   ]
  },
  {
   "cell_type": "code",
   "execution_count": 405,
   "metadata": {},
   "outputs": [
    {
     "data": {
      "text/plain": [
       "array([[ 12.5  , 244.875, 355.   , 445.875, 414.75 , 223.5  , 637.125,\n",
       "        803.   , 826.875, 786.75 , 796.125, 826.75 , 834.75 , 842.25 ,\n",
       "        850.   , 850.   , 850.   ],\n",
       "       [254.   ,  12.5  , 257.   , 431.   , 471.25 , 473.   , 724.25 ,\n",
       "        725.75 , 771.25 , 637.125, 779.25 , 842.125, 834.5  , 826.875,\n",
       "        834.75 , 850.   , 850.   ],\n",
       "       [447.25 , 301.75 ,  12.5  , 207.5  , 537.25 , 492.375, 716.375,\n",
       "        756.25 , 730.875, 584.75 , 786.75 , 834.5  , 811.375, 795.   ,\n",
       "        788.   , 850.   , 842.375],\n",
       "       [689.5  , 582.5  , 439.   ,  12.5  , 422.   , 576.25 , 681.5  ,\n",
       "        684.625, 656.5  , 438.   , 664.   , 762.625, 763.25 , 747.875,\n",
       "        795.625, 834.5  , 842.25 ],\n",
       "       [640.   , 586.375, 634.75 , 349.125,  12.5  , 343.   , 464.125,\n",
       "        649.25 , 652.875, 584.5  , 755.5  , 786.5  , 818.75 , 810.5  ,\n",
       "        834.5  , 850.   , 834.75 ],\n",
       "       [287.   , 480.5  , 517.5  , 490.5  , 227.75 ,  12.5  , 575.25 ,\n",
       "        739.25 , 740.25 , 676.5  , 818.25 , 826.625, 850.   , 826.375,\n",
       "        834.75 , 850.   , 850.   ],\n",
       "       [659.75 , 770.75 , 707.25 , 545.25 , 255.   , 639.5  ,  12.5  ,\n",
       "        314.375, 509.   , 557.625, 779.25 , 788.   , 786.5  , 691.25 ,\n",
       "        772.25 , 834.5  , 834.5  ],\n",
       "       [779.5  , 711.   , 723.75 , 533.   , 524.75 , 698.625, 338.   ,\n",
       "         12.5  , 244.75 , 493.5  , 723.5  , 810.5  , 699.875, 680.5  ,\n",
       "        755.   , 741.75 , 788.5  ],\n",
       "       [795.875, 810.75 , 762.375, 617.   , 604.625, 795.   , 551.75 ,\n",
       "        503.75 ,  12.5  , 405.75 , 672.   , 715.375, 568.   , 443.875,\n",
       "        594.   , 731.5  , 787.5  ],\n",
       "       [762.5  , 722.75 , 639.25 , 424.5  , 624.75 , 708.5  , 627.75 ,\n",
       "        662.5  , 466.125,  12.5  , 480.625, 678.75 , 619.875, 671.   ,\n",
       "        637.   , 757.25 , 780.875],\n",
       "       [795.625, 810.75 , 771.   , 597.75 , 700.625, 794.75 , 780.   ,\n",
       "        747.625, 663.   , 326.625,  12.5  , 245.125, 527.   , 747.375,\n",
       "        578.75 , 724.25 , 685.5  ],\n",
       "       [826.75 , 834.5  , 826.25 , 690.   , 818.75 , 842.375, 803.5  ,\n",
       "        818.5  , 746.375, 587.   , 431.25 ,  12.5  , 189.   , 794.25 ,\n",
       "        261.75 , 439.25 , 468.25 ],\n",
       "       [850.   , 850.   , 850.   , 850.   , 850.   , 850.   , 850.   ,\n",
       "        850.   , 850.   , 850.   , 850.   , 850.   ,  12.5  , 850.   ,\n",
       "         12.5  , 261.75 , 293.75 ],\n",
       "       [842.25 , 834.5  , 803.   , 731.625, 771.5  , 834.25 , 802.   ,\n",
       "        686.25 , 464.75 , 598.5  , 761.625, 834.25 , 290.   ,  12.5  ,\n",
       "        343.75 , 525.875, 503.75 ],\n",
       "       [850.   , 850.   , 850.   , 850.   , 850.   , 850.   , 850.   ,\n",
       "        850.   , 850.   , 850.   , 850.   , 850.   , 218.   , 850.   ,\n",
       "         12.5  , 205.875, 146.125],\n",
       "       [850.   , 850.   , 850.   , 850.   , 850.   , 850.   , 850.   ,\n",
       "        850.   , 850.   , 850.   , 850.   , 850.   , 300.   , 850.   ,\n",
       "         12.5  ,  12.5  , 301.5  ],\n",
       "       [850.   , 850.   , 850.   , 850.   , 850.   , 850.   , 850.   ,\n",
       "        850.   , 850.   , 850.   , 850.   , 850.   , 226.75 , 850.   ,\n",
       "         12.5  , 237.75 ,  12.5  ]])"
      ]
     },
     "execution_count": 405,
     "metadata": {},
     "output_type": "execute_result"
    }
   ],
   "source": [
    "H"
   ]
  },
  {
   "cell_type": "code",
   "execution_count": 406,
   "metadata": {},
   "outputs": [
    {
     "data": {
      "text/plain": [
       "-97.41017034530569"
      ]
     },
     "execution_count": 406,
     "metadata": {},
     "output_type": "execute_result"
    }
   ],
   "source": [
    "def similarity(G, H, s, e, gamma = 0.8, ):\n",
    "    # print('wow')\n",
    "    similarity = 0\n",
    "    shortest_path_length = nx.shortest_path_length(G, s, e)\n",
    "    \n",
    "    # print(similarity)\n",
    "    similarity = (gamma * math.exp(-shortest_path_length)) + ((1-gamma) * (H[s][e] - H[e][s])*2)\n",
    "    return similarity\n",
    "similarity(G, H, 0, 3)"
   ]
  },
  {
   "cell_type": "code",
   "execution_count": 407,
   "metadata": {},
   "outputs": [
    {
     "data": {
      "text/plain": [
       "array([[ 8.00000000e-01, -3.35569645e+00, -3.67917318e+01,\n",
       "        -9.74101703e+01, -8.99917318e+01, -2.51056964e+01,\n",
       "        -9.01017035e+00,  9.41465251e+00,  1.24053904e+01,\n",
       "         9.71465251e+00,  2.05390358e-01,  1.98300174e-03,\n",
       "        -6.09927049e+00,  1.98300174e-03,  2.68370102e-04,\n",
       "         9.87278433e-05,  9.87278433e-05],\n",
       "       [ 3.94430355e+00,  8.00000000e-01, -1.76056964e+01,\n",
       "        -6.04917318e+01, -4.60101703e+01, -2.89173177e+00,\n",
       "        -1.85853475e+01,  5.90539036e+00, -1.57853475e+01,\n",
       "        -3.42101703e+01, -1.25853475e+01,  3.05539036e+00,\n",
       "        -6.19801700e+00, -3.04460964e+00, -6.09927049e+00,\n",
       "         2.68370102e-04,  2.68370102e-04],\n",
       "       [ 3.70082682e+01,  1.81943036e+01,  8.00000000e-01,\n",
       "        -9.23056964e+01, -3.88917318e+01, -1.00101703e+01,\n",
       "         3.68982965e+00,  1.30146525e+01, -1.25601703e+01,\n",
       "        -2.16917318e+01,  6.33982965e+00,  3.31465251e+00,\n",
       "        -1.54446096e+01, -3.18534749e+00, -2.47980170e+01,\n",
       "         7.29505572e-04, -3.04927049e+00],\n",
       "       [ 9.74898297e+01,  6.07082682e+01,  9.28943036e+01,\n",
       "         8.00000000e-01,  2.94443036e+01,  3.44082682e+01,\n",
       "         5.46082682e+01,  6.06898297e+01,  1.59082682e+01,\n",
       "         5.69430355e+00,  2.66082682e+01,  2.90898297e+01,\n",
       "        -3.46853475e+01,  6.53982965e+00, -2.17446096e+01,\n",
       "        -6.19801700e+00, -3.09801700e+00],\n",
       "       [ 9.02082682e+01,  4.60898297e+01,  3.91082682e+01,\n",
       "        -2.88556964e+01,  8.00000000e-01,  4.63943036e+01,\n",
       "         8.39443036e+01,  4.99082682e+01,  1.93398297e+01,\n",
       "        -1.59917318e+01,  2.19898297e+01, -1.28853475e+01,\n",
       "        -1.24946096e+01,  1.56146525e+01, -6.19801700e+00,\n",
       "         7.29505572e-04, -6.09927049e+00],\n",
       "       [ 2.56943036e+01,  3.10826823e+00,  1.00898297e+01,\n",
       "        -3.41917318e+01, -4.58056964e+01,  8.00000000e-01,\n",
       "        -2.55917318e+01,  1.62898297e+01, -2.18853475e+01,\n",
       "        -1.27601703e+01,  9.41465251e+00, -6.29460964e+00,\n",
       "         1.98300174e-03, -3.14460964e+00, -6.09927049e+00,\n",
       "         2.68370102e-04,  2.68370102e-04],\n",
       "       [ 9.08982965e+00,  1.86146525e+01, -3.61017035e+00,\n",
       "        -5.43917318e+01, -8.33556964e+01,  2.58082682e+01,\n",
       "         8.00000000e-01, -9.15569645e+00, -1.69917318e+01,\n",
       "        -2.80101703e+01, -2.85347489e-01, -6.19460964e+00,\n",
       "        -2.53853475e+01, -4.42601703e+01, -3.10946096e+01,\n",
       "        -6.19801700e+00, -6.19801700e+00],\n",
       "       [-9.38534749e+00, -5.89460964e+00, -1.29853475e+01,\n",
       "        -6.06101703e+01, -4.96917318e+01, -1.62101703e+01,\n",
       "         9.74430355e+00,  8.00000000e-01, -1.03305696e+02,\n",
       "        -6.74917318e+01, -9.61017035e+00, -3.18534749e+00,\n",
       "        -6.00101703e+01, -2.19173177e+00, -3.79853475e+01,\n",
       "        -4.32946096e+01, -2.45946096e+01],\n",
       "       [-1.23946096e+01,  1.58146525e+01,  1.26398297e+01,\n",
       "        -1.56917318e+01, -1.92601703e+01,  2.19146525e+01,\n",
       "         1.72082682e+01,  1.03894304e+02,  8.00000000e-01,\n",
       "        -2.38556964e+01,  3.70826823e+00, -1.23601703e+01,\n",
       "        -1.12691732e+02, -8.05569645e+00, -1.02360170e+02,\n",
       "        -4.73853475e+01, -2.49853475e+01],\n",
       "       [-9.68534749e+00,  3.42898297e+01,  2.19082682e+01,\n",
       "        -5.10569645e+00,  1.62082682e+01,  1.28398297e+01,\n",
       "         2.80898297e+01,  6.77082682e+01,  2.44443036e+01,\n",
       "         8.00000000e-01,  6.18943036e+01,  3.68082682e+01,\n",
       "        -9.20101703e+01,  2.91082682e+01, -8.51853475e+01,\n",
       "        -3.70946096e+01, -2.76446096e+01],\n",
       "       [-1.94609642e-01,  1.26146525e+01, -6.26017035e+00,\n",
       "        -2.63917318e+01, -2.19101703e+01, -9.38534749e+00,\n",
       "         3.14652511e-01,  9.68982965e+00, -3.49173177e+00,\n",
       "        -6.13056964e+01,  8.00000000e-01, -7.41556964e+01,\n",
       "        -1.29091732e+02, -5.66017035e+00, -1.08460170e+02,\n",
       "        -5.02853475e+01, -6.57853475e+01],\n",
       "       [ 1.98300174e-03, -3.04460964e+00, -3.28534749e+00,\n",
       "        -2.90101703e+01,  1.29146525e+01,  6.30539036e+00,\n",
       "         6.20539036e+00,  3.21465251e+00,  1.24398297e+01,\n",
       "        -3.65917318e+01,  7.47443036e+01,  8.00000000e-01,\n",
       "        -2.64105696e+02, -1.58917318e+01, -2.35191732e+02,\n",
       "        -1.64260170e+02, -1.52660170e+02],\n",
       "       [ 6.10072951e+00,  6.20198300e+00,  1.54553904e+01,\n",
       "         3.47146525e+01,  1.25053904e+01,  1.98300174e-03,\n",
       "         2.54146525e+01,  6.00898297e+01,  1.12908268e+02,\n",
       "         9.20898297e+01,  1.29308268e+02,  2.64694304e+02,\n",
       "         8.00000000e-01,  2.24294304e+02, -8.19056964e+01,\n",
       "        -1.51917318e+01,  2.69082682e+01],\n",
       "       [ 1.98300174e-03,  3.05539036e+00,  3.21465251e+00,\n",
       "        -6.46017035e+00, -1.55853475e+01,  3.15539036e+00,\n",
       "         4.43398297e+01,  2.40826823e+00,  8.64430355e+00,\n",
       "        -2.88917318e+01,  5.73982965e+00,  1.61082682e+01,\n",
       "        -2.23705696e+02,  8.00000000e-01, -2.02391732e+02,\n",
       "        -1.29610170e+02, -1.38460170e+02],\n",
       "       [ 2.68370102e-04,  6.10072951e+00,  2.48019830e+01,\n",
       "         2.17553904e+01,  6.20198300e+00,  6.10072951e+00,\n",
       "         3.11053904e+01,  3.80146525e+01,  1.02439830e+02,\n",
       "         8.52146525e+01,  1.08539830e+02,  2.35408268e+02,\n",
       "         8.24943036e+01,  2.02608268e+02,  8.00000000e-01,\n",
       "         7.76443036e+01,  5.37443036e+01],\n",
       "       [ 9.87278433e-05,  2.68370102e-04,  7.29505572e-04,\n",
       "         6.20198300e+00,  7.29505572e-04,  2.68370102e-04,\n",
       "         6.20198300e+00,  4.33053904e+01,  4.74146525e+01,\n",
       "         3.71053904e+01,  5.03146525e+01,  1.64339830e+02,\n",
       "         1.54082682e+01,  1.29689830e+02, -7.70556964e+01,\n",
       "         8.00000000e-01,  2.56082682e+01],\n",
       "       [ 9.87278433e-05,  2.68370102e-04,  3.05072951e+00,\n",
       "         3.10198300e+00,  6.10072951e+00,  2.68370102e-04,\n",
       "         6.20198300e+00,  2.46053904e+01,  2.50146525e+01,\n",
       "         2.76553904e+01,  6.58146525e+01,  1.52739830e+02,\n",
       "        -2.66917318e+01,  1.38539830e+02, -5.31556964e+01,\n",
       "        -2.53917318e+01,  8.00000000e-01]])"
      ]
     },
     "execution_count": 407,
     "metadata": {},
     "output_type": "execute_result"
    }
   ],
   "source": [
    "S = np.zeros((len(G.nodes), len(G.nodes)))\n",
    "for i in G.nodes:\n",
    "    for j in G.nodes:\n",
    "        S[i][j] = similarity(G, H, i, j)\n",
    "S"
   ]
  },
  {
   "cell_type": "markdown",
   "metadata": {},
   "source": [
    "#### AP Clustering"
   ]
  },
  {
   "cell_type": "code",
   "execution_count": 408,
   "metadata": {},
   "outputs": [],
   "source": [
    "from sklearn.cluster import AffinityPropagation"
   ]
  },
  {
   "cell_type": "code",
   "execution_count": 409,
   "metadata": {},
   "outputs": [],
   "source": [
    "clustering = AffinityPropagation(affinity='precomputed').fit(S)"
   ]
  },
  {
   "cell_type": "code",
   "execution_count": 410,
   "metadata": {},
   "outputs": [],
   "source": [
    "labels = {} \n",
    "for i, l in enumerate(clustering.labels_):\n",
    "    labels[i] = l\n"
   ]
  },
  {
   "cell_type": "code",
   "execution_count": 411,
   "metadata": {},
   "outputs": [],
   "source": [
    "import matplotlib.pyplot as plt"
   ]
  },
  {
   "cell_type": "code",
   "execution_count": 412,
   "metadata": {},
   "outputs": [
    {
     "data": {
      "text/plain": [
       "{0: Text(-0.8587195459143456, 0.202687363774823, '0'),\n",
       " 1: Text(-0.8264893393454278, 0.032770203537546005, '2'),\n",
       " 2: Text(-0.631071108236931, -0.04578219261508642, '0'),\n",
       " 3: Text(-0.38266982904224245, -0.02722444421389963, '0'),\n",
       " 4: Text(-0.46340877283617626, 0.1847380263703828, '0'),\n",
       " 5: Text(-0.6805579625923737, 0.2588435815846246, '0'),\n",
       " 6: Text(-0.2645871173171283, 0.25449082252728655, '1'),\n",
       " 7: Text(-0.06268637935908866, 0.1880872565833823, '2'),\n",
       " 8: Text(0.09050680069216302, 0.02122356439849912, '2'),\n",
       " 9: Text(-0.09298293002156847, -0.1116199634879341, '2'),\n",
       " 10: Text(0.12286032758272718, -0.24949544248607386, '2'),\n",
       " 11: Text(0.36050451717365944, -0.25965554821005915, '3'),\n",
       " 12: Text(0.5552054517141912, -0.1400613622136348, '3'),\n",
       " 13: Text(0.34235706970131086, -0.0334696799009711, '1'),\n",
       " 14: Text(0.8243805020571168, -0.11058069282046684, '3'),\n",
       " 15: Text(0.9999999999999999, -0.17513403280211615, '3'),\n",
       " 16: Text(0.967358315744114, 0.010182539973697764, '3')}"
      ]
     },
     "execution_count": 412,
     "metadata": {},
     "output_type": "execute_result"
    },
    {
     "data": {
      "image/png": "[encoded data removed]",
      "text/plain": [
       "<Figure size 640x480 with 1 Axes>"
      ]
     },
     "metadata": {},
     "output_type": "display_data"
    }
   ],
   "source": [
    "pos = nx.spring_layout(G, seed=212)\n",
    "\n",
    "nx.draw(G, pos=pos)\n",
    "nx.draw_networkx_labels(G, pos, labels, font_size=22, font_color=\"black\")"
   ]
  }
 ],
 "metadata": {
  "kernelspec": {
   "display_name": "base",
   "language": "python",
   "name": "python3"
  },
  "language_info": {
   "codemirror_mode": {
    "name": "ipython",
    "version": 3
   },
   "file_extension": ".py",
   "mimetype": "text/x-python",
   "name": "python",
   "nbconvert_exporter": "python",
   "pygments_lexer": "ipython3",
   "version": "3.11.4"
  }
 },
 "nbformat": 4,
 "nbformat_minor": 2
}
