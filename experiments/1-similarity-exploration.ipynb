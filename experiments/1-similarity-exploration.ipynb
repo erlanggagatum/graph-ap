{
 "cells": [
  {
   "cell_type": "code",
   "execution_count": 116,
   "metadata": {},
   "outputs": [],
   "source": [
    "import networkx as nx\n",
    "import numpy as np\n",
    "import random"
   ]
  },
  {
   "cell_type": "markdown",
   "metadata": {},
   "source": [
    "### Preparing Data"
   ]
  },
  {
   "cell_type": "code",
   "execution_count": 71,
   "metadata": {},
   "outputs": [],
   "source": [
    "# Define the edge index and create the graph\n",
    "edge_index = [ \n",
    "            [ 0, 0, 1, 1, 2, 2, 3, 3, 3, 4, 4, 4, 5, 5, 6, 6, 7, 7, 8, 8, 8, 9, 9, 9, 10, 10, 11, 11, 12, 12, 12, 13, 13, 14, 14, 14, 15, 16 ], \n",
    "            [ 1, 5, 0, 2, 1, 3, 2, 4, 9, 3, 5, 6, 0, 4, 4, 7, 6, 8, 7, 9, 13, 3, 8, 10, 9, 11, 10, 12, 11, 13, 14, 8, 12, 12, 15, 16, 14, 14 ] \n",
    "]\n",
    "\n",
    "G = nx.Graph()\n",
    "for start, end in zip(*edge_index):\n",
    "    G.add_edge(start, end)\n",
    "\n",
    "# Define the node features (not used in RWR but given for context)\n",
    "node_features = [ \n",
    "                 [ 1, 0, 0, 0, 0, 0, 0 ], \n",
    "                 [ 1, 0, 0, 0, 0, 0, 0 ], \n",
    "                 [ 1, 0, 0, 0, 0, 0, 0 ], \n",
    "                 [ 1, 0, 0, 0, 0, 0, 0 ], \n",
    "                 [ 1, 0, 0, 0, 0, 0, 0 ], \n",
    "                 [ 1, 0, 0, 0, 0, 0, 0 ], \n",
    "                 [ 1, 0, 0, 0, 0, 0, 0 ], \n",
    "                 [ 1, 0, 0, 0, 0, 0, 0 ], \n",
    "                 [ 1, 0, 0, 0, 0, 0, 0 ], \n",
    "                 [ 1, 0, 0, 0, 0, 0, 0 ], \n",
    "                 [ 1, 0, 0, 0, 0, 0, 0 ], \n",
    "                 [ 1, 0, 0, 0, 0, 0, 0 ], \n",
    "                 [ 1, 0, 0, 0, 0, 0, 0 ], \n",
    "                 [ 1, 0, 0, 0, 0, 0, 0 ], \n",
    "                 [ 0, 1, 0, 0, 0, 0, 0 ], \n",
    "                 [ 0, 0, 1, 0, 0, 0, 0 ], \n",
    "                 [ 0, 0, 1, 0, 0, 0, 0 ] \n",
    "                 ]\n",
    "\n",
    "edge_attr = [ [ 1, 0, 0, 0 ], [ 1, 0, 0, 0 ], [ 1, 0, 0, 0 ], [ 1, 0, 0, 0 ], [ 1, 0, 0, 0 ], [ 1, 0, 0, 0 ], [ 1, 0, 0, 0 ], [ 1, 0, 0, 0 ], [ 1, 0, 0, 0 ], [ 1, 0, 0, 0 ], [ 1, 0, 0, 0 ], [ 1, 0, 0, 0 ], [ 1, 0, 0, 0 ], [ 1, 0, 0, 0 ], [ 1, 0, 0, 0 ], [ 1, 0, 0, 0 ], [ 1, 0, 0, 0 ], [ 1, 0, 0, 0 ], [ 1, 0, 0, 0 ], [ 1, 0, 0, 0 ], [ 1, 0, 0, 0 ], [ 1, 0, 0, 0 ], [ 1, 0, 0, 0 ], [ 1, 0, 0, 0 ], [ 1, 0, 0, 0 ], [ 1, 0, 0, 0 ], [ 1, 0, 0, 0 ], [ 1, 0, 0, 0 ], [ 1, 0, 0, 0 ], [ 1, 0, 0, 0 ], [ 0, 1, 0, 0 ], [ 1, 0, 0, 0 ], [ 1, 0, 0, 0 ], [ 0, 1, 0, 0 ], [ 0, 0, 1, 0 ], [ 0, 1, 0, 0 ], [ 0, 0, 1, 0 ], [ 0, 1, 0, 0 ] ]\n",
    "\n",
    "# Applying RWR for all pairs of nodes\n",
    "num_nodes = len(G.nodes())\n",
    "rwr_matrix = np.zeros((num_nodes, num_nodes))\n",
    "\n",
    "# for s in range(num_nodes):\n",
    "#     for e in range(num_nodes):\n",
    "#         rwr_matrix[s, e] = random_walk_with_restart_max_steps(G, s, e)\n",
    "\n",
    "# rwr_matrix\n"
   ]
  },
  {
   "cell_type": "code",
   "execution_count": 72,
   "metadata": {},
   "outputs": [
    {
     "name": "stdout",
     "output_type": "stream",
     "text": [
      "[0, 1, 5, 2, 3, 4, 9, 6, 7, 8, 13, 10, 11, 12, 14, 15, 16]\n"
     ]
    }
   ],
   "source": [
    "n = G.nodes\n",
    "print(n)"
   ]
  },
  {
   "cell_type": "code",
   "execution_count": 73,
   "metadata": {},
   "outputs": [
    {
     "data": {
      "text/plain": [
       "EdgeView([(0, 1), (0, 5), (1, 2), (5, 4), (2, 3), (3, 4), (3, 9), (4, 6), (9, 8), (9, 10), (6, 7), (7, 8), (8, 13), (13, 12), (10, 11), (11, 12), (12, 14), (14, 15), (14, 16)])"
      ]
     },
     "execution_count": 73,
     "metadata": {},
     "output_type": "execute_result"
    }
   ],
   "source": [
    "G.edges"
   ]
  },
  {
   "cell_type": "code",
   "execution_count": 123,
   "metadata": {},
   "outputs": [
    {
     "name": "stdout",
     "output_type": "stream",
     "text": [
      "{0: array([1, 0, 0, 0, 0, 0, 0]), 1: array([1, 0, 0, 0, 0, 0, 0]), 2: array([1, 0, 0, 0, 0, 0, 0]), 3: array([1, 0, 0, 0, 0, 0, 0]), 4: array([1, 0, 0, 0, 0, 0, 0]), 5: array([1, 0, 0, 0, 0, 0, 0]), 6: array([1, 0, 0, 0, 0, 0, 0]), 7: array([1, 0, 0, 0, 0, 0, 0]), 8: array([1, 0, 0, 0, 0, 0, 0]), 9: array([1, 0, 0, 0, 0, 0, 0]), 10: array([1, 0, 0, 0, 0, 0, 0]), 11: array([1, 0, 0, 0, 0, 0, 0]), 12: array([1, 0, 0, 0, 0, 0, 0]), 13: array([1, 0, 0, 0, 0, 0, 0]), 14: array([0, 1, 0, 0, 0, 0, 0]), 15: array([0, 0, 1, 0, 0, 0, 0]), 16: array([0, 0, 1, 0, 0, 0, 0])}\n"
     ]
    }
   ],
   "source": [
    "# Feature to dic node\n",
    "feat_dic = {}\n",
    "for index, feat in enumerate(node_features):\n",
    "    feat_dic[index] = np.array(feat)\n",
    "print(feat_dic)"
   ]
  },
  {
   "cell_type": "code",
   "execution_count": 124,
   "metadata": {},
   "outputs": [],
   "source": [
    "# Edge features\n",
    "nx.set_edge_attributes(G, edge_attr, \"edge_attr\")"
   ]
  },
  {
   "cell_type": "code",
   "execution_count": 125,
   "metadata": {},
   "outputs": [
    {
     "data": {
      "text/plain": [
       "dict_keys([0, 1, 2, 3, 4, 5, 6, 7, 8, 9, 10, 11, 12, 13, 14, 15, 16])"
      ]
     },
     "execution_count": 125,
     "metadata": {},
     "output_type": "execute_result"
    }
   ],
   "source": [
    "feat_dic.keys()"
   ]
  },
  {
   "cell_type": "code",
   "execution_count": 126,
   "metadata": {},
   "outputs": [],
   "source": [
    "nx.set_node_attributes(G, values=feat_dic, name=\"node_features\")"
   ]
  },
  {
   "cell_type": "code",
   "execution_count": 127,
   "metadata": {},
   "outputs": [
    {
     "name": "stdout",
     "output_type": "stream",
     "text": [
      "{'node_features': array([1, 0, 0, 0, 0, 0, 0])}\n",
      "0\n",
      "{'node_features': array([1, 0, 0, 0, 0, 0, 0])}\n",
      "1\n",
      "{'node_features': array([1, 0, 0, 0, 0, 0, 0])}\n",
      "5\n",
      "{'node_features': array([1, 0, 0, 0, 0, 0, 0])}\n",
      "2\n",
      "{'node_features': array([1, 0, 0, 0, 0, 0, 0])}\n",
      "3\n",
      "{'node_features': array([1, 0, 0, 0, 0, 0, 0])}\n",
      "4\n",
      "{'node_features': array([1, 0, 0, 0, 0, 0, 0])}\n",
      "9\n",
      "{'node_features': array([1, 0, 0, 0, 0, 0, 0])}\n",
      "6\n",
      "{'node_features': array([1, 0, 0, 0, 0, 0, 0])}\n",
      "7\n",
      "{'node_features': array([1, 0, 0, 0, 0, 0, 0])}\n",
      "8\n",
      "{'node_features': array([1, 0, 0, 0, 0, 0, 0])}\n",
      "13\n",
      "{'node_features': array([1, 0, 0, 0, 0, 0, 0])}\n",
      "10\n",
      "{'node_features': array([1, 0, 0, 0, 0, 0, 0])}\n",
      "11\n",
      "{'node_features': array([1, 0, 0, 0, 0, 0, 0])}\n",
      "12\n",
      "{'node_features': array([0, 1, 0, 0, 0, 0, 0])}\n",
      "14\n",
      "{'node_features': array([0, 0, 1, 0, 0, 0, 0])}\n",
      "15\n",
      "{'node_features': array([0, 0, 1, 0, 0, 0, 0])}\n",
      "16\n"
     ]
    }
   ],
   "source": [
    "for node in G.nodes:\n",
    "    print(G.nodes[node])\n",
    "    print(node)"
   ]
  },
  {
   "cell_type": "markdown",
   "metadata": {},
   "source": [
    "### HitPath"
   ]
  },
  {
   "cell_type": "code",
   "execution_count": 140,
   "metadata": {},
   "outputs": [
    {
     "data": {
      "text/plain": [
       "array([[0. , 0. , 0. , 0. , 0. , 0. , 0. , 0. , 0. , 0. , 0. , 0. , 0. ,\n",
       "        0. , 1.4, 1.4, 1.4],\n",
       "       [0. , 0. , 0. , 0. , 0. , 0. , 0. , 0. , 0. , 0. , 0. , 0. , 0. ,\n",
       "        0. , 1.4, 1.4, 1.4],\n",
       "       [0. , 0. , 0. , 0. , 0. , 0. , 0. , 0. , 0. , 0. , 0. , 0. , 0. ,\n",
       "        0. , 1.4, 1.4, 1.4],\n",
       "       [0. , 0. , 0. , 0. , 0. , 0. , 0. , 0. , 0. , 0. , 0. , 0. , 0. ,\n",
       "        0. , 1.4, 1.4, 1.4],\n",
       "       [0. , 0. , 0. , 0. , 0. , 0. , 0. , 0. , 0. , 0. , 0. , 0. , 0. ,\n",
       "        0. , 1.4, 1.4, 1.4],\n",
       "       [0. , 0. , 0. , 0. , 0. , 0. , 0. , 0. , 0. , 0. , 0. , 0. , 0. ,\n",
       "        0. , 1.4, 1.4, 1.4],\n",
       "       [0. , 0. , 0. , 0. , 0. , 0. , 0. , 0. , 0. , 0. , 0. , 0. , 0. ,\n",
       "        0. , 1.4, 1.4, 1.4],\n",
       "       [0. , 0. , 0. , 0. , 0. , 0. , 0. , 0. , 0. , 0. , 0. , 0. , 0. ,\n",
       "        0. , 1.4, 1.4, 1.4],\n",
       "       [0. , 0. , 0. , 0. , 0. , 0. , 0. , 0. , 0. , 0. , 0. , 0. , 0. ,\n",
       "        0. , 1.4, 1.4, 1.4],\n",
       "       [0. , 0. , 0. , 0. , 0. , 0. , 0. , 0. , 0. , 0. , 0. , 0. , 0. ,\n",
       "        0. , 1.4, 1.4, 1.4],\n",
       "       [0. , 0. , 0. , 0. , 0. , 0. , 0. , 0. , 0. , 0. , 0. , 0. , 0. ,\n",
       "        0. , 1.4, 1.4, 1.4],\n",
       "       [0. , 0. , 0. , 0. , 0. , 0. , 0. , 0. , 0. , 0. , 0. , 0. , 0. ,\n",
       "        0. , 1.4, 1.4, 1.4],\n",
       "       [0. , 0. , 0. , 0. , 0. , 0. , 0. , 0. , 0. , 0. , 0. , 0. , 0. ,\n",
       "        0. , 1.4, 1.4, 1.4],\n",
       "       [0. , 0. , 0. , 0. , 0. , 0. , 0. , 0. , 0. , 0. , 0. , 0. , 0. ,\n",
       "        0. , 1.4, 1.4, 1.4],\n",
       "       [1.4, 1.4, 1.4, 1.4, 1.4, 1.4, 1.4, 1.4, 1.4, 1.4, 1.4, 1.4, 1.4,\n",
       "        1.4, 0. , 1.4, 1.4],\n",
       "       [1.4, 1.4, 1.4, 1.4, 1.4, 1.4, 1.4, 1.4, 1.4, 1.4, 1.4, 1.4, 1.4,\n",
       "        1.4, 1.4, 0. , 0. ],\n",
       "       [1.4, 1.4, 1.4, 1.4, 1.4, 1.4, 1.4, 1.4, 1.4, 1.4, 1.4, 1.4, 1.4,\n",
       "        1.4, 1.4, 0. , 0. ]])"
      ]
     },
     "execution_count": 140,
     "metadata": {},
     "output_type": "execute_result"
    }
   ],
   "source": [
    "# W vi to vj\n",
    "# return matrix N x N\n",
    "W = np.zeros((len(G.nodes), len(G.nodes)))\n",
    "for i in G.nodes:\n",
    "    for j in G.nodes:\n",
    "        W[i][j] = round(np.linalg.norm(G.nodes[i]['node_features'] - G.nodes[j]['node_features']), 1)\n",
    "W"
   ]
  },
  {
   "cell_type": "code",
   "execution_count": 146,
   "metadata": {},
   "outputs": [
    {
     "name": "stdout",
     "output_type": "stream",
     "text": [
      "[1, 5]\n",
      "[0, 2]\n",
      "[0, 4]\n",
      "[1, 3]\n",
      "[2, 4, 9]\n",
      "[3, 5, 6]\n",
      "[3, 8, 10]\n",
      "[4, 7]\n",
      "[6, 8]\n",
      "[7, 9, 13]\n",
      "[8, 12]\n",
      "[9, 11]\n",
      "[10, 12]\n",
      "[11, 13, 14]\n",
      "[12, 15, 16]\n",
      "[14]\n",
      "[14]\n"
     ]
    }
   ],
   "source": [
    "P = np.zeros((len(G.nodes), len(G.nodes)))\n",
    "for i in G.nodes:\n",
    "    # for neighbor in G.neighbors(i):\n",
    "    neighbors = list(G.neighbors(i))\n",
    "    for neighbor in neighbors:\n",
    "        \n"
   ]
  },
  {
   "cell_type": "code",
   "execution_count": 131,
   "metadata": {},
   "outputs": [
    {
     "name": "stdout",
     "output_type": "stream",
     "text": [
      "iter 0\n",
      "0\n",
      "calculate prob [1, 5]\n",
      "w [1, 5]\n",
      "calculate prob [1, 5]\n",
      "w [1, 5]\n",
      "calculate prob [1, 5]\n",
      "w [1, 5]\n",
      "calculate prob [1, 5]\n",
      "w [1, 5]\n",
      "calculate prob [1, 5]\n",
      "w [1, 5]\n",
      "calculate prob [1, 5]\n",
      "w [1, 5]\n",
      "calculate prob [1, 5]\n",
      "w [1, 5]\n",
      "calculate prob [1, 5]\n",
      "w [1, 5]\n",
      "calculate prob [1, 5]\n",
      "w [1, 5]\n",
      "calculate prob [1, 5]\n",
      "w [1, 5]\n",
      "iter 1\n",
      "0\n",
      "calculate prob [1, 5]\n",
      "w [1, 5]\n",
      "calculate prob [1, 5]\n",
      "w [1, 5]\n",
      "calculate prob [1, 5]\n",
      "w [1, 5]\n",
      "calculate prob [1, 5]\n",
      "w [1, 5]\n",
      "calculate prob [1, 5]\n",
      "w [1, 5]\n",
      "calculate prob [1, 5]\n",
      "w [1, 5]\n",
      "calculate prob [1, 5]\n",
      "w [1, 5]\n",
      "calculate prob [1, 5]\n",
      "w [1, 5]\n",
      "calculate prob [1, 5]\n",
      "w [1, 5]\n",
      "calculate prob [1, 5]\n",
      "w [1, 5]\n",
      "iter 2\n",
      "0\n",
      "calculate prob [1, 5]\n",
      "w [1, 5]\n",
      "calculate prob [1, 5]\n",
      "w [1, 5]\n",
      "calculate prob [1, 5]\n",
      "w [1, 5]\n",
      "calculate prob [1, 5]\n",
      "w [1, 5]\n",
      "calculate prob [1, 5]\n",
      "w [1, 5]\n",
      "calculate prob [1, 5]\n",
      "w [1, 5]\n",
      "calculate prob [1, 5]\n",
      "w [1, 5]\n",
      "calculate prob [1, 5]\n",
      "w [1, 5]\n",
      "calculate prob [1, 5]\n",
      "w [1, 5]\n",
      "calculate prob [1, 5]\n",
      "w [1, 5]\n",
      "iter 3\n",
      "0\n",
      "calculate prob [1, 5]\n",
      "w [1, 5]\n",
      "calculate prob [1, 5]\n",
      "w [1, 5]\n",
      "calculate prob [1, 5]\n",
      "w [1, 5]\n",
      "calculate prob [1, 5]\n",
      "w [1, 5]\n",
      "calculate prob [1, 5]\n",
      "w [1, 5]\n",
      "calculate prob [1, 5]\n",
      "w [1, 5]\n",
      "calculate prob [1, 5]\n",
      "w [1, 5]\n",
      "calculate prob [1, 5]\n",
      "w [1, 5]\n",
      "calculate prob [1, 5]\n",
      "w [1, 5]\n",
      "calculate prob [1, 5]\n",
      "w [1, 5]\n",
      "iter 4\n",
      "0\n",
      "calculate prob [1, 5]\n",
      "w [1, 5]\n",
      "calculate prob [1, 5]\n",
      "w [1, 5]\n",
      "calculate prob [1, 5]\n",
      "w [1, 5]\n",
      "calculate prob [1, 5]\n",
      "w [1, 5]\n",
      "calculate prob [1, 5]\n",
      "w [1, 5]\n",
      "calculate prob [1, 5]\n",
      "w [1, 5]\n",
      "calculate prob [1, 5]\n",
      "w [1, 5]\n",
      "calculate prob [1, 5]\n",
      "w [1, 5]\n",
      "calculate prob [1, 5]\n",
      "w [1, 5]\n",
      "calculate prob [1, 5]\n",
      "w [1, 5]\n",
      "iter 5\n",
      "0\n",
      "calculate prob [1, 5]\n",
      "w [1, 5]\n",
      "calculate prob [1, 5]\n",
      "w [1, 5]\n",
      "calculate prob [1, 5]\n",
      "w [1, 5]\n",
      "calculate prob [1, 5]\n",
      "w [1, 5]\n",
      "calculate prob [1, 5]\n",
      "w [1, 5]\n",
      "calculate prob [1, 5]\n",
      "w [1, 5]\n",
      "calculate prob [1, 5]\n",
      "w [1, 5]\n",
      "calculate prob [1, 5]\n",
      "w [1, 5]\n",
      "calculate prob [1, 5]\n",
      "w [1, 5]\n",
      "calculate prob [1, 5]\n",
      "w [1, 5]\n",
      "iter 6\n",
      "0\n",
      "calculate prob [1, 5]\n",
      "w [1, 5]\n",
      "calculate prob [1, 5]\n",
      "w [1, 5]\n",
      "calculate prob [1, 5]\n",
      "w [1, 5]\n",
      "calculate prob [1, 5]\n",
      "w [1, 5]\n",
      "calculate prob [1, 5]\n",
      "w [1, 5]\n",
      "calculate prob [1, 5]\n",
      "w [1, 5]\n",
      "calculate prob [1, 5]\n",
      "w [1, 5]\n",
      "calculate prob [1, 5]\n",
      "w [1, 5]\n",
      "calculate prob [1, 5]\n",
      "w [1, 5]\n",
      "calculate prob [1, 5]\n",
      "w [1, 5]\n",
      "iter 7\n",
      "0\n",
      "calculate prob [1, 5]\n",
      "w [1, 5]\n",
      "calculate prob [1, 5]\n",
      "w [1, 5]\n",
      "calculate prob [1, 5]\n",
      "w [1, 5]\n",
      "calculate prob [1, 5]\n",
      "w [1, 5]\n",
      "calculate prob [1, 5]\n",
      "w [1, 5]\n",
      "calculate prob [1, 5]\n",
      "w [1, 5]\n",
      "calculate prob [1, 5]\n",
      "w [1, 5]\n",
      "calculate prob [1, 5]\n",
      "w [1, 5]\n",
      "calculate prob [1, 5]\n",
      "w [1, 5]\n",
      "calculate prob [1, 5]\n",
      "w [1, 5]\n",
      "iter 8\n",
      "0\n",
      "calculate prob [1, 5]\n",
      "w [1, 5]\n",
      "calculate prob [1, 5]\n",
      "w [1, 5]\n",
      "calculate prob [1, 5]\n",
      "w [1, 5]\n",
      "calculate prob [1, 5]\n",
      "w [1, 5]\n",
      "calculate prob [1, 5]\n",
      "w [1, 5]\n",
      "calculate prob [1, 5]\n",
      "w [1, 5]\n",
      "calculate prob [1, 5]\n",
      "w [1, 5]\n",
      "calculate prob [1, 5]\n",
      "w [1, 5]\n",
      "calculate prob [1, 5]\n",
      "w [1, 5]\n",
      "calculate prob [1, 5]\n",
      "w [1, 5]\n",
      "iter 9\n",
      "0\n",
      "calculate prob [1, 5]\n",
      "w [1, 5]\n",
      "calculate prob [1, 5]\n",
      "w [1, 5]\n",
      "calculate prob [1, 5]\n",
      "w [1, 5]\n",
      "calculate prob [1, 5]\n",
      "w [1, 5]\n",
      "calculate prob [1, 5]\n",
      "w [1, 5]\n",
      "calculate prob [1, 5]\n",
      "w [1, 5]\n",
      "calculate prob [1, 5]\n",
      "w [1, 5]\n",
      "calculate prob [1, 5]\n",
      "w [1, 5]\n",
      "calculate prob [1, 5]\n",
      "w [1, 5]\n",
      "calculate prob [1, 5]\n",
      "w [1, 5]\n"
     ]
    }
   ],
   "source": [
    "\n",
    "def hitpath(G, s, e, max_steps = G.number_of_nodes()//2, max_iter = 10):\n",
    "    \n",
    "    for _ in range(max_iter):\n",
    "        print(f'iter {_}')\n",
    "        \n",
    "        # save route\n",
    "        route = [s] \n",
    "        step_counter = 0\n",
    "        \n",
    "        print(s)\n",
    "        # do random walk bounded by max_iter\n",
    "        while (step_counter < max_iter):\n",
    "            prob_neighbors = []\n",
    "            if route[-1] in G:\n",
    "                # see neighbors\n",
    "                neighbors = list(G.neighbors(route[-1]))\n",
    "                if neighbors:\n",
    "                    if len(neighbors) > 1:\n",
    "                        # calculate probability\n",
    "                        print('calculate prob', neighbors)\n",
    "                        # Your portion array\n",
    "                        \n",
    "                        # random_index = random.choices(range(len(prob_neighbors)), weights=prob_neighbors, k=1)[0]\n",
    "                    else:\n",
    "                        # can walk directly\n",
    "                        print('walk')\n",
    "                        route.append(neighbors[0])\n",
    "                        print('walk, ', route)\n",
    "                \n",
    "                print('w', neighbors)\n",
    "            \n",
    "            step_counter+=1\n",
    "hitpath(G, 0, 3)"
   ]
  },
  {
   "cell_type": "code",
   "execution_count": 115,
   "metadata": {},
   "outputs": [
    {
     "data": {
      "text/plain": [
       "[1, 5]"
      ]
     },
     "execution_count": 115,
     "metadata": {},
     "output_type": "execute_result"
    }
   ],
   "source": [
    "list(G.neighbors(0))"
   ]
  },
  {
   "cell_type": "code",
   "execution_count": null,
   "metadata": {},
   "outputs": [],
   "source": []
  }
 ],
 "metadata": {
  "kernelspec": {
   "display_name": "base",
   "language": "python",
   "name": "python3"
  },
  "language_info": {
   "codemirror_mode": {
    "name": "ipython",
    "version": 3
   },
   "file_extension": ".py",
   "mimetype": "text/x-python",
   "name": "python",
   "nbconvert_exporter": "python",
   "pygments_lexer": "ipython3",
   "version": "3.11.4"
  }
 },
 "nbformat": 4,
 "nbformat_minor": 2
}
