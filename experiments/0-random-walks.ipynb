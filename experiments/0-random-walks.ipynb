{
 "cells": [
  {
   "cell_type": "code",
   "execution_count": 1,
   "metadata": {},
   "outputs": [],
   "source": [
    "import networkx as nx\n",
    "import numpy as np"
   ]
  },
  {
   "cell_type": "code",
   "execution_count": 2,
   "metadata": {},
   "outputs": [],
   "source": [
    "def random_walk_with_restart(G, s, e, restart_prob=0.3, max_iter=100):\n",
    "    # Initialize probabilities\n",
    "    nodes = list(G.nodes())\n",
    "    prob = {node: 0 for node in nodes}\n",
    "    prob[s] = 1\n",
    "\n",
    "    for i in range(max_iter):\n",
    "        next_prob = {node: 0 for node in nodes}\n",
    "        \n",
    "        # Random walk step\n",
    "        for node in prob:\n",
    "            if node in G:\n",
    "                neighbors = list(G.neighbors(node))\n",
    "                if neighbors:\n",
    "                    shared_prob = (1 - restart_prob) * prob[node] / len(neighbors)\n",
    "                    for neighbor in neighbors:\n",
    "                        next_prob[neighbor] += shared_prob\n",
    "        \n",
    "        # Restart step\n",
    "        next_prob[s] += restart_prob * prob[s]\n",
    "\n",
    "        # Update probabilities\n",
    "        prob = next_prob\n",
    "\n",
    "        # Check for convergence (optional, for performance)\n",
    "        if np.allclose(list(prob.values()), list(next_prob.values()), atol=1e-6):\n",
    "            break\n",
    "\n",
    "    return round(prob[e], 2)\n"
   ]
  },
  {
   "cell_type": "code",
   "execution_count": 3,
   "metadata": {},
   "outputs": [
    {
     "data": {
      "text/plain": [
       "array([[0.3 , 0.35, 0.  , 0.  , 0.  , 0.35, 0.  , 0.  , 0.  , 0.  , 0.  ,\n",
       "        0.  , 0.  , 0.  , 0.  , 0.  , 0.  ],\n",
       "       [0.35, 0.3 , 0.35, 0.  , 0.  , 0.  , 0.  , 0.  , 0.  , 0.  , 0.  ,\n",
       "        0.  , 0.  , 0.  , 0.  , 0.  , 0.  ],\n",
       "       [0.  , 0.35, 0.3 , 0.35, 0.  , 0.  , 0.  , 0.  , 0.  , 0.  , 0.  ,\n",
       "        0.  , 0.  , 0.  , 0.  , 0.  , 0.  ],\n",
       "       [0.  , 0.  , 0.23, 0.3 , 0.23, 0.  , 0.  , 0.  , 0.  , 0.23, 0.  ,\n",
       "        0.  , 0.  , 0.  , 0.  , 0.  , 0.  ],\n",
       "       [0.  , 0.  , 0.  , 0.23, 0.3 , 0.23, 0.23, 0.  , 0.  , 0.  , 0.  ,\n",
       "        0.  , 0.  , 0.  , 0.  , 0.  , 0.  ],\n",
       "       [0.35, 0.  , 0.  , 0.  , 0.35, 0.3 , 0.  , 0.  , 0.  , 0.  , 0.  ,\n",
       "        0.  , 0.  , 0.  , 0.  , 0.  , 0.  ],\n",
       "       [0.  , 0.  , 0.  , 0.  , 0.35, 0.  , 0.3 , 0.35, 0.  , 0.  , 0.  ,\n",
       "        0.  , 0.  , 0.  , 0.  , 0.  , 0.  ],\n",
       "       [0.  , 0.  , 0.  , 0.  , 0.  , 0.  , 0.35, 0.3 , 0.35, 0.  , 0.  ,\n",
       "        0.  , 0.  , 0.  , 0.  , 0.  , 0.  ],\n",
       "       [0.  , 0.  , 0.  , 0.  , 0.  , 0.  , 0.  , 0.23, 0.3 , 0.23, 0.  ,\n",
       "        0.  , 0.  , 0.23, 0.  , 0.  , 0.  ],\n",
       "       [0.  , 0.  , 0.  , 0.23, 0.  , 0.  , 0.  , 0.  , 0.23, 0.3 , 0.23,\n",
       "        0.  , 0.  , 0.  , 0.  , 0.  , 0.  ],\n",
       "       [0.  , 0.  , 0.  , 0.  , 0.  , 0.  , 0.  , 0.  , 0.  , 0.35, 0.3 ,\n",
       "        0.35, 0.  , 0.  , 0.  , 0.  , 0.  ],\n",
       "       [0.  , 0.  , 0.  , 0.  , 0.  , 0.  , 0.  , 0.  , 0.  , 0.  , 0.35,\n",
       "        0.3 , 0.35, 0.  , 0.  , 0.  , 0.  ],\n",
       "       [0.  , 0.  , 0.  , 0.  , 0.  , 0.  , 0.  , 0.  , 0.  , 0.  , 0.  ,\n",
       "        0.23, 0.3 , 0.23, 0.23, 0.  , 0.  ],\n",
       "       [0.  , 0.  , 0.  , 0.  , 0.  , 0.  , 0.  , 0.  , 0.35, 0.  , 0.  ,\n",
       "        0.  , 0.35, 0.3 , 0.  , 0.  , 0.  ],\n",
       "       [0.  , 0.  , 0.  , 0.  , 0.  , 0.  , 0.  , 0.  , 0.  , 0.  , 0.  ,\n",
       "        0.  , 0.23, 0.  , 0.3 , 0.23, 0.23],\n",
       "       [0.  , 0.  , 0.  , 0.  , 0.  , 0.  , 0.  , 0.  , 0.  , 0.  , 0.  ,\n",
       "        0.  , 0.  , 0.  , 0.7 , 0.3 , 0.  ],\n",
       "       [0.  , 0.  , 0.  , 0.  , 0.  , 0.  , 0.  , 0.  , 0.  , 0.  , 0.  ,\n",
       "        0.  , 0.  , 0.  , 0.7 , 0.  , 0.3 ]])"
      ]
     },
     "execution_count": 3,
     "metadata": {},
     "output_type": "execute_result"
    }
   ],
   "source": [
    "# Define the edge index and create the graph\n",
    "edge_index = [\n",
    "    [ 0, 0, 1, 1, 2, 2, 3, 3, 3, 4, 4, 4, 5, 5, 6, 6, 7, 7, 8, 8, 8, 9, 9, 9, 10, 10, 11, 11, 12, 12, 12, 13, 13, 14, 14, 14, 15, 16 ],\n",
    "    [ 1, 5, 0, 2, 1, 3, 2, 4, 9, 3, 5, 6, 0, 4, 4, 7, 6, 8, 7, 9, 13, 3, 8, 10, 9, 11, 10, 12, 11, 13, 14, 8, 12, 12, 15, 16, 14, 14 ]\n",
    "]\n",
    "\n",
    "G = nx.Graph()\n",
    "for start, end in zip(*edge_index):\n",
    "    G.add_edge(start, end)\n",
    "\n",
    "# Define the node features (not used in RWR but given for context)\n",
    "node_features = [\n",
    "    [[ 1, 0, 0, 0, 0, 0, 0 ],\n",
    "    [ 1, 0, 0, 0, 0, 0, 0 ],\n",
    "    [ 1, 0, 0, 0, 0, 0, 0 ],\n",
    "    [ 1, 0, 0, 0, 0, 0, 0 ],\n",
    "    [ 1, 0, 0, 0, 0, 0, 0 ],\n",
    "    [ 1, 0, 0, 0, 0, 0, 0 ],\n",
    "    [ 1, 0, 0, 0, 0, 0, 0 ],\n",
    "    [ 1, 0, 0, 0, 0, 0, 0 ],\n",
    "    [ 1, 0, 0, 0, 0, 0, 0 ],\n",
    "    [ 1, 0, 0, 0, 0, 0, 0 ],\n",
    "    [ 1, 0, 0, 0, 0, 0, 0 ],\n",
    "    [ 1, 0, 0, 0, 0, 0, 0 ],\n",
    "    [ 1, 0, 0, 0, 0, 0, 0 ],\n",
    "    [ 0, 1, 0, 0, 0, 0, 0 ],\n",
    "    [ 0, 0, 1, 0, 0, 0, 0 ],\n",
    "    [ 0, 0, 1, 0, 0, 0, 0 ],]\n",
    "]\n",
    "\n",
    "# Applying RWR for all pairs of nodes\n",
    "num_nodes = len(G.nodes())\n",
    "rwr_matrix = np.zeros((num_nodes, num_nodes))\n",
    "\n",
    "for s in range(num_nodes):\n",
    "    for e in range(num_nodes):\n",
    "        rwr_matrix[s, e] = random_walk_with_restart(G, s, e)\n",
    "\n",
    "rwr_matrix\n"
   ]
  },
  {
   "cell_type": "code",
   "execution_count": 25,
   "metadata": {},
   "outputs": [],
   "source": [
    "def random_walk_with_restart_max_steps(G, s, e, max_steps=G.number_of_nodes()//2, max_iter=100):\n",
    "    nodes = list(G.nodes())\n",
    "    prob = {node: 0 for node in nodes}\n",
    "    prob[s] = 1\n",
    "\n",
    "    for _ in range(max_iter):\n",
    "        next_prob = {node: 0 for node in nodes}\n",
    "        step_counter = 0\n",
    "\n",
    "        for node in prob:\n",
    "            if node in G:\n",
    "                # limit step by K max_steps\n",
    "                # only consider valid steps\n",
    "                if step_counter < max_steps:\n",
    "                    # find neighbors\n",
    "                    neighbors = list(G.neighbors(node))\n",
    "                    if neighbors:\n",
    "                        shared_prob = prob[node] / len(neighbors)\n",
    "                        for neighbor in neighbors:\n",
    "                            next_prob[neighbor] += shared_prob\n",
    "                    step_counter += 1\n",
    "                else:\n",
    "                    # Restart from the starting node\n",
    "                    next_prob[s] = 1\n",
    "                    step_counter = 0\n",
    "\n",
    "        prob = next_prob\n",
    "\n",
    "        if np.allclose(list(prob.values()), list(next_prob.values()), atol=1e-6):\n",
    "            break\n",
    "\n",
    "    return round(prob[e],1)\n"
   ]
  },
  {
   "cell_type": "code",
   "execution_count": 23,
   "metadata": {},
   "outputs": [
    {
     "data": {
      "text/plain": [
       "{0: 0,\n",
       " 1: 0,\n",
       " 5: 0,\n",
       " 2: 0,\n",
       " 3: 0,\n",
       " 4: 0,\n",
       " 9: 0,\n",
       " 6: 0,\n",
       " 7: 0,\n",
       " 8: 0,\n",
       " 13: 0,\n",
       " 10: 0,\n",
       " 11: 0,\n",
       " 12: 0,\n",
       " 14: 0,\n",
       " 15: 0,\n",
       " 16: 0}"
      ]
     },
     "execution_count": 23,
     "metadata": {},
     "output_type": "execute_result"
    }
   ],
   "source": [
    "nodes = list(G.nodes())\n",
    "prob = {node: 0 for node in nodes}\n",
    "prob"
   ]
  },
  {
   "cell_type": "code",
   "execution_count": 36,
   "metadata": {},
   "outputs": [
    {
     "data": {
      "text/plain": [
       "[1, 5]"
      ]
     },
     "execution_count": 36,
     "metadata": {},
     "output_type": "execute_result"
    }
   ],
   "source": [
    "list(G.neighbors(0))"
   ]
  },
  {
   "cell_type": "code",
   "execution_count": 14,
   "metadata": {},
   "outputs": [
    {
     "data": {
      "text/plain": [
       "array([[1. , 0.5, 0. , 0. , 0. , 0.5, 0. , 0. , 0. , 0. , 0. , 0. , 0. ,\n",
       "        0. , 0. , 0. , 0. ],\n",
       "       [0.5, 1. , 0.5, 0. , 0. , 0. , 0. , 0. , 0. , 0. , 0. , 0. , 0. ,\n",
       "        0. , 0. , 0. , 0. ],\n",
       "       [0. , 0.5, 1. , 0.5, 0. , 0. , 0. , 0. , 0. , 0. , 0. , 0. , 0. ,\n",
       "        0. , 0. , 0. , 0. ],\n",
       "       [0. , 0. , 0.3, 1. , 0.3, 0. , 0. , 0. , 0. , 0.3, 0. , 0. , 0. ,\n",
       "        0. , 0. , 0. , 0. ],\n",
       "       [0. , 0. , 0. , 0.3, 1. , 0.3, 0.3, 0. , 0. , 0. , 0. , 0. , 0. ,\n",
       "        0. , 0. , 0. , 0. ],\n",
       "       [0.5, 0. , 0. , 0. , 0.5, 1. , 0. , 0. , 0. , 0. , 0. , 0. , 0. ,\n",
       "        0. , 0. , 0. , 0. ],\n",
       "       [0. , 0. , 0. , 0. , 0.5, 0. , 1. , 0.5, 0. , 0. , 0. , 0. , 0. ,\n",
       "        0. , 0. , 0. , 0. ],\n",
       "       [0. , 0. , 0. , 0. , 0. , 0. , 0. , 1. , 0. , 0. , 0. , 0. , 0. ,\n",
       "        0. , 0. , 0. , 0. ],\n",
       "       [0. , 0. , 0. , 0. , 0. , 0. , 0. , 0.3, 1. , 0.3, 0. , 0. , 0. ,\n",
       "        0.3, 0. , 0. , 0. ],\n",
       "       [0. , 0. , 0. , 0.3, 0. , 0. , 0. , 0. , 0.3, 1. , 0.3, 0. , 0. ,\n",
       "        0. , 0. , 0. , 0. ],\n",
       "       [0. , 0. , 0. , 0. , 0. , 0. , 0. , 0. , 0. , 0.5, 1. , 0.5, 0. ,\n",
       "        0. , 0. , 0. , 0. ],\n",
       "       [0. , 0. , 0. , 0. , 0. , 0. , 0. , 0. , 0. , 0. , 0.5, 1. , 0.5,\n",
       "        0. , 0. , 0. , 0. ],\n",
       "       [0. , 0. , 0. , 0. , 0. , 0. , 0. , 0. , 0. , 0. , 0. , 0.3, 1. ,\n",
       "        0.3, 0.3, 0. , 0. ],\n",
       "       [0. , 0. , 0. , 0. , 0. , 0. , 0. , 0. , 0.5, 0. , 0. , 0. , 0.5,\n",
       "        1. , 0. , 0. , 0. ],\n",
       "       [0. , 0. , 0. , 0. , 0. , 0. , 0. , 0. , 0. , 0. , 0. , 0. , 0.3,\n",
       "        0. , 1. , 0.3, 0.3],\n",
       "       [0. , 0. , 0. , 0. , 0. , 0. , 0. , 0. , 0. , 0. , 0. , 0. , 0. ,\n",
       "        0. , 1. , 1. , 0. ],\n",
       "       [0. , 0. , 0. , 0. , 0. , 0. , 0. , 0. , 0. , 0. , 0. , 0. , 0. ,\n",
       "        0. , 1. , 0. , 1. ]])"
      ]
     },
     "execution_count": 14,
     "metadata": {},
     "output_type": "execute_result"
    }
   ],
   "source": [
    "# Define the edge index and create the graph\n",
    "edge_index = [\n",
    "    [ 0, 0, 1, 1, 2, 2, 3, 3, 3, 4, 4, 4, 5, 5, 6, 6, 7, 7, 8, 8, 8, 9, 9, 9, 10, 10, 11, 11, 12, 12, 12, 13, 13, 14, 14, 14, 15, 16 ],\n",
    "    [ 1, 5, 0, 2, 1, 3, 2, 4, 9, 3, 5, 6, 0, 4, 4, 7, 6, 8, 7, 9, 13, 3, 8, 10, 9, 11, 10, 12, 11, 13, 14, 8, 12, 12, 15, 16, 14, 14 ]\n",
    "]\n",
    "\n",
    "G = nx.Graph()\n",
    "for start, end in zip(*edge_index):\n",
    "    G.add_edge(start, end)\n",
    "\n",
    "# Define the node features (not used in RWR but given for context)\n",
    "node_features = [\n",
    "    [[ 1, 0, 0, 0, 0, 0, 0 ],\n",
    "    [ 1, 0, 0, 0, 0, 0, 0 ],\n",
    "    [ 1, 0, 0, 0, 0, 0, 0 ],\n",
    "    [ 1, 0, 0, 0, 0, 0, 0 ],\n",
    "    [ 1, 0, 0, 0, 0, 0, 0 ],\n",
    "    [ 1, 0, 0, 0, 0, 0, 0 ],\n",
    "    [ 1, 0, 0, 0, 0, 0, 0 ],\n",
    "    [ 1, 0, 0, 0, 0, 0, 0 ],\n",
    "    [ 1, 0, 0, 0, 0, 0, 0 ],\n",
    "    [ 1, 0, 0, 0, 0, 0, 0 ],\n",
    "    [ 1, 0, 0, 0, 0, 0, 0 ],\n",
    "    [ 1, 0, 0, 0, 0, 0, 0 ],\n",
    "    [ 1, 0, 0, 0, 0, 0, 0 ],\n",
    "    [ 0, 1, 0, 0, 0, 0, 0 ],\n",
    "    [ 0, 0, 1, 0, 0, 0, 0 ],\n",
    "    [ 0, 0, 1, 0, 0, 0, 0 ],]\n",
    "]\n",
    "\n",
    "# Applying RWR for all pairs of nodes\n",
    "num_nodes = len(G.nodes())\n",
    "rwr_matrix = np.zeros((num_nodes, num_nodes))\n",
    "\n",
    "for s in range(num_nodes):\n",
    "    for e in range(num_nodes):\n",
    "        rwr_matrix[s, e] = random_walk_with_restart_max_steps(G, s, e)\n",
    "\n",
    "rwr_matrix\n"
   ]
  },
  {
   "cell_type": "code",
   "execution_count": null,
   "metadata": {},
   "outputs": [],
   "source": [
    "[[1. , 0.5, 0. , 0. , 0. , 0.5, 0. , 0. , 0. , 0. , 0. , 0. , 0. , 0. , 0. , 0. , 0. ],\n",
    " [0.5, 1. , 0.5, 0. , 0. , 0. , 0. , 0. , 0. , 0. , 0. , 0. , 0. , 0. , 0. , 0. , 0. ],\n",
    " [0. , 0.5, 1. , 0.5, 0. , 0. , 0. , 0. , 0. , 0. , 0. , 0. , 0. , 0. , 0. , 0. , 0. ],\n",
    " [0. , 0. , 0.3, 1. , 0.3, 0. , 0. , 0. , 0. , 0.3, 0. , 0. , 0. , 0. , 0. , 0. , 0. ],\n",
    " [0. , 0. , 0. , 0.3, 1. , 0.3, 0.3, 0. , 0. , 0. , 0. , 0. , 0. , 0. , 0. , 0. , 0. ],\n",
    " [0.5, 0. , 0. , 0. , 0.5, 1. , 0. , 0. , 0. , 0. , 0. , 0. , 0. , 0. , 0. , 0. , 0. ],\n",
    " [0. , 0. , 0. , 0. , 0.5, 0. , 1. , 0.5, 0. , 0. , 0. , 0. , 0. , 0. , 0. , 0. , 0. ],\n",
    " [0. , 0. , 0. , 0. , 0. , 0. , 0.5, 1. , 0.5, 0. , 0. , 0. , 0. , 0. , 0. , 0. , 0. ],\n",
    " [0. , 0. , 0. , 0. , 0. , 0. , 0. , 0.3, 1. , 0.3, 0. , 0. , 0. , 0.3, 0. , 0. , 0. ],\n",
    " [0. , 0. , 0. , 0.3, 0. , 0. , 0. , 0. , 0.3, 1. , 0.3, 0. , 0. , 0. , 0. , 0. , 0. ],\n",
    " [0. , 0. , 0. , 0. , 0. , 0. , 0. , 0. , 0. , 0.5, 1. , 0.5, 0. , 0. , 0. , 0. , 0. ],\n",
    " [0. , 0. , 0. , 0. , 0. , 0. , 0. , 0. , 0. , 0. , 0.5, 1. , 0.5, 0. , 0. , 0. , 0. ],\n",
    " [0. , 0. , 0. , 0. , 0. , 0. , 0. , 0. , 0. , 0. , 0. , 0.3, 1. , 0.3, 0.3, 0. , 0. ],\n",
    " [0. , 0. , 0. , 0. , 0. , 0. , 0. , 0. , 0. , 0. , 0. , 0. , 0. , 1. , 0. , 0. , 0. ],\n",
    " [0. , 0. , 0. , 0. , 0. , 0. , 0. , 0. , 0. , 0. , 0. , 0. , 0.3, 0. , 1. , 0.3, 0.3],\n",
    " [0. , 0. , 0. , 0. , 0. , 0. , 0. , 0. , 0. , 0. , 0. , 0. , 0. , 0. , 1. , 1. , 0. ],\n",
    " [0. , 0. , 0. , 0. , 0. , 0. , 0. , 0. , 0. , 0. , 0. , 0. , 0. , 0. , 1. , 0. , 1. ]]"
   ]
  },
  {
   "cell_type": "code",
   "execution_count": 12,
   "metadata": {},
   "outputs": [
    {
     "data": {
      "text/plain": [
       "17"
      ]
     },
     "execution_count": 12,
     "metadata": {},
     "output_type": "execute_result"
    }
   ],
   "source": [
    "G.number_of_nodes()"
   ]
  }
 ],
 "metadata": {
  "kernelspec": {
   "display_name": "base",
   "language": "python",
   "name": "python3"
  },
  "language_info": {
   "codemirror_mode": {
    "name": "ipython",
    "version": 3
   },
   "file_extension": ".py",
   "mimetype": "text/x-python",
   "name": "python",
   "nbconvert_exporter": "python",
   "pygments_lexer": "ipython3",
   "version": "3.11.4"
  }
 },
 "nbformat": 4,
 "nbformat_minor": 2
}
